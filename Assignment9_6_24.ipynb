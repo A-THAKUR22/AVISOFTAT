{
  "nbformat": 4,
  "nbformat_minor": 0,
  "metadata": {
    "colab": {
      "provenance": [],
      "authorship_tag": "ABX9TyPKrXhbD7PTuOktFmycC0Ue",
      "include_colab_link": true
    },
    "kernelspec": {
      "name": "python3",
      "display_name": "Python 3"
    },
    "language_info": {
      "name": "python"
    }
  },
  "cells": [
    {
      "cell_type": "markdown",
      "metadata": {
        "id": "view-in-github",
        "colab_type": "text"
      },
      "source": [
        "<a href=\"https://colab.research.google.com/github/A-THAKUR22/AVISOFTAT/blob/main/Assignment9_6_24.ipynb\" target=\"_parent\"><img src=\"https://colab.research.google.com/assets/colab-badge.svg\" alt=\"Open In Colab\"/></a>"
      ]
    },
    {
      "cell_type": "markdown",
      "source": [
        "Copy the contents of a file to another file"
      ],
      "metadata": {
        "id": "97uQqiNmT3dZ"
      }
    },
    {
      "cell_type": "code",
      "execution_count": 5,
      "metadata": {
        "colab": {
          "base_uri": "https://localhost:8080/"
        },
        "id": "w805zjDEType",
        "outputId": "71a17035-c17b-4a4f-895c-e48df528915d"
      },
      "outputs": [
        {
          "output_type": "stream",
          "name": "stdout",
          "text": [
            "Text file 'Newfile.txt' has been created.\n",
            "Text file 'Myfile.txt' has been created.\n",
            "Contents of Newfile.txt copied to Myfile.txt successfully.\n"
          ]
        }
      ],
      "source": [
        "filename=\"Newfile.txt\"\n",
        "with open(filename,'w') as file:\n",
        "  file.write(\"This is a new text file.\")\n",
        "print(f\"Text file '{filename}' has been created.\")\n",
        "filenamenew=\"Myfile.txt\"\n",
        "with open(filename,'w') as file:\n",
        "  file.write(\"This is a second text file.\")\n",
        "print(f\"Text file '{filenamenew}' has been created.\")\n",
        "\n",
        "\n",
        "try:\n",
        "\n",
        "        with open(filename, 'r') as source:\n",
        "\n",
        "            contents = source.read()\n",
        "\n",
        "\n",
        "        with open(filenamenew, 'w') as destination:\n",
        "\n",
        "            destination.write(contents)\n",
        "\n",
        "        print(f\"Contents of {filename} copied to {filenamenew} successfully.\")\n",
        "\n",
        "except FileNotFoundError:\n",
        "        print(\"One of the files does not exist.\")\n"
      ]
    },
    {
      "cell_type": "markdown",
      "source": [
        "Combine each line from first file with the corresponding line in second file"
      ],
      "metadata": {
        "id": "5YHlRqaPYntJ"
      }
    },
    {
      "cell_type": "code",
      "source": [
        "with open(filename,'r') as file1, open(filenamenew ,'r') as file2:\n",
        "  for line1,line2 in zip(file1,file2):\n",
        "    combined_line=line1.strip()+\" \"+line2.strip()\n",
        "  print(f\"The lines in {filename} is combined with line in {filenamenew}.\")"
      ],
      "metadata": {
        "colab": {
          "base_uri": "https://localhost:8080/"
        },
        "id": "iZiHvpKLYvoF",
        "outputId": "196612cc-7eca-4ca0-e991-451fae111e5b"
      },
      "execution_count": 8,
      "outputs": [
        {
          "output_type": "stream",
          "name": "stdout",
          "text": [
            "The lines in Newfile.txt is combined with line in Myfile.txt.\n"
          ]
        }
      ]
    },
    {
      "cell_type": "markdown",
      "source": [
        "Write 10 random numbers into a file. Read the file and then sort the numbers and then store it to another file"
      ],
      "metadata": {
        "id": "h34L2T96aBFd"
      }
    },
    {
      "cell_type": "code",
      "source": [
        "import random\n",
        "\n",
        "with open(filename,'w') as file:\n",
        "  random_num=[random.randint(1,100) for _ in range(10)]\n",
        "  new_random=sorted(random_num)\n",
        "  for number in new_random:\n",
        "    file.write(str(number)+'\\n')\n",
        "print(f\"Sorted random numbers have been written to '{filename}'.\")\n"
      ],
      "metadata": {
        "colab": {
          "base_uri": "https://localhost:8080/"
        },
        "id": "X9RP1dYxaIaB",
        "outputId": "8b584f58-550a-4601-e95d-25615fd00d18"
      },
      "execution_count": 10,
      "outputs": [
        {
          "output_type": "stream",
          "name": "stdout",
          "text": [
            "Sorted random numbers have been written to 'Newfile.txt'.\n"
          ]
        }
      ]
    },
    {
      "cell_type": "markdown",
      "source": [
        "Read through the mbox-short.txt and\n",
        "figure out the distribution by hour of the day for each of the messages."
      ],
      "metadata": {
        "id": "7rPybeXImaEj"
      }
    },
    {
      "cell_type": "code",
      "source": [
        "with open('mbox-short.txt','r') as file:\n",
        "  counts={}\n",
        "  for line in file:\n",
        "    if line.startswith(\"From \"):\n",
        "      words=line.split()\n",
        "      time_p=words[5].split(\":\")\n",
        "      hours=time_p[0]\n",
        "      counts[hours]=counts.get(hours,0)+1\n",
        "\n",
        "for hour in sorted(counts.keys()):\n",
        "    print(hour, counts[hour])"
      ],
      "metadata": {
        "colab": {
          "base_uri": "https://localhost:8080/"
        },
        "id": "vlRxRrgomcx2",
        "outputId": "103c6279-c098-407b-fd9e-68e96f0f3f61"
      },
      "execution_count": 24,
      "outputs": [
        {
          "output_type": "stream",
          "name": "stdout",
          "text": [
            "['From', 'cwen@iupui.edu', 'Thu', 'Jan', '3', '16:23:48', '2008']\n",
            "['16', '23', '48']\n",
            "16\n",
            "04 3\n",
            "06 1\n",
            "07 1\n",
            "09 2\n",
            "10 3\n",
            "11 6\n",
            "14 1\n",
            "15 2\n",
            "16 4\n",
            "17 2\n",
            "18 1\n",
            "19 1\n"
          ]
        }
      ]
    },
    {
      "cell_type": "markdown",
      "source": [
        "Function which count number of lines and number of words in a text. All the files are in the data the folder:\n",
        "a) Read obama_speech.txt file and count number of lines and words\n",
        " b) Read michelle_obama_speech.txt file and count number of lines and\n",
        " words\n",
        " c) Read donald_speech.txt file and count number of lines and words\n",
        " d) Read melina_trump_speech.txt file and count number of lines and words"
      ],
      "metadata": {
        "id": "EgkAHzHdp_k2"
      }
    },
    {
      "cell_type": "code",
      "source": [
        "def words_line(filename):\n",
        "  with open(filename,'r') as file:\n",
        "    countw=0\n",
        "    countl=0\n",
        "    for line in file:\n",
        "      countl+=1\n",
        "      words=line.split()\n",
        "      for word in words:\n",
        "        countw+=1\n",
        "\n",
        "    print(f\"Words in {filename}:{countw}\")\n",
        "    print(f\"Lines in {filename}:{countl}\")\n",
        "words_line(\"obama_speech.txt\")\n",
        "words_line(\"michelle_obama_speech.txt\")\n",
        "words_line(\"donald_speech.txt\")\n",
        "words_line(\"melina_trump_speech.txt\")\n"
      ],
      "metadata": {
        "colab": {
          "base_uri": "https://localhost:8080/"
        },
        "id": "ViUdXazRpjOU",
        "outputId": "1284a99e-48c7-4a94-8cfa-5c3fe3be3b36"
      },
      "execution_count": 34,
      "outputs": [
        {
          "output_type": "stream",
          "name": "stdout",
          "text": [
            "Words in obama_speech.txt:2400\n",
            "Lines in obama_speech.txt:66\n",
            "Words in michelle_obama_speech.txt:2204\n",
            "Lines in michelle_obama_speech.txt:83\n",
            "Words in donald_speech.txt:1259\n",
            "Lines in donald_speech.txt:48\n",
            "Words in melina_trump_speech.txt:1375\n",
            "Lines in melina_trump_speech.txt:33\n"
          ]
        }
      ]
    },
    {
      "cell_type": "markdown",
      "source": [
        "Most common words in the English language"
      ],
      "metadata": {
        "id": "63Lc4DdDtVgo"
      }
    },
    {
      "cell_type": "code",
      "source": [
        "import re\n",
        "from collections import Counter\n",
        "def find_most_common_words(filename,n):\n",
        "  with open(filename,'r') as file:\n",
        "    text=file.read()\n",
        "    words=re.findall(r'\\b\\w+\\b', text.lower())\n",
        "    count=Counter(words)\n",
        "    most_common_words = count.most_common(n)\n",
        "    return most_common_words\n",
        "find_most_common_words('obama_speech.txt',10)\n",
        ""
      ],
      "metadata": {
        "colab": {
          "base_uri": "https://localhost:8080/"
        },
        "id": "9WpxPS2guO6D",
        "outputId": "d0464f5e-92f9-463f-d48f-13f67c810d4d"
      },
      "execution_count": 28,
      "outputs": [
        {
          "output_type": "execute_result",
          "data": {
            "text/plain": [
              "[('the', 129),\n",
              " ('and', 113),\n",
              " ('of', 81),\n",
              " ('to', 70),\n",
              " ('our', 67),\n",
              " ('we', 62),\n",
              " ('that', 50),\n",
              " ('a', 48),\n",
              " ('is', 36),\n",
              " ('in', 25)]"
            ]
          },
          "metadata": {},
          "execution_count": 28
        }
      ]
    },
    {
      "cell_type": "markdown",
      "source": [
        "Compute the net amount of a bank account based a transaction log from console input"
      ],
      "metadata": {
        "id": "HyVNMBSBxZBX"
      }
    },
    {
      "cell_type": "code",
      "source": [
        "def transactions(transaction_log):\n",
        "  transactions=transaction_log.split()\n",
        "  net_amount=0\n",
        "  for i in range(0, len(transactions), 2):\n",
        "    transaction_type=transactions[i]\n",
        "    amount=transactions[i+1]\n",
        "    if transaction_type==\"D\":\n",
        "      net_amount+=int(amount)\n",
        "    elif transaction_type==\"W\":\n",
        "      net_amount-=int(amount)\n",
        "    else:\n",
        "      print(\"Enter valid transaction type\")\n",
        "  return net_amount\n",
        "\n",
        "transaction_log=input(\"Enter the transaction:\")\n",
        "result=transactions(transaction_log)\n",
        "print(result)"
      ],
      "metadata": {
        "colab": {
          "base_uri": "https://localhost:8080/"
        },
        "id": "FGr8TWfbzCnl",
        "outputId": "1f4b28ce-49d2-4d88-b9e7-262f4d675299"
      },
      "execution_count": 33,
      "outputs": [
        {
          "output_type": "stream",
          "name": "stdout",
          "text": [
            "Enter the transaction:D 200 D 200 \n",
            "400\n"
          ]
        }
      ]
    },
    {
      "cell_type": "markdown",
      "source": [
        "Print the company name of a given email address"
      ],
      "metadata": {
        "id": "K8vQBOVZ1QiV"
      }
    },
    {
      "cell_type": "code",
      "source": [
        "def company_name(email):\n",
        "  for i in range(len(email)):\n",
        "    for j in range(len(email)):\n",
        "      if email[i]==\"@\" and email[j]==\".\":\n",
        "        company=email[i+1:j]\n",
        "  return company\n",
        "email_address=input(\"Enter the email address :\")\n",
        "company_name(email_address)\n"
      ],
      "metadata": {
        "colab": {
          "base_uri": "https://localhost:8080/",
          "height": 55
        },
        "id": "279YDheM1qqr",
        "outputId": "cbf1313a-eddd-492e-8707-df6885472a2f"
      },
      "execution_count": 41,
      "outputs": [
        {
          "name": "stdout",
          "output_type": "stream",
          "text": [
            "Enter the email address :john@google.com\n"
          ]
        },
        {
          "output_type": "execute_result",
          "data": {
            "text/plain": [
              "'google'"
            ],
            "application/vnd.google.colaboratory.intrinsic+json": {
              "type": "string"
            }
          },
          "metadata": {},
          "execution_count": 41
        }
      ]
    }
  ]
}