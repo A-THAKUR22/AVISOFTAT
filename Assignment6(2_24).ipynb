{
  "nbformat": 4,
  "nbformat_minor": 0,
  "metadata": {
    "colab": {
      "provenance": [],
      "authorship_tag": "ABX9TyP+2Fj6gnCQzM28ee2LAEwR",
      "include_colab_link": true
    },
    "kernelspec": {
      "name": "python3",
      "display_name": "Python 3"
    },
    "language_info": {
      "name": "python"
    }
  },
  "cells": [
    {
      "cell_type": "markdown",
      "metadata": {
        "id": "view-in-github",
        "colab_type": "text"
      },
      "source": [
        "<a href=\"https://colab.research.google.com/github/A-THAKUR22/AVISOFTAT/blob/main/Assignment6(2_24).ipynb\" target=\"_parent\"><img src=\"https://colab.research.google.com/assets/colab-badge.svg\" alt=\"Open In Colab\"/></a>"
      ]
    },
    {
      "cell_type": "markdown",
      "source": [
        "Program to display the namespace of the class"
      ],
      "metadata": {
        "id": "YJ5suUugdtc1"
      }
    },
    {
      "cell_type": "code",
      "execution_count": null,
      "metadata": {
        "colab": {
          "base_uri": "https://localhost:8080/"
        },
        "id": "sp5RcINTdrin",
        "outputId": "bbcd5359-8f5c-4c77-f58e-b052b1f284c9"
      },
      "outputs": [
        {
          "output_type": "stream",
          "name": "stdout",
          "text": [
            "Enter the name of person:deepak\n",
            "My name is deepak.\n",
            "{'__module__': '__main__', '__init__': <function first.__init__ at 0x79941591b6d0>, 'show': <function first.show at 0x79941591b910>, '__dict__': <attribute '__dict__' of 'first' objects>, '__weakref__': <attribute '__weakref__' of 'first' objects>, '__doc__': None}\n"
          ]
        }
      ],
      "source": [
        "\n",
        "class first:\n",
        "  def __init__(self,name):\n",
        "    self.name=input(\"Enter the name of person:\")\n",
        "  def show(self):\n",
        "    print(f\"My name is {self.name}.\")\n",
        "n=first(\"Sample\")\n",
        "n.show()\n",
        "class_namespace=first.__dict__\n",
        "\n",
        "print(class_namespace)\n",
        "\n",
        "\n",
        "\n"
      ]
    },
    {
      "cell_type": "code",
      "source": [
        "dir(first)"
      ],
      "metadata": {
        "colab": {
          "base_uri": "https://localhost:8080/"
        },
        "id": "N9GKepHPuAbJ",
        "outputId": "e972edca-37e5-4368-a696-37245e0674ed"
      },
      "execution_count": null,
      "outputs": [
        {
          "output_type": "execute_result",
          "data": {
            "text/plain": [
              "['__class__',\n",
              " '__delattr__',\n",
              " '__dict__',\n",
              " '__dir__',\n",
              " '__doc__',\n",
              " '__eq__',\n",
              " '__format__',\n",
              " '__ge__',\n",
              " '__getattribute__',\n",
              " '__gt__',\n",
              " '__hash__',\n",
              " '__init__',\n",
              " '__init_subclass__',\n",
              " '__le__',\n",
              " '__lt__',\n",
              " '__module__',\n",
              " '__ne__',\n",
              " '__new__',\n",
              " '__reduce__',\n",
              " '__reduce_ex__',\n",
              " '__repr__',\n",
              " '__setattr__',\n",
              " '__sizeof__',\n",
              " '__str__',\n",
              " '__subclasshook__',\n",
              " '__weakref__',\n",
              " 'show']"
            ]
          },
          "metadata": {},
          "execution_count": 21
        }
      ]
    },
    {
      "cell_type": "code",
      "source": [
        "first.__module__"
      ],
      "metadata": {
        "colab": {
          "base_uri": "https://localhost:8080/",
          "height": 36
        },
        "id": "sfWTqekFu57z",
        "outputId": "975aae89-6a9a-4b96-97f2-3981e32992b9"
      },
      "execution_count": null,
      "outputs": [
        {
          "output_type": "execute_result",
          "data": {
            "text/plain": [
              "'__main__'"
            ],
            "application/vnd.google.colaboratory.intrinsic+json": {
              "type": "string"
            }
          },
          "metadata": {},
          "execution_count": 22
        }
      ]
    },
    {
      "cell_type": "markdown",
      "source": [
        "Program to cretae instance of class and displaying its namespace\n"
      ],
      "metadata": {
        "id": "k2NkMWFkjJGF"
      }
    },
    {
      "cell_type": "code",
      "source": [
        "class first:\n",
        "  def __init__(self,name):\n",
        "    self.name=input(\"Enter the name of person:\")\n",
        "  def show(self):\n",
        "    print(f\"My name is {self.name}.\")\n",
        "n=first(\"Sample\")\n",
        "n.show()\n",
        "\n",
        "instance_namespace=n.__dict__\n",
        "\n",
        "print(instance_namespace)\n"
      ],
      "metadata": {
        "colab": {
          "base_uri": "https://localhost:8080/"
        },
        "id": "7e8nfbEsje5h",
        "outputId": "11ebd400-efc2-4769-e380-cfc844c7e68d"
      },
      "execution_count": null,
      "outputs": [
        {
          "output_type": "stream",
          "name": "stdout",
          "text": [
            "Enter the name of person:Jon\n",
            "My name is Jon.\n",
            "{'name': 'Jon'}\n"
          ]
        }
      ]
    },
    {
      "cell_type": "markdown",
      "source": [
        "Prigram to creta two empty classes and checking their corresponding instances belonging to the class and checking the classes being subclasses of class object"
      ],
      "metadata": {
        "id": "5T5m1lL_j62S"
      }
    },
    {
      "cell_type": "code",
      "source": [
        "class Student:\n",
        "  pass\n",
        "class Marks:\n",
        "  pass\n",
        "a=Student()\n",
        "b=Marks()\n",
        "first_inamespace=a.__dict__\n",
        "second_inamespace=b.__dict__\n",
        "if isinstance(a,Student) and issubclass(Student,object):\n",
        "  print(True)\n",
        "else:\n",
        "  print(False)\n",
        "if isinstance(b,Marks) and issubclass(Marks,object):\n",
        "  print(\"1\")\n",
        "else:\n",
        "  print(\"Nope\")\n",
        "\n",
        "\n"
      ],
      "metadata": {
        "colab": {
          "base_uri": "https://localhost:8080/"
        },
        "id": "coXl2HfSkLHF",
        "outputId": "71a2cf85-e695-4fca-8771-f631461438b3"
      },
      "execution_count": null,
      "outputs": [
        {
          "output_type": "stream",
          "name": "stdout",
          "text": [
            "True\n",
            "1\n"
          ]
        }
      ]
    },
    {
      "cell_type": "markdown",
      "source": [
        "Passing attributes to class and dsiplaying the attribute and the values of the class\n"
      ],
      "metadata": {
        "id": "ViwkV6eIrm32"
      }
    },
    {
      "cell_type": "code",
      "source": [
        "class Student:\n",
        "  def __init__(self,student_id,student_name):\n",
        "    self.student_id=student_id\n",
        "    self.student_name=student_name\n",
        "s=Student(\"1234\",\"Jim\")\n",
        "print(\"Before\")\n",
        "instance_name=s.__dict__\n",
        "print(instance_name)\n",
        "\n",
        "s.student_class=\"12th\"\n",
        "print(\"After\")\n",
        "print(instance_name)\n",
        "\n",
        "del s.student_name\n",
        "print(instance_name)\n",
        "\n",
        "\n"
      ],
      "metadata": {
        "colab": {
          "base_uri": "https://localhost:8080/"
        },
        "id": "e4abQUELsAFM",
        "outputId": "b9ab045c-4694-4ab3-fc6c-d9ced7c295b6"
      },
      "execution_count": null,
      "outputs": [
        {
          "output_type": "stream",
          "name": "stdout",
          "text": [
            "Before\n",
            "{'student_id': '1234', 'student_name': 'Jim'}\n",
            "After\n",
            "{'student_id': '1234', 'student_name': 'Jim', 'student_class': '12th'}\n",
            "{'student_id': '1234', 'student_class': '12th'}\n"
          ]
        }
      ]
    },
    {
      "cell_type": "markdown",
      "source": [
        "Check validity of string"
      ],
      "metadata": {
        "id": "QbLZ-8jZwifq"
      }
    },
    {
      "cell_type": "code",
      "source": [
        "class Paranthesis:\n",
        "  def __init__(self):\n",
        "    self.string1=input(\"Enter the string of ():\")\n",
        "    self.opening={\"(\",\"[\",\"{\"}\n",
        "    self.closing={')':'(', ']':'[', '}':'{'}\n",
        "\n",
        "  def isvalid(self):\n",
        "    items=[]\n",
        "    for char in self.string1:\n",
        "      if char in self.opening:\n",
        "        items.append(char)\n",
        "      elif char in self.closing:\n",
        "        if not items or items.pop() != self.closing[char]:\n",
        "          return False\n",
        "        else:\n",
        "          continue\n",
        "    return not items\n",
        "\n",
        "\n",
        "p=Paranthesis()\n",
        "p.isvalid()\n",
        "\n",
        "\n",
        "\n",
        "\n"
      ],
      "metadata": {
        "id": "Bg4MGCQGwmSw",
        "colab": {
          "base_uri": "https://localhost:8080/"
        },
        "outputId": "154dcf83-6eb7-44ba-e70a-143731d057a8"
      },
      "execution_count": null,
      "outputs": [
        {
          "name": "stdout",
          "output_type": "stream",
          "text": [
            "Enter the string of ():(())\n"
          ]
        },
        {
          "output_type": "execute_result",
          "data": {
            "text/plain": [
              "True"
            ]
          },
          "metadata": {},
          "execution_count": 51
        }
      ]
    },
    {
      "cell_type": "markdown",
      "source": [
        "Employee class"
      ],
      "metadata": {
        "id": "pVqs75FiVOKJ"
      }
    },
    {
      "cell_type": "code",
      "source": [
        "class Employee:\n",
        "  def __init__(self,emp_id,emp_name,emp_salary,emp_department):\n",
        "    self.emp_id=emp_id\n",
        "    self.emp_name=emp_name\n",
        "    self.emp_salary=emp_salary\n",
        "    self.emp_department=emp_department\n",
        "\n",
        "  def calculate_emp_salary(self,hours_worked):\n",
        "\n",
        "    if hours_worked>50:\n",
        "      overtime=hours_worked-50\n",
        "      Overtime_amount=(overtime*(self.emp_salary/50))\n",
        "      self.emp_salary+=Overtime_amount\n",
        "    print(f\"The salary for overtime is {self.emp_salary}\\n\")\n",
        "\n",
        "\n",
        "  def assign_department(self,new_department):\n",
        "\n",
        "    self.emp_department=new_department\n",
        "    return self.print_employee_details()\n",
        "\n",
        "  def print_employee_details(self):\n",
        "    print(f\"Name:{self.emp_name}\")\n",
        "    print(f\"ID:{self.emp_id}\")\n",
        "    print(f\"Salary:{self.emp_salary}\")\n",
        "    print(f\"Department:{self.emp_department}\\n\")\n",
        "\n",
        "\n",
        "e1=Employee(\"ADAMS\",\"E7876\",50000,\"ACCOUNTING\")\n",
        "e2=Employee(\"JONES\",\"E7499\",45000,\"RESEARCH\")\n",
        "e3=Employee(\"MARTIN\",\"E7900\",50000,\"SALES\")\n",
        "e4=Employee(\"SMITH\",\"E7698\",55000,\"OPERATIONS\")\n",
        "\n",
        "e1.print_employee_details()\n",
        "e2.print_employee_details()\n",
        "e3.print_employee_details()\n",
        "e4.print_employee_details()\n",
        "\n",
        "e1.calculate_emp_salary(50)\n",
        "e2.calculate_emp_salary(90)\n",
        "\n",
        "e3.assign_department(\"HR\")\n",
        "\n",
        "\n",
        "\n",
        "\n"
      ],
      "metadata": {
        "colab": {
          "base_uri": "https://localhost:8080/"
        },
        "id": "-OLyDCJuVXel",
        "outputId": "9f88da28-e7d1-41fd-c9df-811a3861ee00"
      },
      "execution_count": null,
      "outputs": [
        {
          "output_type": "stream",
          "name": "stdout",
          "text": [
            "Name:E7876\n",
            "ID:ADAMS\n",
            "Salary:50000\n",
            "Department:ACCOUNTING\n",
            "\n",
            "Name:E7499\n",
            "ID:JONES\n",
            "Salary:45000\n",
            "Department:RESEARCH\n",
            "\n",
            "Name:E7900\n",
            "ID:MARTIN\n",
            "Salary:50000\n",
            "Department:SALES\n",
            "\n",
            "Name:E7698\n",
            "ID:SMITH\n",
            "Salary:55000\n",
            "Department:OPERATIONS\n",
            "\n",
            "The salary for overtime is 50000\n",
            "\n",
            "The salary for overtime is 81000.0\n",
            "\n",
            "Name:E7900\n",
            "ID:MARTIN\n",
            "Salary:50000\n",
            "Department:HR\n",
            "\n"
          ]
        }
      ]
    },
    {
      "cell_type": "markdown",
      "source": [
        "Class Restaurant"
      ],
      "metadata": {
        "id": "5IQUmB_CfjFf"
      }
    },
    {
      "cell_type": "code",
      "source": [
        "class Restaurant:\n",
        "  def __init__(self):\n",
        "    self.menu_items=[]\n",
        "    self.book_table={key: False for key in range(1,20)}\n",
        "    self.customer_order=[]\n",
        "  def add_item_to_menu(self):\n",
        "    food_number=int(input(\"Enter the number of food items in:\"))\n",
        "    the_menu={}\n",
        "    for i in range(food_number):\n",
        "      food=input(f\"Enter the food {i+1}:\")\n",
        "      self.menu_items.append(food)\n",
        "    for index,value in enumerate(self.menu_items):\n",
        "      the_menu[f'Item {index+1}']=value\n",
        "    print(the_menu)\n",
        "\n",
        "  def book_tables(self,table_number,reservation_status):\n",
        "    if table_number in self.book_table:\n",
        "      if self.book_table[table_number]==False:\n",
        "        self.book_table[table_number]=reservation_status\n",
        "        print(\"Table Booked\")\n",
        "      else:\n",
        "        print(\"Table not available.\")\n",
        "    else:\n",
        "      print(\"Make a valid choice!\")\n",
        "    print(self.book_table)\n",
        "\n",
        "  def customer_orders(self):\n",
        "    orders=int(input(\"Enter number of customer orders:\"))\n",
        "    the_order={}\n",
        "    for j in range(orders):\n",
        "      F_order=input(f\"Enter the order number {j+1}:\")\n",
        "      self.customer_order.append(F_order)\n",
        "    for index,value in enumerate(self.customer_order):\n",
        "      the_order[f'Order {index+1}']=value\n",
        "    print(the_order)\n",
        "\n",
        "\n",
        "\n",
        "\n",
        "r=Restaurant()\n",
        "r.add_item_to_menu()\n",
        "r.customer_orders()\n",
        "r.book_tables(1,True)\n",
        "r.book_tables(3,True)\n",
        "r.book_tables(5,False)\n",
        "\n"
      ],
      "metadata": {
        "colab": {
          "base_uri": "https://localhost:8080/"
        },
        "id": "6VGdUE3LgJkY",
        "outputId": "03fdff0c-89c2-4871-8eed-ee944e8e1c0a"
      },
      "execution_count": null,
      "outputs": [
        {
          "output_type": "stream",
          "name": "stdout",
          "text": [
            "Enter the number of food items in:4\n",
            "Enter the food 1:Rice\n",
            "Enter the food 2:Paneer\n",
            "Enter the food 3:Fish\n",
            "Enter the food 4:Pizza\n",
            "{'Item 1': 'Rice', 'Item 2': 'Paneer', 'Item 3': 'Fish', 'Item 4': 'Pizza'}\n",
            "Enter number of customer orders:1\n",
            "Enter the order number 1:Fish\n",
            "{'Order 1': 'Fish'}\n",
            "Table Booked\n",
            "{1: True, 2: False, 3: False, 4: False, 5: False, 6: False, 7: False, 8: False, 9: False, 10: False, 11: False, 12: False, 13: False, 14: False, 15: False, 16: False, 17: False, 18: False, 19: False}\n",
            "Table Booked\n",
            "{1: True, 2: False, 3: True, 4: False, 5: False, 6: False, 7: False, 8: False, 9: False, 10: False, 11: False, 12: False, 13: False, 14: False, 15: False, 16: False, 17: False, 18: False, 19: False}\n",
            "Table Booked\n",
            "{1: True, 2: False, 3: True, 4: False, 5: False, 6: False, 7: False, 8: False, 9: False, 10: False, 11: False, 12: False, 13: False, 14: False, 15: False, 16: False, 17: False, 18: False, 19: False}\n"
          ]
        }
      ]
    },
    {
      "cell_type": "markdown",
      "source": [
        "if any(value1 == value2 for value1 in self.the_menu.values() for value2 in the_order.values()):\n",
        "      print(\"Order is available\")\n",
        "    else:\n",
        "      print(\"Item Out of STOCK!!\")  "
      ],
      "metadata": {
        "id": "cYnf-dZS9n3L"
      }
    }
  ]
}