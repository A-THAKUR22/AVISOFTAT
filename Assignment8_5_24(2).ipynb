{
  "nbformat": 4,
  "nbformat_minor": 0,
  "metadata": {
    "colab": {
      "provenance": [],
      "authorship_tag": "ABX9TyP6U1YASUOTdo42CTGVXRxc",
      "include_colab_link": true
    },
    "kernelspec": {
      "name": "python3",
      "display_name": "Python 3"
    },
    "language_info": {
      "name": "python"
    }
  },
  "cells": [
    {
      "cell_type": "markdown",
      "metadata": {
        "id": "view-in-github",
        "colab_type": "text"
      },
      "source": [
        "<a href=\"https://colab.research.google.com/github/A-THAKUR22/AVISOFTAT/blob/main/Assignment8_5_24(2).ipynb\" target=\"_parent\"><img src=\"https://colab.research.google.com/assets/colab-badge.svg\" alt=\"Open In Colab\"/></a>"
      ]
    },
    {
      "cell_type": "markdown",
      "source": [
        "Reading from CSV file"
      ],
      "metadata": {
        "id": "ezMuguTQibEv"
      }
    },
    {
      "cell_type": "code",
      "execution_count": null,
      "metadata": {
        "colab": {
          "base_uri": "https://localhost:8080/"
        },
        "id": "Bbpfn_GpdrKc",
        "outputId": "e336cb70-1be1-4638-dfe9-d8e9fd9650fb"
      },
      "outputs": [
        {
          "output_type": "stream",
          "name": "stdout",
          "text": [
            "    Company Name  Price  Earnings Per Share   Book Value\n",
            "0       Reliance   1467                  66          653\n",
            "1     Tata Steel    391                  89          572\n",
            "2        Infosys    650                  35          147\n",
            "3      Axis Bank    739                  19          263\n",
            "4  Bajaj Finance   4044                  69          341\n"
          ]
        }
      ],
      "source": [
        "import pandas as pd\n",
        "import csv\n",
        "csv_file_name='stocks.csv'\n",
        "df=pd.read_csv(csv_file_name)\n",
        "print(df)"
      ]
    },
    {
      "cell_type": "markdown",
      "source": [
        "Writing to CSV file writerow()"
      ],
      "metadata": {
        "id": "VWge2MzckHlW"
      }
    },
    {
      "cell_type": "code",
      "source": [
        "import pandas as pd\n",
        "\n",
        "csv_file_name = 'stocks.csv'\n",
        "df = pd.read_csv(csv_file_name)\n",
        "\n",
        "new_row = {'Company Name': 'Tesla', 'Price': 5025, 'Earnings Per Share': 72, 'Book Value': 50}\n",
        "df = df.append(new_row, ignore_index=True)\n",
        "df.to_csv(csv_file_name, index=False)\n",
        "column_to_drop='Book Value'\n",
        "second='0'\n",
        "df.drop(column_to_drop,axis=1,inplace=True)\n",
        "df.drop(second,axis=1,inplace=True)\n",
        "df=df.drop_duplicates()\n",
        "print(f\"New row has been added to '{csv_file_name}'.\")\n",
        "print(df)\n"
      ],
      "metadata": {
        "colab": {
          "base_uri": "https://localhost:8080/"
        },
        "id": "NM_3hggmkfxi",
        "outputId": "38b6df5f-038f-49d8-8e84-b0b3a399179b"
      },
      "execution_count": null,
      "outputs": [
        {
          "output_type": "stream",
          "name": "stdout",
          "text": [
            "New row has been added to 'stocks.csv'.\n",
            "    Company Name   Price  Earnings Per Share   Book Value\n",
            "0       Reliance  1467.0                66.0        653.0\n",
            "1     Tata Steel   391.0                89.0        572.0\n",
            "2        Infosys   650.0                35.0        147.0\n",
            "3      Axis Bank   739.0                19.0        263.0\n",
            "4  Bajaj Finance  4044.0                69.0        341.0\n",
            "5            NaN     NaN                 NaN          NaN\n",
            "9          Tesla  5025.0                72.0          NaN\n"
          ]
        },
        {
          "output_type": "stream",
          "name": "stderr",
          "text": [
            "<ipython-input-20-1f6855aa763e>:7: FutureWarning: The frame.append method is deprecated and will be removed from pandas in a future version. Use pandas.concat instead.\n",
            "  df = df.append(new_row, ignore_index=True)\n"
          ]
        }
      ]
    },
    {
      "cell_type": "markdown",
      "source": [
        "writerows()"
      ],
      "metadata": {
        "id": "B0Xg-l8wqV_W"
      }
    },
    {
      "cell_type": "code",
      "source": [
        "import csv\n",
        "data=[\n",
        "    [\"This is first row.\"],\n",
        "    [\"This is second row.\"],\n",
        "    [\"This is third row .\"],\n",
        "    [\"A new row and a new string.\"],\n",
        "    [\"Final string.\"]\n",
        "]\n",
        "\n",
        "csv_file_name='ThisFile.csv'\n",
        "with open(csv_file_name,'w',newline='') as csv_file:\n",
        "  writer=csv.writer(csv_file)\n",
        "  writer.writerows(data)\n",
        "\n",
        "print(f\"The CSV file {csv_file_name} has been successfully created.\")\n",
        "\n",
        "with open(csv_file_name,'r',newline='') as csv_file:\n",
        "  reader=csv.reader(csv_file)\n",
        "\n",
        "  for row in reader:\n",
        "    print(row)\n",
        "\n"
      ],
      "metadata": {
        "colab": {
          "base_uri": "https://localhost:8080/"
        },
        "id": "NHgrSqzzqlwk",
        "outputId": "c143c6c7-ae4c-4b98-efa8-1e4987e26d6e"
      },
      "execution_count": null,
      "outputs": [
        {
          "output_type": "stream",
          "name": "stdout",
          "text": [
            "The CSV file ThisFile.csv has been successfully created.\n",
            "['This is first row.']\n",
            "['This is second row.']\n",
            "['This is third row .']\n",
            "['A new row and a new string.']\n",
            "['Final string.']\n"
          ]
        }
      ]
    },
    {
      "cell_type": "markdown",
      "source": [
        "Min, max and avg score of given score.csv file"
      ],
      "metadata": {
        "id": "usJ0P4Y5qova"
      }
    },
    {
      "cell_type": "code",
      "source": [
        "import pandas as pd\n",
        "\n",
        "csv_file_name = 'scores.csv'\n",
        "df = pd.read_csv(csv_file_name)\n",
        "print(df)\n",
        "minimum=df.min(axis=0)\n",
        "maximum=df.max(axis=0)\n",
        "average=df.mean(axis=0)\n",
        "print(f\"Min:{minimum}\")\n",
        "print(f\"Max:{maximum}\")\n",
        "print(f\"Average:{average}\")\n"
      ],
      "metadata": {
        "colab": {
          "base_uri": "https://localhost:8080/"
        },
        "id": "tEWfwvhuqzYD",
        "outputId": "e37e6344-adb6-48bb-ea04-66692b3b66c4"
      },
      "execution_count": null,
      "outputs": [
        {
          "output_type": "stream",
          "name": "stdout",
          "text": [
            "     rohit    9\n",
            "0   shakib   56\n",
            "1    babar   56\n",
            "2    rohit  120\n",
            "3    rohit  105\n",
            "4   shakib   78\n",
            "5    rohit  140\n",
            "6    babar   45\n",
            "7    rohit  130\n",
            "8   shakib  102\n",
            "9    babar  120\n",
            "10   babar    5\n",
            "11  shakib   72\n",
            "12   babar   67\n",
            "Min:rohit    babar\n",
            "9            5\n",
            "dtype: object\n",
            "Max:rohit    shakib\n",
            "9           140\n",
            "dtype: object\n",
            "Average:9    84.307692\n",
            "dtype: float64\n"
          ]
        },
        {
          "output_type": "stream",
          "name": "stderr",
          "text": [
            "<ipython-input-23-f8cce4684ed3>:8: FutureWarning: The default value of numeric_only in DataFrame.mean is deprecated. In a future version, it will default to False. In addition, specifying 'numeric_only=None' is deprecated. Select only valid columns or specify the value of numeric_only to silence this warning.\n",
            "  average=df.mean(axis=0)\n"
          ]
        }
      ]
    },
    {
      "cell_type": "markdown",
      "source": [
        "Appending To a File"
      ],
      "metadata": {
        "id": "o9rO0humr2wP"
      }
    },
    {
      "cell_type": "code",
      "source": [
        "import pandas as pd\n",
        "\n",
        "csv_file_name = 'scores.csv'\n",
        "df = pd.read_csv(csv_file_name)\n",
        "new_data = {'Name': ['rohit', 'shakib', 'babar'],\n",
        "            'Score': [110, 88, 75]}\n",
        "df=pd.DataFrame(new_data)\n",
        "df.to_csv(csv_file_name, mode='w', index=False)\n",
        "\n",
        "print(f\"New data has been written to '{csv_file_name}'.\")\n",
        "print(df)\n"
      ],
      "metadata": {
        "colab": {
          "base_uri": "https://localhost:8080/"
        },
        "id": "I1qlWUlQr8SV",
        "outputId": "e69a069c-4fdd-4ee6-eb57-3176a8fc890f"
      },
      "execution_count": null,
      "outputs": [
        {
          "output_type": "stream",
          "name": "stdout",
          "text": [
            "New data has been written to 'scores.csv'.\n",
            "     Name  Score\n",
            "0   rohit    110\n",
            "1  shakib     88\n",
            "2   babar     75\n"
          ]
        }
      ]
    },
    {
      "cell_type": "markdown",
      "source": [
        "Writing to a Text"
      ],
      "metadata": {
        "id": "80OAx8pcwGvu"
      }
    },
    {
      "cell_type": "code",
      "source": [
        "\n",
        "import pandas as pd\n",
        "\n",
        "csv_file_name = 'scores.csv'\n",
        "df = pd.read_csv(csv_file_name)\n",
        "new_data = {'Name': ['rohit', 'shakib', 'babar'],\n",
        "            'Score': [110, 88, 75]}\n",
        "df = pd.read_csv(csv_file_name)\n",
        "\n",
        "\n",
        "new_data_df = pd.DataFrame(new_data)\n",
        "df = pd.concat([df, new_data_df], ignore_index=True)\n",
        "df.to_csv(csv_file_name, index=False)\n",
        "print(f\"New data has been appended and written to '{csv_file_name}'.\")\n",
        "print(df)\n"
      ],
      "metadata": {
        "colab": {
          "base_uri": "https://localhost:8080/"
        },
        "id": "VZAIYlW1wKi4",
        "outputId": "72923b55-da43-41a0-a847-351b1c51b7c9"
      },
      "execution_count": null,
      "outputs": [
        {
          "output_type": "stream",
          "name": "stdout",
          "text": [
            "New data has been appended and written to 'scores.csv'.\n",
            "     Name  Score\n",
            "0   rohit    110\n",
            "1  shakib     88\n",
            "2   babar     75\n",
            "3   rohit    110\n",
            "4  shakib     88\n",
            "5   babar     75\n"
          ]
        }
      ]
    },
    {
      "cell_type": "markdown",
      "source": [
        "Reading data from xml\n"
      ],
      "metadata": {
        "id": "Xr5tsgBMwkWM"
      }
    },
    {
      "cell_type": "code",
      "source": [
        "import xml.dom.minidom as minidom\n",
        "\n",
        "doc = minidom.Document()\n",
        "root = doc.createElement(\"root\")\n",
        "doc.appendChild(root)\n",
        "\n",
        "child1 = doc.createElement(\"child1\")\n",
        "child1.appendChild(doc.createTextNode(\"This is child1's text\"))\n",
        "root.appendChild(child1)\n",
        "\n",
        "child2 = doc.createElement(\"child2\")\n",
        "child2.appendChild(doc.createTextNode(\"This is child2's text\"))\n",
        "root.appendChild(child2)\n",
        "\n",
        "subchild = doc.createElement(\"subchild\")\n",
        "subchild.appendChild(doc.createTextNode(\"This is subchild's text\"))\n",
        "child2.appendChild(subchild)\n",
        "\n",
        "with open(\"example.xml\", \"w\") as file:\n",
        "    file.write(doc.toprettyxml())\n",
        "\n",
        "print(\"XML file 'example.xml' has been created.\")\n",
        "doc = minidom.parse(\"example.xml\")\n",
        "\n",
        "for node in doc.documentElement.childNodes:\n",
        "    if node.nodeType == node.ELEMENT_NODE:\n",
        "        if node.nodeType == node.ELEMENT_NODE:\n",
        "          tag_name = node.tagName\n",
        "          text_content = node.firstChild.nodeValue.strip() if node.firstChild else None\n",
        "          print(f\"Tag: {tag_name}, Text: {text_content}\")\n",
        "\n",
        "        # Check for nested elements\n",
        "        for sub_node in node.childNodes:\n",
        "            if sub_node.nodeType == sub_node.ELEMENT_NODE:\n",
        "                sub_tag_name = sub_node.tagName\n",
        "                sub_text_content = sub_node.firstChild.nodeValue.strip() if sub_node.firstChild else None\n",
        "                print(f\"   Subtag: {sub_tag_name}, Subtext: {sub_text_content}\")"
      ],
      "metadata": {
        "colab": {
          "base_uri": "https://localhost:8080/"
        },
        "id": "Q9bF5E9ayakF",
        "outputId": "86024603-d31f-4084-f930-15771c21f43c"
      },
      "execution_count": null,
      "outputs": [
        {
          "output_type": "stream",
          "name": "stdout",
          "text": [
            "XML file 'example.xml' has been created.\n",
            "Tag: child1, Text: This is child1's text\n",
            "Tag: child2, Text: This is child2's text\n",
            "   Subtag: subchild, Subtext: This is subchild's text\n"
          ]
        }
      ]
    },
    {
      "cell_type": "markdown",
      "source": [
        "Reading xml file using data as a variable"
      ],
      "metadata": {
        "id": "LwqdGADs1HIj"
      }
    },
    {
      "cell_type": "code",
      "source": [
        "doc = minidom.parse(\"example.xml\")\n",
        "\n",
        "# Get the XML content as a string\n",
        "data = doc.toxml()\n",
        "print(data)"
      ],
      "metadata": {
        "colab": {
          "base_uri": "https://localhost:8080/"
        },
        "id": "QIlbZyHj1LRF",
        "outputId": "31ac1873-5246-4ec5-da34-8d4f63c7c1fa"
      },
      "execution_count": null,
      "outputs": [
        {
          "output_type": "stream",
          "name": "stdout",
          "text": [
            "<?xml version=\"1.0\" ?><root>\n",
            "\t<child1>This is child1's text</child1>\n",
            "\t<child2>\n",
            "\t\tThis is child2's text\n",
            "\t\t<subchild>This is subchild's text</subchild>\n",
            "\t</child2>\n",
            "</root>\n"
          ]
        }
      ]
    },
    {
      "cell_type": "markdown",
      "source": [
        "Writing List to Files in Python\n",
        "Using write()\n",
        "Using writelines()\n",
        "Using String Join Along with “with open” syntax"
      ],
      "metadata": {
        "id": "vxyX129r1tu2"
      }
    },
    {
      "cell_type": "code",
      "source": [
        "import csv\n",
        "data=[\n",
        "    [\"This is first row.\"],\n",
        "    [\"This is second row.\"],\n",
        "    [\"This is third row .\"],\n",
        "    [\"A new row and a new string.\"],\n",
        "    [\"Final string.\"]\n",
        "]\n",
        "\n",
        "csv_file_name='NewFile.csv'\n",
        "data_list = [\"Line 1\", \"Line 2\", \"Line 3\"]\n",
        "with open(csv_file_name,\"w\") as csv_file:\n",
        "  for line in data_list:\n",
        "    csv_file.write(line + \"\\n\")\n",
        "print(\"List has been written to 'NewFile.txt'.\")\n",
        "\n",
        "data_list2 = [\"Line 1\", \"Line 2\", \"Line 3\",\"New\",\"One\"]\n",
        "\n",
        "with open(csv_file_name, \"w\") as file:\n",
        "    file.writelines(line + \"\\n\" for line in data_list2)\n",
        "\n",
        "print(\"List2 has been written to 'NewFile.txt'.\")\n",
        "\n",
        "data_list3 = [\"Line 4\", \"Line 5\", \"Line 6\"]\n",
        "\n",
        "with open(\"example.txt\", \"w\") as file:\n",
        "    file.write(\"\\n\".join(data_list3))\n",
        "\n",
        "print(\"List3 has been written to 'NewFile.txt'.\")"
      ],
      "metadata": {
        "colab": {
          "base_uri": "https://localhost:8080/"
        },
        "id": "9uRnp0s610f4",
        "outputId": "780f06b0-582b-4999-8599-6229e6df12b3"
      },
      "execution_count": null,
      "outputs": [
        {
          "output_type": "stream",
          "name": "stdout",
          "text": [
            "List has been written to 'NewFile.txt'.\n",
            "List2 has been written to 'NewFile.txt'.\n",
            "List3 has been written to 'NewFile.txt'.\n"
          ]
        }
      ]
    },
    {
      "cell_type": "markdown",
      "source": [
        "From poem.txtfind out words with maximum occurance"
      ],
      "metadata": {
        "id": "_NAFupk47Noq"
      }
    },
    {
      "cell_type": "code",
      "source": [
        "import pandas as pd\n",
        "file_path='poem.txt'\n",
        "df=pd.read_csv(file_path, delimiter='\\t', names=['Text'])\n",
        "tokens=df['Text'].str.lower().str.split()\n",
        "flat_tokens=[word for sublist in tokens for word in sublist]\n",
        "word_counts = pd.Series(flat_tokens).value_counts()\n",
        "maximum=word_counts.max()\n",
        "max_word=word_counts.idxmax()\n",
        "print(maximum)\n",
        "\n",
        "print(max_word)"
      ],
      "metadata": {
        "colab": {
          "base_uri": "https://localhost:8080/"
        },
        "id": "HNSu15Ov7ebq",
        "outputId": "ac8fe411-d417-4a1a-d7eb-ad4a52f9e5f2"
      },
      "execution_count": null,
      "outputs": [
        {
          "output_type": "stream",
          "name": "stdout",
          "text": [
            "9\n",
            "and\n"
          ]
        }
      ]
    },
    {
      "cell_type": "markdown",
      "source": [
        "Creating Output.csv"
      ],
      "metadata": {
        "id": "nlVwNOU0_j6C"
      }
    },
    {
      "cell_type": "code",
      "source": [
        "import pandas as pd\n",
        "csv_file_name='stocks.csv'\n",
        "df=pd.read_csv(csv_file_name)\n",
        "print(df)\n",
        "df.isnull().sum()\n",
        "df['PE Ratio']=df['Price']//df['Earnings Per Share']\n",
        "df['PB Ratio']=df['Price']//df[' Book Value']\n",
        "output_df = df[['Company Name', 'PE Ratio', 'PB Ratio']]\n",
        "file_name='Output.csv'\n",
        "output_df.to_csv(file_name,index=False)\n",
        "output_df = output_df.drop_duplicates()\n",
        "output_df = output_df.dropna()\n",
        "print(output_df)\n",
        "\n"
      ],
      "metadata": {
        "colab": {
          "base_uri": "https://localhost:8080/"
        },
        "id": "7Tr1IcUR_mr4",
        "outputId": "d04e0d71-3e52-4d03-f75e-a4cdf3914a4a"
      },
      "execution_count": 17,
      "outputs": [
        {
          "output_type": "stream",
          "name": "stdout",
          "text": [
            "    Company Name  Price  Earnings Per Share   Book Value\n",
            "0       Reliance   1467                  66          653\n",
            "1     Tata Steel    391                  89          572\n",
            "2        Infosys    650                  35          147\n",
            "3      Axis Bank    739                  19          263\n",
            "4  Bajaj Finance   4044                  69          341\n",
            "    Company Name  PE Ratio  PB Ratio\n",
            "0       Reliance        22         2\n",
            "1     Tata Steel         4         0\n",
            "2        Infosys        18         4\n",
            "3      Axis Bank        38         2\n",
            "4  Bajaj Finance        58        11\n"
          ]
        }
      ]
    }
  ]
}