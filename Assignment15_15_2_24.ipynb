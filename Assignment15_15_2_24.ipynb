{
  "nbformat": 4,
  "nbformat_minor": 0,
  "metadata": {
    "colab": {
      "provenance": [],
      "authorship_tag": "ABX9TyMM96cqeWXVXPoLveqywEJI",
      "include_colab_link": true
    },
    "kernelspec": {
      "name": "python3",
      "display_name": "Python 3"
    },
    "language_info": {
      "name": "python"
    }
  },
  "cells": [
    {
      "cell_type": "markdown",
      "metadata": {
        "id": "view-in-github",
        "colab_type": "text"
      },
      "source": [
        "<a href=\"https://colab.research.google.com/github/A-THAKUR22/AVISOFTAT/blob/main/Assignment15_15_2_24.ipynb\" target=\"_parent\"><img src=\"https://colab.research.google.com/assets/colab-badge.svg\" alt=\"Open In Colab\"/></a>"
      ]
    },
    {
      "cell_type": "markdown",
      "source": [
        "Impute / Replace Missing Values with median because The median is usually preferred with outliers than mean -Replace missing values in SCHOOL_TYPE with the most frequent value -change type of OPEN_DATE column"
      ],
      "metadata": {
        "id": "7_yuQWOLemdN"
      }
    },
    {
      "cell_type": "code",
      "execution_count": 1,
      "metadata": {
        "colab": {
          "base_uri": "https://localhost:8080/",
          "height": 1000
        },
        "id": "rwR6uNMDefNu",
        "outputId": "69df443b-42d1-4931-ca05-ed51bcf0a983"
      },
      "outputs": [
        {
          "output_type": "execute_result",
          "data": {
            "text/plain": [
              "      Unnamed: 0                                 FILE_NAME  \\\n",
              "0              0              311 DIRECTOR 9206 041814.txt   \n",
              "1              1              311 DIRECTOR 9206 041814.txt   \n",
              "2              2              311 DIRECTOR 9206 041814.txt   \n",
              "3              3                ACCOUNTANT 1513 062218.txt   \n",
              "4              4          ACCOUNTING CLERK 1223 071318.txt   \n",
              "...          ...                                       ...   \n",
              "1369        1369  ZOO CURATOR OF EDUCATION 4300 091418.txt   \n",
              "1370        1370  ZOO CURATOR OF EDUCATION 4300 091418.txt   \n",
              "1371        1371             ZOO REGISTRAR 4290 070618.txt   \n",
              "1372        1372             ZOO REGISTRAR 4290 070618.txt   \n",
              "1373        1373             ZOO REGISTRAR 4290 070618.txt   \n",
              "\n",
              "               JOB_CLASS_TITLE JOB_CLASS_NO  REQUIREMENT_SET_ID  \\\n",
              "0                 311 Director         9206                 1.0   \n",
              "1                 311 Director         9206                 2.0   \n",
              "2                 311 Director         9206                 3.0   \n",
              "3                   Accountant         1513                 1.0   \n",
              "4             Accounting Clerk         1223                 1.0   \n",
              "...                        ...          ...                 ...   \n",
              "1369  Zoo Curator Of Education         4300                 1.0   \n",
              "1370  Zoo Curator Of Education         4300                 2.0   \n",
              "1371             Zoo Registrar         4290                 1.0   \n",
              "1372             Zoo Registrar         4290                 2.0   \n",
              "1373             Zoo Registrar         4290                 3.0   \n",
              "\n",
              "     REQUIREMENT_SUBSET_ID                                         JOB_DUTIES  \\\n",
              "0                        -  A 311 Director is responsible for the successf...   \n",
              "1                        -  A 311 Director is responsible for the successf...   \n",
              "2                        -  A 311 Director is responsible for the successf...   \n",
              "3                        -  An Accountant does professional accounting wor...   \n",
              "4                        -  An Accounting Clerk performs difficult and res...   \n",
              "...                    ...                                                ...   \n",
              "1369                     -  A Zoo Curator of Education plans, develops, im...   \n",
              "1370                     -  A Zoo Curator of Education plans, develops, im...   \n",
              "1371                     -  A Zoo Registrar assists in the development and...   \n",
              "1372                     -  A Zoo Registrar assists in the development and...   \n",
              "1373                     -  A Zoo Registrar assists in the development and...   \n",
              "\n",
              "     EDUCATION_YEARS                 SCHOOL_TYPE   EDUCATION_MAJOR  ...  \\\n",
              "0                  -                           -                 -  ...   \n",
              "1                  -       college or university                 -  ...   \n",
              "2                  -                           -                 -  ...   \n",
              "3                4.0       college or university                 -  ...   \n",
              "4                  -  trade school or university                 -  ...   \n",
              "...              ...                         ...               ...  ...   \n",
              "1369             4.0       college or university                 -  ...   \n",
              "1370               -                           -                 -  ...   \n",
              "1371             4.0       college or university  zoology, biology  ...   \n",
              "1372               -                           -                 -  ...   \n",
              "1373               -                           -                 -  ...   \n",
              "\n",
              "     DRIVERS_LICENSE_REQ DRIV_LIC_TYPE ADDTL_LIC      EXAM_TYPE  \\\n",
              "0                      -             -         -  OPEN_INT_PROM   \n",
              "1                      -             -         -  OPEN_INT_PROM   \n",
              "2                      -             -         -  OPEN_INT_PROM   \n",
              "3                      P             -         -           OPEN   \n",
              "4                      -             -         -  OPEN_INT_PROM   \n",
              "...                  ...           ...       ...            ...   \n",
              "1369                   P             -         -  OPEN_INT_PROM   \n",
              "1370                   P             -         -  OPEN_INT_PROM   \n",
              "1371                   -             -         -  OPEN_INT_PROM   \n",
              "1372                   -             -         -  OPEN_INT_PROM   \n",
              "1373                   -             -         -  OPEN_INT_PROM   \n",
              "\n",
              "          ENTRY_SALARY_GEN ENTRY_SALARY_DWP OPEN_DATE  \\\n",
              "0     $125,175 to $155,514                -  04-18-14   \n",
              "1     $125,175 to $155,514                -  04-18-14   \n",
              "2     $125,175 to $155,514                -  04-18-14   \n",
              "3       $49,903 to $72,996                -  06-22-18   \n",
              "4       $49,005 to $71,618                -  07-13-18   \n",
              "...                    ...              ...       ...   \n",
              "1369    $57,628 to $84,229                -  09-14-18   \n",
              "1370    $57,628 to $84,229                -  09-14-18   \n",
              "1371    $55,666 to $81,390                -  07-06-18   \n",
              "1372    $55,666 to $81,390                -  07-06-18   \n",
              "1373    $55,666 to $81,390                -  07-06-18   \n",
              "\n",
              "                                   REQUIREMENT_SET_TEXT  \\\n",
              "0     One year of full-time paid experience as a Sen...   \n",
              "1     A Bachelor's degree from a recognized college ...   \n",
              "2     Eight years of full-time paid experience in a ...   \n",
              "3     Graduation from an accredited four-year colleg...   \n",
              "4     Two years of full-time paid office clerical ex...   \n",
              "...                                                 ...   \n",
              "1369  Graduation from an accredited four-year colleg...   \n",
              "1370  Current employment with the City of Los Angele...   \n",
              "1371  Graduation from an accredited four-year colleg...   \n",
              "1372  Two years of full-time paid experience supervi...   \n",
              "1373  Two years of full-time paid experience perform...   \n",
              "\n",
              "     REQUIREMENT_SUBSET_TEXT REQUIREMENT_CONJUNCTION  \n",
              "0                          -                      or  \n",
              "1                          -                      or  \n",
              "2                          -                       -  \n",
              "3                          -                       -  \n",
              "4                          -                       -  \n",
              "...                      ...                     ...  \n",
              "1369                       -                      or  \n",
              "1370                       -                       -  \n",
              "1371                       -                      or  \n",
              "1372                       -                      or  \n",
              "1373                       -                       -  \n",
              "\n",
              "[1374 rows x 29 columns]"
            ],
            "text/html": [
              "\n",
              "  <div id=\"df-eb66c00a-5732-432e-8169-3ee38a9cab4c\" class=\"colab-df-container\">\n",
              "    <div>\n",
              "<style scoped>\n",
              "    .dataframe tbody tr th:only-of-type {\n",
              "        vertical-align: middle;\n",
              "    }\n",
              "\n",
              "    .dataframe tbody tr th {\n",
              "        vertical-align: top;\n",
              "    }\n",
              "\n",
              "    .dataframe thead th {\n",
              "        text-align: right;\n",
              "    }\n",
              "</style>\n",
              "<table border=\"1\" class=\"dataframe\">\n",
              "  <thead>\n",
              "    <tr style=\"text-align: right;\">\n",
              "      <th></th>\n",
              "      <th>Unnamed: 0</th>\n",
              "      <th>FILE_NAME</th>\n",
              "      <th>JOB_CLASS_TITLE</th>\n",
              "      <th>JOB_CLASS_NO</th>\n",
              "      <th>REQUIREMENT_SET_ID</th>\n",
              "      <th>REQUIREMENT_SUBSET_ID</th>\n",
              "      <th>JOB_DUTIES</th>\n",
              "      <th>EDUCATION_YEARS</th>\n",
              "      <th>SCHOOL_TYPE</th>\n",
              "      <th>EDUCATION_MAJOR</th>\n",
              "      <th>...</th>\n",
              "      <th>DRIVERS_LICENSE_REQ</th>\n",
              "      <th>DRIV_LIC_TYPE</th>\n",
              "      <th>ADDTL_LIC</th>\n",
              "      <th>EXAM_TYPE</th>\n",
              "      <th>ENTRY_SALARY_GEN</th>\n",
              "      <th>ENTRY_SALARY_DWP</th>\n",
              "      <th>OPEN_DATE</th>\n",
              "      <th>REQUIREMENT_SET_TEXT</th>\n",
              "      <th>REQUIREMENT_SUBSET_TEXT</th>\n",
              "      <th>REQUIREMENT_CONJUNCTION</th>\n",
              "    </tr>\n",
              "  </thead>\n",
              "  <tbody>\n",
              "    <tr>\n",
              "      <th>0</th>\n",
              "      <td>0</td>\n",
              "      <td>311 DIRECTOR 9206 041814.txt</td>\n",
              "      <td>311 Director</td>\n",
              "      <td>9206</td>\n",
              "      <td>1.0</td>\n",
              "      <td>-</td>\n",
              "      <td>A 311 Director is responsible for the successf...</td>\n",
              "      <td>-</td>\n",
              "      <td>-</td>\n",
              "      <td>-</td>\n",
              "      <td>...</td>\n",
              "      <td>-</td>\n",
              "      <td>-</td>\n",
              "      <td>-</td>\n",
              "      <td>OPEN_INT_PROM</td>\n",
              "      <td>$125,175 to $155,514</td>\n",
              "      <td>-</td>\n",
              "      <td>04-18-14</td>\n",
              "      <td>One year of full-time paid experience as a Sen...</td>\n",
              "      <td>-</td>\n",
              "      <td>or</td>\n",
              "    </tr>\n",
              "    <tr>\n",
              "      <th>1</th>\n",
              "      <td>1</td>\n",
              "      <td>311 DIRECTOR 9206 041814.txt</td>\n",
              "      <td>311 Director</td>\n",
              "      <td>9206</td>\n",
              "      <td>2.0</td>\n",
              "      <td>-</td>\n",
              "      <td>A 311 Director is responsible for the successf...</td>\n",
              "      <td>-</td>\n",
              "      <td>college or university</td>\n",
              "      <td>-</td>\n",
              "      <td>...</td>\n",
              "      <td>-</td>\n",
              "      <td>-</td>\n",
              "      <td>-</td>\n",
              "      <td>OPEN_INT_PROM</td>\n",
              "      <td>$125,175 to $155,514</td>\n",
              "      <td>-</td>\n",
              "      <td>04-18-14</td>\n",
              "      <td>A Bachelor's degree from a recognized college ...</td>\n",
              "      <td>-</td>\n",
              "      <td>or</td>\n",
              "    </tr>\n",
              "    <tr>\n",
              "      <th>2</th>\n",
              "      <td>2</td>\n",
              "      <td>311 DIRECTOR 9206 041814.txt</td>\n",
              "      <td>311 Director</td>\n",
              "      <td>9206</td>\n",
              "      <td>3.0</td>\n",
              "      <td>-</td>\n",
              "      <td>A 311 Director is responsible for the successf...</td>\n",
              "      <td>-</td>\n",
              "      <td>-</td>\n",
              "      <td>-</td>\n",
              "      <td>...</td>\n",
              "      <td>-</td>\n",
              "      <td>-</td>\n",
              "      <td>-</td>\n",
              "      <td>OPEN_INT_PROM</td>\n",
              "      <td>$125,175 to $155,514</td>\n",
              "      <td>-</td>\n",
              "      <td>04-18-14</td>\n",
              "      <td>Eight years of full-time paid experience in a ...</td>\n",
              "      <td>-</td>\n",
              "      <td>-</td>\n",
              "    </tr>\n",
              "    <tr>\n",
              "      <th>3</th>\n",
              "      <td>3</td>\n",
              "      <td>ACCOUNTANT 1513 062218.txt</td>\n",
              "      <td>Accountant</td>\n",
              "      <td>1513</td>\n",
              "      <td>1.0</td>\n",
              "      <td>-</td>\n",
              "      <td>An Accountant does professional accounting wor...</td>\n",
              "      <td>4.0</td>\n",
              "      <td>college or university</td>\n",
              "      <td>-</td>\n",
              "      <td>...</td>\n",
              "      <td>P</td>\n",
              "      <td>-</td>\n",
              "      <td>-</td>\n",
              "      <td>OPEN</td>\n",
              "      <td>$49,903 to $72,996</td>\n",
              "      <td>-</td>\n",
              "      <td>06-22-18</td>\n",
              "      <td>Graduation from an accredited four-year colleg...</td>\n",
              "      <td>-</td>\n",
              "      <td>-</td>\n",
              "    </tr>\n",
              "    <tr>\n",
              "      <th>4</th>\n",
              "      <td>4</td>\n",
              "      <td>ACCOUNTING CLERK 1223 071318.txt</td>\n",
              "      <td>Accounting Clerk</td>\n",
              "      <td>1223</td>\n",
              "      <td>1.0</td>\n",
              "      <td>-</td>\n",
              "      <td>An Accounting Clerk performs difficult and res...</td>\n",
              "      <td>-</td>\n",
              "      <td>trade school or university</td>\n",
              "      <td>-</td>\n",
              "      <td>...</td>\n",
              "      <td>-</td>\n",
              "      <td>-</td>\n",
              "      <td>-</td>\n",
              "      <td>OPEN_INT_PROM</td>\n",
              "      <td>$49,005 to $71,618</td>\n",
              "      <td>-</td>\n",
              "      <td>07-13-18</td>\n",
              "      <td>Two years of full-time paid office clerical ex...</td>\n",
              "      <td>-</td>\n",
              "      <td>-</td>\n",
              "    </tr>\n",
              "    <tr>\n",
              "      <th>...</th>\n",
              "      <td>...</td>\n",
              "      <td>...</td>\n",
              "      <td>...</td>\n",
              "      <td>...</td>\n",
              "      <td>...</td>\n",
              "      <td>...</td>\n",
              "      <td>...</td>\n",
              "      <td>...</td>\n",
              "      <td>...</td>\n",
              "      <td>...</td>\n",
              "      <td>...</td>\n",
              "      <td>...</td>\n",
              "      <td>...</td>\n",
              "      <td>...</td>\n",
              "      <td>...</td>\n",
              "      <td>...</td>\n",
              "      <td>...</td>\n",
              "      <td>...</td>\n",
              "      <td>...</td>\n",
              "      <td>...</td>\n",
              "      <td>...</td>\n",
              "    </tr>\n",
              "    <tr>\n",
              "      <th>1369</th>\n",
              "      <td>1369</td>\n",
              "      <td>ZOO CURATOR OF EDUCATION 4300 091418.txt</td>\n",
              "      <td>Zoo Curator Of Education</td>\n",
              "      <td>4300</td>\n",
              "      <td>1.0</td>\n",
              "      <td>-</td>\n",
              "      <td>A Zoo Curator of Education plans, develops, im...</td>\n",
              "      <td>4.0</td>\n",
              "      <td>college or university</td>\n",
              "      <td>-</td>\n",
              "      <td>...</td>\n",
              "      <td>P</td>\n",
              "      <td>-</td>\n",
              "      <td>-</td>\n",
              "      <td>OPEN_INT_PROM</td>\n",
              "      <td>$57,628 to $84,229</td>\n",
              "      <td>-</td>\n",
              "      <td>09-14-18</td>\n",
              "      <td>Graduation from an accredited four-year colleg...</td>\n",
              "      <td>-</td>\n",
              "      <td>or</td>\n",
              "    </tr>\n",
              "    <tr>\n",
              "      <th>1370</th>\n",
              "      <td>1370</td>\n",
              "      <td>ZOO CURATOR OF EDUCATION 4300 091418.txt</td>\n",
              "      <td>Zoo Curator Of Education</td>\n",
              "      <td>4300</td>\n",
              "      <td>2.0</td>\n",
              "      <td>-</td>\n",
              "      <td>A Zoo Curator of Education plans, develops, im...</td>\n",
              "      <td>-</td>\n",
              "      <td>-</td>\n",
              "      <td>-</td>\n",
              "      <td>...</td>\n",
              "      <td>P</td>\n",
              "      <td>-</td>\n",
              "      <td>-</td>\n",
              "      <td>OPEN_INT_PROM</td>\n",
              "      <td>$57,628 to $84,229</td>\n",
              "      <td>-</td>\n",
              "      <td>09-14-18</td>\n",
              "      <td>Current employment with the City of Los Angele...</td>\n",
              "      <td>-</td>\n",
              "      <td>-</td>\n",
              "    </tr>\n",
              "    <tr>\n",
              "      <th>1371</th>\n",
              "      <td>1371</td>\n",
              "      <td>ZOO REGISTRAR 4290 070618.txt</td>\n",
              "      <td>Zoo Registrar</td>\n",
              "      <td>4290</td>\n",
              "      <td>1.0</td>\n",
              "      <td>-</td>\n",
              "      <td>A Zoo Registrar assists in the development and...</td>\n",
              "      <td>4.0</td>\n",
              "      <td>college or university</td>\n",
              "      <td>zoology, biology</td>\n",
              "      <td>...</td>\n",
              "      <td>-</td>\n",
              "      <td>-</td>\n",
              "      <td>-</td>\n",
              "      <td>OPEN_INT_PROM</td>\n",
              "      <td>$55,666 to $81,390</td>\n",
              "      <td>-</td>\n",
              "      <td>07-06-18</td>\n",
              "      <td>Graduation from an accredited four-year colleg...</td>\n",
              "      <td>-</td>\n",
              "      <td>or</td>\n",
              "    </tr>\n",
              "    <tr>\n",
              "      <th>1372</th>\n",
              "      <td>1372</td>\n",
              "      <td>ZOO REGISTRAR 4290 070618.txt</td>\n",
              "      <td>Zoo Registrar</td>\n",
              "      <td>4290</td>\n",
              "      <td>2.0</td>\n",
              "      <td>-</td>\n",
              "      <td>A Zoo Registrar assists in the development and...</td>\n",
              "      <td>-</td>\n",
              "      <td>-</td>\n",
              "      <td>-</td>\n",
              "      <td>...</td>\n",
              "      <td>-</td>\n",
              "      <td>-</td>\n",
              "      <td>-</td>\n",
              "      <td>OPEN_INT_PROM</td>\n",
              "      <td>$55,666 to $81,390</td>\n",
              "      <td>-</td>\n",
              "      <td>07-06-18</td>\n",
              "      <td>Two years of full-time paid experience supervi...</td>\n",
              "      <td>-</td>\n",
              "      <td>or</td>\n",
              "    </tr>\n",
              "    <tr>\n",
              "      <th>1373</th>\n",
              "      <td>1373</td>\n",
              "      <td>ZOO REGISTRAR 4290 070618.txt</td>\n",
              "      <td>Zoo Registrar</td>\n",
              "      <td>4290</td>\n",
              "      <td>3.0</td>\n",
              "      <td>-</td>\n",
              "      <td>A Zoo Registrar assists in the development and...</td>\n",
              "      <td>-</td>\n",
              "      <td>-</td>\n",
              "      <td>-</td>\n",
              "      <td>...</td>\n",
              "      <td>-</td>\n",
              "      <td>-</td>\n",
              "      <td>-</td>\n",
              "      <td>OPEN_INT_PROM</td>\n",
              "      <td>$55,666 to $81,390</td>\n",
              "      <td>-</td>\n",
              "      <td>07-06-18</td>\n",
              "      <td>Two years of full-time paid experience perform...</td>\n",
              "      <td>-</td>\n",
              "      <td>-</td>\n",
              "    </tr>\n",
              "  </tbody>\n",
              "</table>\n",
              "<p>1374 rows × 29 columns</p>\n",
              "</div>\n",
              "    <div class=\"colab-df-buttons\">\n",
              "\n",
              "  <div class=\"colab-df-container\">\n",
              "    <button class=\"colab-df-convert\" onclick=\"convertToInteractive('df-eb66c00a-5732-432e-8169-3ee38a9cab4c')\"\n",
              "            title=\"Convert this dataframe to an interactive table.\"\n",
              "            style=\"display:none;\">\n",
              "\n",
              "  <svg xmlns=\"http://www.w3.org/2000/svg\" height=\"24px\" viewBox=\"0 -960 960 960\">\n",
              "    <path d=\"M120-120v-720h720v720H120Zm60-500h600v-160H180v160Zm220 220h160v-160H400v160Zm0 220h160v-160H400v160ZM180-400h160v-160H180v160Zm440 0h160v-160H620v160ZM180-180h160v-160H180v160Zm440 0h160v-160H620v160Z\"/>\n",
              "  </svg>\n",
              "    </button>\n",
              "\n",
              "  <style>\n",
              "    .colab-df-container {\n",
              "      display:flex;\n",
              "      gap: 12px;\n",
              "    }\n",
              "\n",
              "    .colab-df-convert {\n",
              "      background-color: #E8F0FE;\n",
              "      border: none;\n",
              "      border-radius: 50%;\n",
              "      cursor: pointer;\n",
              "      display: none;\n",
              "      fill: #1967D2;\n",
              "      height: 32px;\n",
              "      padding: 0 0 0 0;\n",
              "      width: 32px;\n",
              "    }\n",
              "\n",
              "    .colab-df-convert:hover {\n",
              "      background-color: #E2EBFA;\n",
              "      box-shadow: 0px 1px 2px rgba(60, 64, 67, 0.3), 0px 1px 3px 1px rgba(60, 64, 67, 0.15);\n",
              "      fill: #174EA6;\n",
              "    }\n",
              "\n",
              "    .colab-df-buttons div {\n",
              "      margin-bottom: 4px;\n",
              "    }\n",
              "\n",
              "    [theme=dark] .colab-df-convert {\n",
              "      background-color: #3B4455;\n",
              "      fill: #D2E3FC;\n",
              "    }\n",
              "\n",
              "    [theme=dark] .colab-df-convert:hover {\n",
              "      background-color: #434B5C;\n",
              "      box-shadow: 0px 1px 3px 1px rgba(0, 0, 0, 0.15);\n",
              "      filter: drop-shadow(0px 1px 2px rgba(0, 0, 0, 0.3));\n",
              "      fill: #FFFFFF;\n",
              "    }\n",
              "  </style>\n",
              "\n",
              "    <script>\n",
              "      const buttonEl =\n",
              "        document.querySelector('#df-eb66c00a-5732-432e-8169-3ee38a9cab4c button.colab-df-convert');\n",
              "      buttonEl.style.display =\n",
              "        google.colab.kernel.accessAllowed ? 'block' : 'none';\n",
              "\n",
              "      async function convertToInteractive(key) {\n",
              "        const element = document.querySelector('#df-eb66c00a-5732-432e-8169-3ee38a9cab4c');\n",
              "        const dataTable =\n",
              "          await google.colab.kernel.invokeFunction('convertToInteractive',\n",
              "                                                    [key], {});\n",
              "        if (!dataTable) return;\n",
              "\n",
              "        const docLinkHtml = 'Like what you see? Visit the ' +\n",
              "          '<a target=\"_blank\" href=https://colab.research.google.com/notebooks/data_table.ipynb>data table notebook</a>'\n",
              "          + ' to learn more about interactive tables.';\n",
              "        element.innerHTML = '';\n",
              "        dataTable['output_type'] = 'display_data';\n",
              "        await google.colab.output.renderOutput(dataTable, element);\n",
              "        const docLink = document.createElement('div');\n",
              "        docLink.innerHTML = docLinkHtml;\n",
              "        element.appendChild(docLink);\n",
              "      }\n",
              "    </script>\n",
              "  </div>\n",
              "\n",
              "\n",
              "<div id=\"df-aae6d2a0-02cf-4e2b-9fd1-6499fa7b8709\">\n",
              "  <button class=\"colab-df-quickchart\" onclick=\"quickchart('df-aae6d2a0-02cf-4e2b-9fd1-6499fa7b8709')\"\n",
              "            title=\"Suggest charts\"\n",
              "            style=\"display:none;\">\n",
              "\n",
              "<svg xmlns=\"http://www.w3.org/2000/svg\" height=\"24px\"viewBox=\"0 0 24 24\"\n",
              "     width=\"24px\">\n",
              "    <g>\n",
              "        <path d=\"M19 3H5c-1.1 0-2 .9-2 2v14c0 1.1.9 2 2 2h14c1.1 0 2-.9 2-2V5c0-1.1-.9-2-2-2zM9 17H7v-7h2v7zm4 0h-2V7h2v10zm4 0h-2v-4h2v4z\"/>\n",
              "    </g>\n",
              "</svg>\n",
              "  </button>\n",
              "\n",
              "<style>\n",
              "  .colab-df-quickchart {\n",
              "      --bg-color: #E8F0FE;\n",
              "      --fill-color: #1967D2;\n",
              "      --hover-bg-color: #E2EBFA;\n",
              "      --hover-fill-color: #174EA6;\n",
              "      --disabled-fill-color: #AAA;\n",
              "      --disabled-bg-color: #DDD;\n",
              "  }\n",
              "\n",
              "  [theme=dark] .colab-df-quickchart {\n",
              "      --bg-color: #3B4455;\n",
              "      --fill-color: #D2E3FC;\n",
              "      --hover-bg-color: #434B5C;\n",
              "      --hover-fill-color: #FFFFFF;\n",
              "      --disabled-bg-color: #3B4455;\n",
              "      --disabled-fill-color: #666;\n",
              "  }\n",
              "\n",
              "  .colab-df-quickchart {\n",
              "    background-color: var(--bg-color);\n",
              "    border: none;\n",
              "    border-radius: 50%;\n",
              "    cursor: pointer;\n",
              "    display: none;\n",
              "    fill: var(--fill-color);\n",
              "    height: 32px;\n",
              "    padding: 0;\n",
              "    width: 32px;\n",
              "  }\n",
              "\n",
              "  .colab-df-quickchart:hover {\n",
              "    background-color: var(--hover-bg-color);\n",
              "    box-shadow: 0 1px 2px rgba(60, 64, 67, 0.3), 0 1px 3px 1px rgba(60, 64, 67, 0.15);\n",
              "    fill: var(--button-hover-fill-color);\n",
              "  }\n",
              "\n",
              "  .colab-df-quickchart-complete:disabled,\n",
              "  .colab-df-quickchart-complete:disabled:hover {\n",
              "    background-color: var(--disabled-bg-color);\n",
              "    fill: var(--disabled-fill-color);\n",
              "    box-shadow: none;\n",
              "  }\n",
              "\n",
              "  .colab-df-spinner {\n",
              "    border: 2px solid var(--fill-color);\n",
              "    border-color: transparent;\n",
              "    border-bottom-color: var(--fill-color);\n",
              "    animation:\n",
              "      spin 1s steps(1) infinite;\n",
              "  }\n",
              "\n",
              "  @keyframes spin {\n",
              "    0% {\n",
              "      border-color: transparent;\n",
              "      border-bottom-color: var(--fill-color);\n",
              "      border-left-color: var(--fill-color);\n",
              "    }\n",
              "    20% {\n",
              "      border-color: transparent;\n",
              "      border-left-color: var(--fill-color);\n",
              "      border-top-color: var(--fill-color);\n",
              "    }\n",
              "    30% {\n",
              "      border-color: transparent;\n",
              "      border-left-color: var(--fill-color);\n",
              "      border-top-color: var(--fill-color);\n",
              "      border-right-color: var(--fill-color);\n",
              "    }\n",
              "    40% {\n",
              "      border-color: transparent;\n",
              "      border-right-color: var(--fill-color);\n",
              "      border-top-color: var(--fill-color);\n",
              "    }\n",
              "    60% {\n",
              "      border-color: transparent;\n",
              "      border-right-color: var(--fill-color);\n",
              "    }\n",
              "    80% {\n",
              "      border-color: transparent;\n",
              "      border-right-color: var(--fill-color);\n",
              "      border-bottom-color: var(--fill-color);\n",
              "    }\n",
              "    90% {\n",
              "      border-color: transparent;\n",
              "      border-bottom-color: var(--fill-color);\n",
              "    }\n",
              "  }\n",
              "</style>\n",
              "\n",
              "  <script>\n",
              "    async function quickchart(key) {\n",
              "      const quickchartButtonEl =\n",
              "        document.querySelector('#' + key + ' button');\n",
              "      quickchartButtonEl.disabled = true;  // To prevent multiple clicks.\n",
              "      quickchartButtonEl.classList.add('colab-df-spinner');\n",
              "      try {\n",
              "        const charts = await google.colab.kernel.invokeFunction(\n",
              "            'suggestCharts', [key], {});\n",
              "      } catch (error) {\n",
              "        console.error('Error during call to suggestCharts:', error);\n",
              "      }\n",
              "      quickchartButtonEl.classList.remove('colab-df-spinner');\n",
              "      quickchartButtonEl.classList.add('colab-df-quickchart-complete');\n",
              "    }\n",
              "    (() => {\n",
              "      let quickchartButtonEl =\n",
              "        document.querySelector('#df-aae6d2a0-02cf-4e2b-9fd1-6499fa7b8709 button');\n",
              "      quickchartButtonEl.style.display =\n",
              "        google.colab.kernel.accessAllowed ? 'block' : 'none';\n",
              "    })();\n",
              "  </script>\n",
              "</div>\n",
              "\n",
              "  <div id=\"id_d697106c-5a92-4fc0-9587-5d081433de6d\">\n",
              "    <style>\n",
              "      .colab-df-generate {\n",
              "        background-color: #E8F0FE;\n",
              "        border: none;\n",
              "        border-radius: 50%;\n",
              "        cursor: pointer;\n",
              "        display: none;\n",
              "        fill: #1967D2;\n",
              "        height: 32px;\n",
              "        padding: 0 0 0 0;\n",
              "        width: 32px;\n",
              "      }\n",
              "\n",
              "      .colab-df-generate:hover {\n",
              "        background-color: #E2EBFA;\n",
              "        box-shadow: 0px 1px 2px rgba(60, 64, 67, 0.3), 0px 1px 3px 1px rgba(60, 64, 67, 0.15);\n",
              "        fill: #174EA6;\n",
              "      }\n",
              "\n",
              "      [theme=dark] .colab-df-generate {\n",
              "        background-color: #3B4455;\n",
              "        fill: #D2E3FC;\n",
              "      }\n",
              "\n",
              "      [theme=dark] .colab-df-generate:hover {\n",
              "        background-color: #434B5C;\n",
              "        box-shadow: 0px 1px 3px 1px rgba(0, 0, 0, 0.15);\n",
              "        filter: drop-shadow(0px 1px 2px rgba(0, 0, 0, 0.3));\n",
              "        fill: #FFFFFF;\n",
              "      }\n",
              "    </style>\n",
              "    <button class=\"colab-df-generate\" onclick=\"generateWithVariable('df')\"\n",
              "            title=\"Generate code using this dataframe.\"\n",
              "            style=\"display:none;\">\n",
              "\n",
              "  <svg xmlns=\"http://www.w3.org/2000/svg\" height=\"24px\"viewBox=\"0 0 24 24\"\n",
              "       width=\"24px\">\n",
              "    <path d=\"M7,19H8.4L18.45,9,17,7.55,7,17.6ZM5,21V16.75L18.45,3.32a2,2,0,0,1,2.83,0l1.4,1.43a1.91,1.91,0,0,1,.58,1.4,1.91,1.91,0,0,1-.58,1.4L9.25,21ZM18.45,9,17,7.55Zm-12,3A5.31,5.31,0,0,0,4.9,8.1,5.31,5.31,0,0,0,1,6.5,5.31,5.31,0,0,0,4.9,4.9,5.31,5.31,0,0,0,6.5,1,5.31,5.31,0,0,0,8.1,4.9,5.31,5.31,0,0,0,12,6.5,5.46,5.46,0,0,0,6.5,12Z\"/>\n",
              "  </svg>\n",
              "    </button>\n",
              "    <script>\n",
              "      (() => {\n",
              "      const buttonEl =\n",
              "        document.querySelector('#id_d697106c-5a92-4fc0-9587-5d081433de6d button.colab-df-generate');\n",
              "      buttonEl.style.display =\n",
              "        google.colab.kernel.accessAllowed ? 'block' : 'none';\n",
              "\n",
              "      buttonEl.onclick = () => {\n",
              "        google.colab.notebook.generateWithVariable('df');\n",
              "      }\n",
              "      })();\n",
              "    </script>\n",
              "  </div>\n",
              "\n",
              "    </div>\n",
              "  </div>\n"
            ],
            "application/vnd.google.colaboratory.intrinsic+json": {
              "type": "dataframe",
              "variable_name": "df"
            }
          },
          "metadata": {},
          "execution_count": 1
        }
      ],
      "source": [
        "import pandas as pd\n",
        "import numpy as np\n",
        "data=pd.read_csv('la_jobs.csv')\n",
        "df=pd.DataFrame(data)\n",
        "df"
      ]
    },
    {
      "cell_type": "code",
      "source": [
        "\n",
        "df['REQUIREMENT_SUBSET_ID']=df['REQUIREMENT_SUBSET_ID'].replace('-',value='a')\n",
        "df['REQUIREMENT_SUBSET_ID']\n",
        "df['REQUIREMENT_SUBSET_ID'].value_counts()\n"
      ],
      "metadata": {
        "colab": {
          "base_uri": "https://localhost:8080/"
        },
        "id": "CIp3yFPpfNs4",
        "outputId": "58b23711-f243-4e35-fc8f-67e9c37230d7"
      },
      "execution_count": 2,
      "outputs": [
        {
          "output_type": "execute_result",
          "data": {
            "text/plain": [
              "a    1300\n",
              "b      38\n",
              "c      14\n",
              "d       9\n",
              "e       7\n",
              "f       2\n",
              "i       2\n",
              "g       1\n",
              "h       1\n",
              "Name: REQUIREMENT_SUBSET_ID, dtype: int64"
            ]
          },
          "metadata": {},
          "execution_count": 2
        }
      ]
    },
    {
      "cell_type": "code",
      "source": [
        "df['EDUCATION_YEARS']=df['EDUCATION_YEARS'].replace('-',np.nan)\n",
        "med=df['EDUCATION_YEARS'].median()\n",
        "df['EDUCATION_YEARS']=df['EDUCATION_YEARS'].replace(np.nan,med)\n",
        "df['EDUCATION_YEARS']\n",
        "df['EDUCATION_YEARS'].value_counts()\n",
        "\n"
      ],
      "metadata": {
        "colab": {
          "base_uri": "https://localhost:8080/"
        },
        "id": "6PPoCtohgxpV",
        "outputId": "8ccf5af3-4542-4037-b767-58504792447a"
      },
      "execution_count": 3,
      "outputs": [
        {
          "output_type": "execute_result",
          "data": {
            "text/plain": [
              "4.0    1218\n",
              "4.0     145\n",
              "1.0       9\n",
              "2.0       2\n",
              "Name: EDUCATION_YEARS, dtype: int64"
            ]
          },
          "metadata": {},
          "execution_count": 3
        }
      ]
    },
    {
      "cell_type": "code",
      "source": [
        "#Since the most frequent value in SCHOOL_TYPE column was college or university we replaced '-' with the latter\n",
        "df['SCHOOL_TYPE']=df['SCHOOL_TYPE'].replace('-',value='college or university')\n",
        "df['SCHOOL_TYPE']\n",
        "df['SCHOOL_TYPE'].value_counts()\n"
      ],
      "metadata": {
        "colab": {
          "base_uri": "https://localhost:8080/"
        },
        "id": "_-pxOoeAiB35",
        "outputId": "07e88fa7-39aa-4d85-b9b0-b83fb401bb9e"
      },
      "execution_count": 4,
      "outputs": [
        {
          "output_type": "execute_result",
          "data": {
            "text/plain": [
              "college or university                                1270\n",
              "apprenticeship                                         38\n",
              "trade school|college                                   18\n",
              "college                                                16\n",
              "trade school or university                              7\n",
              "high school                                             7\n",
              "high school|college                                     6\n",
              "high school|trade school                                2\n",
              "technical school|college                                2\n",
              "high school|technical school|college                    2\n",
              "law school                                              2\n",
              "technical school|high school|trade school|college       1\n",
              "technical school|trade school|college                   1\n",
              "technical school                                        1\n",
              "trade school                                            1\n",
              "Name: SCHOOL_TYPE, dtype: int64"
            ]
          },
          "metadata": {},
          "execution_count": 4
        }
      ]
    },
    {
      "cell_type": "code",
      "source": [
        "df['EDUCATION_MAJOR']=df['EDUCATION_MAJOR'].replace('-',value='engineering')\n",
        "df['EDUCATION_MAJOR']\n",
        "df['EDUCATION_MAJOR'].value_counts()"
      ],
      "metadata": {
        "colab": {
          "base_uri": "https://localhost:8080/"
        },
        "id": "vcEwqm9hkSit",
        "outputId": "5e52443a-c2ff-494c-fc40-a8ac034bede6"
      },
      "execution_count": 5,
      "outputs": [
        {
          "output_type": "execute_result",
          "data": {
            "text/plain": [
              "engineering                                                                                     1300\n",
              "urban planning, urban studies, urban design, architecture, landscape architecture, geography       3\n",
              "accounting                                                                                         2\n",
              "industrial technology, industrial science or special degree program                                2\n",
              "industrial/organizational psychology or psychometrics                                              2\n",
              "                                                                                                ... \n",
              "journalism, english, public relations, or communications                                           1\n",
              "architecture, architectural engineering, environmental design, or building science                 1\n",
              "life science or education teaching credential                                                      1\n",
              "life science                                                                                       1\n",
              "landscape architecture                                                                             1\n",
              "Name: EDUCATION_MAJOR, Length: 64, dtype: int64"
            ]
          },
          "metadata": {},
          "execution_count": 5
        }
      ]
    },
    {
      "cell_type": "code",
      "source": [
        "df['EXPERIENCE_LENGTH']=df['EXPERIENCE_LENGTH'].replace('-',np.nan)\n",
        "med=df['EXPERIENCE_LENGTH'].median()\n",
        "df['EXPERIENCE_LENGTH']=df['EXPERIENCE_LENGTH'].replace(np.nan,med)\n",
        "df['EXPERIENCE_LENGTH']\n",
        "df['EXPERIENCE_LENGTH'].value_counts()"
      ],
      "metadata": {
        "colab": {
          "base_uri": "https://localhost:8080/"
        },
        "id": "ZW6fx0lVlPBu",
        "outputId": "f41bf650-076e-4616-fd09-2f8f42771faa"
      },
      "execution_count": 6,
      "outputs": [
        {
          "output_type": "execute_result",
          "data": {
            "text/plain": [
              "2.0     460\n",
              "2.0     408\n",
              "4.0     157\n",
              "1.0     115\n",
              "3.0     115\n",
              "5.0      41\n",
              "0.5      27\n",
              "6.0      27\n",
              "1.5       9\n",
              "8.0       5\n",
              "7.0       3\n",
              "0.67      2\n",
              "9.0       2\n",
              "12.0      1\n",
              "2.5       1\n",
              "0.25      1\n",
              "Name: EXPERIENCE_LENGTH, dtype: int64"
            ]
          },
          "metadata": {},
          "execution_count": 6
        }
      ]
    },
    {
      "cell_type": "code",
      "source": [
        "#df['OPEN_DATE'].value_counts()\n",
        "#index_pr=df[df['OPEN_DATE']=='-'].index\n",
        "#print(df.loc[index_pr])\n",
        "df['OPEN_DATE']=df['OPEN_DATE'].replace({'-': '04-18-14'})\n",
        "df['OPEN_DATE']=pd.to_datetime(df['OPEN_DATE'])\n",
        "df['OPEN_DATE'].value_counts()\n"
      ],
      "metadata": {
        "colab": {
          "base_uri": "https://localhost:8080/"
        },
        "id": "hbltMVUlmF_M",
        "outputId": "61dbdfd9-bb20-4cbf-d4ea-91a37ab45797"
      },
      "execution_count": 7,
      "outputs": [
        {
          "output_type": "execute_result",
          "data": {
            "text/plain": [
              "2018-09-28    24\n",
              "2017-01-20    24\n",
              "2018-11-16    21\n",
              "2017-04-07    19\n",
              "2018-11-30    18\n",
              "              ..\n",
              "2018-07-13     1\n",
              "2014-03-07     1\n",
              "2018-01-05     1\n",
              "2015-01-30     1\n",
              "2008-10-17     1\n",
              "Name: OPEN_DATE, Length: 223, dtype: int64"
            ]
          },
          "metadata": {},
          "execution_count": 7
        }
      ]
    },
    {
      "cell_type": "markdown",
      "source": [
        "A non-experienced job seeker wants to know what is the best job for him?"
      ],
      "metadata": {
        "id": "YZTGlNJVpb-W"
      }
    },
    {
      "cell_type": "code",
      "source": [
        "df['EXP_JOB_CLASS_TITLE']=df['EXP_JOB_CLASS_TITLE'].replace('-',value='Professional Engineer')\n",
        "df['EXP_JOB_CLASS_TITLE'].value_counts()\n",
        "Experience=['EXPERIENCE_LENGTH','REQUIREMENT_SET_TEXT']\n",
        "df_job_experience=df[Experience]\n",
        "print(df_job_experience)"
      ],
      "metadata": {
        "colab": {
          "base_uri": "https://localhost:8080/"
        },
        "id": "zwRFl8YupfRs",
        "outputId": "b27532a3-ec80-4e5e-8d23-d96907d87a11"
      },
      "execution_count": 8,
      "outputs": [
        {
          "output_type": "stream",
          "name": "stdout",
          "text": [
            "     EXPERIENCE_LENGTH                               REQUIREMENT_SET_TEXT\n",
            "0                  1.0  One year of full-time paid experience as a Sen...\n",
            "1                  4.0  A Bachelor's degree from a recognized college ...\n",
            "2                  8.0  Eight years of full-time paid experience in a ...\n",
            "3                  2.0  Graduation from an accredited four-year colleg...\n",
            "4                  2.0  Two years of full-time paid office clerical ex...\n",
            "...                ...                                                ...\n",
            "1369               1.0  Graduation from an accredited four-year colleg...\n",
            "1370               2.0  Current employment with the City of Los Angele...\n",
            "1371               1.0  Graduation from an accredited four-year colleg...\n",
            "1372               2.0  Two years of full-time paid experience supervi...\n",
            "1373               2.0  Two years of full-time paid experience perform...\n",
            "\n",
            "[1374 rows x 2 columns]\n"
          ]
        }
      ]
    },
    {
      "cell_type": "code",
      "source": [
        "#df['JOB_DUTIES'].value_counts()\n",
        "#df['JOB_DUTIES']=df['JOB_DUTIES'].replace('-',value='A Senior Electrician acts as a lead for and works with a crew of Electricians and helpers engaged in general electrical installation, maintenance, and repair work including motors and lighting, intercom, sound and surveillance systems; keeps records and makes reports. ')\n",
        "#df['JOB_DUTIES'].value_counts()\n",
        "#df['REQUIREMENT_SET_TEXT'].value_counts()"
      ],
      "metadata": {
        "colab": {
          "base_uri": "https://localhost:8080/"
        },
        "id": "4uaaqa8Et1Ws",
        "outputId": "e5523e8a-60c3-4a7a-acae-7cff64a40a88"
      },
      "execution_count": null,
      "outputs": [
        {
          "output_type": "stream",
          "name": "stdout",
          "text": [
            "Empty DataFrame\n",
            "Columns: [Unnamed: 0, FILE_NAME, JOB_CLASS_TITLE, JOB_CLASS_NO, REQUIREMENT_SET_ID, REQUIREMENT_SUBSET_ID, JOB_DUTIES, EDUCATION_YEARS, SCHOOL_TYPE, EDUCATION_MAJOR, EXPERIENCE_LENGTH, FULL_TIME_PART_TIME, EXP_JOB_CLASS_TITLE, EXP_JOB_CLASS_ALT_RESP, EXP_JOB_CLASS_FUNCTION, COURSE_COUNT, COURSE_LENGTH, COURSE_SUBJECT, MISC_COURSE_DETAILS, DRIVERS_LICENSE_REQ, DRIV_LIC_TYPE, ADDTL_LIC, EXAM_TYPE, ENTRY_SALARY_GEN, ENTRY_SALARY_DWP, OPEN_DATE, REQUIREMENT_SET_TEXT, REQUIREMENT_SUBSET_TEXT, REQUIREMENT_CONJUNCTION]\n",
            "Index: []\n",
            "\n",
            "[0 rows x 29 columns]\n"
          ]
        }
      ]
    },
    {
      "cell_type": "code",
      "source": [
        "df['EXP_JOB_CLASS_FUNCTION']=df['EXP_JOB_CLASS_FUNCTION'].replace('-',value='receiving the appropriate salary bonus ')\n",
        "df['EXP_JOB_CLASS_FUNCTION'].value_counts()"
      ],
      "metadata": {
        "colab": {
          "base_uri": "https://localhost:8080/"
        },
        "id": "ihi42S0ZrNo0",
        "outputId": "b15ad68e-48f6-4642-d004-1efc5037a9ed"
      },
      "execution_count": 9,
      "outputs": [
        {
          "output_type": "execute_result",
          "data": {
            "text/plain": [
              "receiving the appropriate salary bonus                                                                                                                   819\n",
              "receiving the appropriate salary bonus                                                                                                                     4\n",
              "experience in .                                                                                                                                            4\n",
              "experience i                                                                                                                                               3\n",
              "performing electrical work on equipment and circuits in the maintenance or construction of electrical systems                                              3\n",
              "                                                                                                                                                        ... \n",
              "performing electrical work on equipment and circuits in the maintenance or construction of electrical systems while in the United States Armed Forces      1\n",
              "experience with work in residential and commercial OR residential and industrial electrical installations.                                                 1\n",
              "experience with work in residential and commercial OR residential and industrial electrical installations                                                  1\n",
              "experience in the field of electrical engineering with one year full-time paid drafting                                                                    1\n",
              "performing the duties of a Zoo Registrar.                                                                                                                  1\n",
              "Name: EXP_JOB_CLASS_FUNCTION, Length: 535, dtype: int64"
            ]
          },
          "metadata": {},
          "execution_count": 9
        }
      ]
    },
    {
      "cell_type": "markdown",
      "source": [
        "A concerned parents contacts you to tell them if there is a specific school type that would guaranteed for their child a good future if you can tell, and which is it ?"
      ],
      "metadata": {
        "id": "7V0maSbRsgo3"
      }
    },
    {
      "cell_type": "code",
      "source": [
        "better_school=['SCHOOL_TYPE','EDUCATION_MAJOR','JOB_DUTIES']\n",
        "df_best_school=df[better_school]\n",
        "print(df_best_school)"
      ],
      "metadata": {
        "colab": {
          "base_uri": "https://localhost:8080/"
        },
        "id": "bdNcsp6TsnFq",
        "outputId": "c0001fbf-64ed-4b6d-8646-43cca9829525"
      },
      "execution_count": 10,
      "outputs": [
        {
          "output_type": "stream",
          "name": "stdout",
          "text": [
            "                     SCHOOL_TYPE   EDUCATION_MAJOR  \\\n",
            "0          college or university       engineering   \n",
            "1          college or university       engineering   \n",
            "2          college or university       engineering   \n",
            "3          college or university       engineering   \n",
            "4     trade school or university       engineering   \n",
            "...                          ...               ...   \n",
            "1369       college or university       engineering   \n",
            "1370       college or university       engineering   \n",
            "1371       college or university  zoology, biology   \n",
            "1372       college or university       engineering   \n",
            "1373       college or university       engineering   \n",
            "\n",
            "                                             JOB_DUTIES  \n",
            "0     A 311 Director is responsible for the successf...  \n",
            "1     A 311 Director is responsible for the successf...  \n",
            "2     A 311 Director is responsible for the successf...  \n",
            "3     An Accountant does professional accounting wor...  \n",
            "4     An Accounting Clerk performs difficult and res...  \n",
            "...                                                 ...  \n",
            "1369  A Zoo Curator of Education plans, develops, im...  \n",
            "1370  A Zoo Curator of Education plans, develops, im...  \n",
            "1371  A Zoo Registrar assists in the development and...  \n",
            "1372  A Zoo Registrar assists in the development and...  \n",
            "1373  A Zoo Registrar assists in the development and...  \n",
            "\n",
            "[1374 rows x 3 columns]\n"
          ]
        }
      ]
    },
    {
      "cell_type": "markdown",
      "source": [
        "What the best time in the year to be ready for a job applying in any experience level?"
      ],
      "metadata": {
        "id": "sZDWkgg6upW2"
      }
    },
    {
      "cell_type": "code",
      "source": [
        "#time_period=['OPEN_DATE','EXPERIENCE_LENGTH']\n",
        "#best_time_for_applying=df[time_period]\n",
        "df['Year']=df['OPEN_DATE'].dt.year\n",
        "time_period=['OPEN_DATE','EXPERIENCE_LENGTH','Year']\n",
        "best_time_for_applying=df[time_period]\n",
        "print(best_time_for_applying)"
      ],
      "metadata": {
        "colab": {
          "base_uri": "https://localhost:8080/"
        },
        "id": "UpBa2RiFuuEn",
        "outputId": "215aeb60-900c-4d59-a8a3-25639ce59df8"
      },
      "execution_count": 41,
      "outputs": [
        {
          "output_type": "stream",
          "name": "stdout",
          "text": [
            "      OPEN_DATE EXPERIENCE_LENGTH  Year\n",
            "0    2014-04-18               1.0  2014\n",
            "1    2014-04-18               4.0  2014\n",
            "2    2014-04-18               8.0  2014\n",
            "3    2018-06-22               2.0  2018\n",
            "4    2018-07-13               2.0  2018\n",
            "...         ...               ...   ...\n",
            "1369 2018-09-14               1.0  2018\n",
            "1370 2018-09-14               2.0  2018\n",
            "1371 2018-07-06               1.0  2018\n",
            "1372 2018-07-06               2.0  2018\n",
            "1373 2018-07-06               2.0  2018\n",
            "\n",
            "[1374 rows x 3 columns]\n"
          ]
        }
      ]
    },
    {
      "cell_type": "markdown",
      "source": [
        "Is experience more important than educational level?"
      ],
      "metadata": {
        "id": "Ph3JyYivxk3h"
      }
    },
    {
      "cell_type": "code",
      "source": [
        "experience_or_education=['SCHOOL_TYPE','EDUCATION_MAJOR','REQUIREMENT_SET_TEXT','EXPERIENCE_LENGTH']\n",
        "comparision_table=df[experience_or_education]\n",
        "print(comparision_table)"
      ],
      "metadata": {
        "colab": {
          "base_uri": "https://localhost:8080/"
        },
        "id": "ngVOgNNgxonc",
        "outputId": "84a5174f-54e3-48cf-fe96-74e9241466d2"
      },
      "execution_count": 12,
      "outputs": [
        {
          "output_type": "stream",
          "name": "stdout",
          "text": [
            "                     SCHOOL_TYPE   EDUCATION_MAJOR  \\\n",
            "0          college or university       engineering   \n",
            "1          college or university       engineering   \n",
            "2          college or university       engineering   \n",
            "3          college or university       engineering   \n",
            "4     trade school or university       engineering   \n",
            "...                          ...               ...   \n",
            "1369       college or university       engineering   \n",
            "1370       college or university       engineering   \n",
            "1371       college or university  zoology, biology   \n",
            "1372       college or university       engineering   \n",
            "1373       college or university       engineering   \n",
            "\n",
            "                                   REQUIREMENT_SET_TEXT EXPERIENCE_LENGTH  \n",
            "0     One year of full-time paid experience as a Sen...               1.0  \n",
            "1     A Bachelor's degree from a recognized college ...               4.0  \n",
            "2     Eight years of full-time paid experience in a ...               8.0  \n",
            "3     Graduation from an accredited four-year colleg...               2.0  \n",
            "4     Two years of full-time paid office clerical ex...               2.0  \n",
            "...                                                 ...               ...  \n",
            "1369  Graduation from an accredited four-year colleg...               1.0  \n",
            "1370  Current employment with the City of Los Angele...               2.0  \n",
            "1371  Graduation from an accredited four-year colleg...               1.0  \n",
            "1372  Two years of full-time paid experience supervi...               2.0  \n",
            "1373  Two years of full-time paid experience perform...               2.0  \n",
            "\n",
            "[1374 rows x 4 columns]\n"
          ]
        }
      ]
    },
    {
      "cell_type": "markdown",
      "source": [
        "Which fresh grade job that will guarantee many job offers in the future for him?"
      ],
      "metadata": {
        "id": "1jurWpYzz89x"
      }
    },
    {
      "cell_type": "code",
      "source": [
        "df['EXPERIENCE_LENGTH']\n",
        "best_jobs_fresher=df[df['EXPERIENCE_LENGTH']=='1.0']['EXP_JOB_CLASS_TITLE']\n",
        "print(best_jobs_fresher)"
      ],
      "metadata": {
        "colab": {
          "base_uri": "https://localhost:8080/"
        },
        "id": "jNFhgF9z0BQz",
        "outputId": "ef3ea1f2-5589-4387-a535-0671e228e8c0"
      },
      "execution_count": 13,
      "outputs": [
        {
          "output_type": "stream",
          "name": "stdout",
          "text": [
            "0                Senior Management Analyst\n",
            "6                     Management Assistant\n",
            "8                              Chief Clerk\n",
            "20                           Airport Guide\n",
            "34               Airport Police Lieutenant\n",
            "                       ...                \n",
            "1359                 Professional Engineer\n",
            "1361             Indemnity Claims Examiner\n",
            "1365                 Professional Engineer\n",
            "1369                 Professional Engineer\n",
            "1371    Assistant Or Associate Zoo Curator\n",
            "Name: EXP_JOB_CLASS_TITLE, Length: 115, dtype: object\n"
          ]
        }
      ]
    },
    {
      "cell_type": "markdown",
      "source": [
        "\"The City of Los Angeles does not discriminate on the basis of race, religion, national origin, sex, age, marital status, sexual orientation, gender identity, gender expression, disability, creed, color, ancestry, medical condition (cancer), or Acquired Immune Deficiency Syndrome.\n",
        "\n",
        "AN EQUAL EMPLOYMENT OPPORTUNITY EMPLOYER \"\n",
        "\n",
        "The above statment is qouted from one of the job descriptions.\n",
        "\n",
        "Based on the jobs requirments column above do you think that LA governate may bais a little for men over women or the applicant marital status for example may effect his chance to gain the job?\n"
      ],
      "metadata": {
        "id": "yCPv4bBw3EXR"
      }
    },
    {
      "cell_type": "code",
      "source": [
        "df.columns"
      ],
      "metadata": {
        "colab": {
          "base_uri": "https://localhost:8080/"
        },
        "id": "SFW_GaRJ0jOf",
        "outputId": "ba086dd5-cd30-469b-f4ad-c0b7bfb5066c"
      },
      "execution_count": 14,
      "outputs": [
        {
          "output_type": "execute_result",
          "data": {
            "text/plain": [
              "Index(['Unnamed: 0', 'FILE_NAME', 'JOB_CLASS_TITLE', 'JOB_CLASS_NO',\n",
              "       'REQUIREMENT_SET_ID', 'REQUIREMENT_SUBSET_ID', 'JOB_DUTIES',\n",
              "       'EDUCATION_YEARS', 'SCHOOL_TYPE', 'EDUCATION_MAJOR',\n",
              "       'EXPERIENCE_LENGTH', 'FULL_TIME_PART_TIME', 'EXP_JOB_CLASS_TITLE',\n",
              "       'EXP_JOB_CLASS_ALT_RESP', 'EXP_JOB_CLASS_FUNCTION', 'COURSE_COUNT',\n",
              "       'COURSE_LENGTH', 'COURSE_SUBJECT', 'MISC_COURSE_DETAILS',\n",
              "       'DRIVERS_LICENSE_REQ', 'DRIV_LIC_TYPE', 'ADDTL_LIC', 'EXAM_TYPE',\n",
              "       'ENTRY_SALARY_GEN', 'ENTRY_SALARY_DWP', 'OPEN_DATE',\n",
              "       'REQUIREMENT_SET_TEXT', 'REQUIREMENT_SUBSET_TEXT',\n",
              "       'REQUIREMENT_CONJUNCTION'],\n",
              "      dtype='object')"
            ]
          },
          "metadata": {},
          "execution_count": 14
        }
      ]
    },
    {
      "cell_type": "code",
      "source": [
        "JobTYPE=['REQUIREMENT_SET_TEXT','JOB_CLASS_TITLE']\n",
        "print(df[JobTYPE])"
      ],
      "metadata": {
        "colab": {
          "base_uri": "https://localhost:8080/"
        },
        "id": "aZaV_Z-rJCLS",
        "outputId": "53178eb3-5588-4f97-cea1-882f975f47ac"
      },
      "execution_count": 38,
      "outputs": [
        {
          "output_type": "stream",
          "name": "stdout",
          "text": [
            "                                   REQUIREMENT_SET_TEXT  \\\n",
            "0     One year of full-time paid experience as a Sen...   \n",
            "1     A Bachelor's degree from a recognized college ...   \n",
            "2     Eight years of full-time paid experience in a ...   \n",
            "3     Graduation from an accredited four-year colleg...   \n",
            "4     Two years of full-time paid office clerical ex...   \n",
            "...                                                 ...   \n",
            "1369  Graduation from an accredited four-year colleg...   \n",
            "1370  Current employment with the City of Los Angele...   \n",
            "1371  Graduation from an accredited four-year colleg...   \n",
            "1372  Two years of full-time paid experience supervi...   \n",
            "1373  Two years of full-time paid experience perform...   \n",
            "\n",
            "               JOB_CLASS_TITLE  \n",
            "0                 311 Director  \n",
            "1                 311 Director  \n",
            "2                 311 Director  \n",
            "3                   Accountant  \n",
            "4             Accounting Clerk  \n",
            "...                        ...  \n",
            "1369  Zoo Curator Of Education  \n",
            "1370  Zoo Curator Of Education  \n",
            "1371             Zoo Registrar  \n",
            "1372             Zoo Registrar  \n",
            "1373             Zoo Registrar  \n",
            "\n",
            "[1374 rows x 2 columns]\n"
          ]
        }
      ]
    },
    {
      "cell_type": "code",
      "source": [
        "df['FILE_NAME'].value_counts()\n",
        "index_pr=df[df['FILE_NAME']=='The City of Los Angeles does not discriminate on the basis of race, religion, national origin, sex, age, marital status, sexual orientation, gender identity, gender expression, disability, creed, color, ancestry, medical condition (cancer), or Acquired Immune Deficiency Syndrome.AN EQUAL EMPLOYMENT OPPORTUNITY EMPLOYER'].index\n",
        "print(df.loc[index_pr])"
      ],
      "metadata": {
        "colab": {
          "base_uri": "https://localhost:8080/"
        },
        "id": "2usTC9q3MAUI",
        "outputId": "0246fe12-1d10-4c88-c09d-0f0ed80dd275"
      },
      "execution_count": 39,
      "outputs": [
        {
          "output_type": "stream",
          "name": "stdout",
          "text": [
            "Empty DataFrame\n",
            "Columns: [Unnamed: 0, FILE_NAME, JOB_CLASS_TITLE, JOB_CLASS_NO, REQUIREMENT_SET_ID, REQUIREMENT_SUBSET_ID, JOB_DUTIES, EDUCATION_YEARS, SCHOOL_TYPE, EDUCATION_MAJOR, EXPERIENCE_LENGTH, FULL_TIME_PART_TIME, EXP_JOB_CLASS_TITLE, EXP_JOB_CLASS_ALT_RESP, EXP_JOB_CLASS_FUNCTION, COURSE_COUNT, COURSE_LENGTH, COURSE_SUBJECT, MISC_COURSE_DETAILS, DRIVERS_LICENSE_REQ, DRIV_LIC_TYPE, ADDTL_LIC, EXAM_TYPE, ENTRY_SALARY_GEN, ENTRY_SALARY_DWP, OPEN_DATE, REQUIREMENT_SET_TEXT, REQUIREMENT_SUBSET_TEXT, REQUIREMENT_CONJUNCTION]\n",
            "Index: []\n",
            "\n",
            "[0 rows x 29 columns]\n"
          ]
        }
      ]
    }
  ]
}