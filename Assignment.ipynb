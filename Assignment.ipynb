{
  "nbformat": 4,
  "nbformat_minor": 0,
  "metadata": {
    "colab": {
      "provenance": [],
      "authorship_tag": "ABX9TyNiuMDwB2idlhKvWgxnWA18",
      "include_colab_link": true
    },
    "kernelspec": {
      "name": "python3",
      "display_name": "Python 3"
    },
    "language_info": {
      "name": "python"
    }
  },
  "cells": [
    {
      "cell_type": "markdown",
      "metadata": {
        "id": "view-in-github",
        "colab_type": "text"
      },
      "source": [
        "<a href=\"https://colab.research.google.com/github/A-THAKUR22/AVISOFTAT/blob/main/Assignment.ipynb\" target=\"_parent\"><img src=\"https://colab.research.google.com/assets/colab-badge.svg\" alt=\"Open In Colab\"/></a>"
      ]
    },
    {
      "cell_type": "code",
      "execution_count": null,
      "metadata": {
        "colab": {
          "base_uri": "https://localhost:8080/"
        },
        "id": "uhZxa6FLYnhS",
        "outputId": "a5d1e971-e900-4f31-d2b3-f2a39b1ae494"
      },
      "outputs": [
        {
          "name": "stdout",
          "output_type": "stream",
          "text": [
            "Enter your string:abcbde\n"
          ]
        },
        {
          "output_type": "execute_result",
          "data": {
            "text/plain": [
              "['a', 'c', 'd', 'e']"
            ]
          },
          "metadata": {},
          "execution_count": 2
        }
      ],
      "source": [
        "def unique_characters(string):\n",
        "  char_count={}\n",
        "  for char in string:\n",
        "    char_count[char]=char_count.get(char,0)+1\n",
        "  non_repeating_chars=[char for char, count in char_count.items() if count == 1]\n",
        "  return non_repeating_chars\n",
        "my_string=input(\"Enter your string:\")\n",
        "unique_characters(my_string)"
      ]
    },
    {
      "cell_type": "code",
      "source": [
        "def dec_to_binary(n):\n",
        "  binary_represent=bin(n)\n",
        "  return binary_represent[2:]\n",
        "number=int(input(\"Enter the decimal number:\"))\n",
        "dec_to_binary(number)"
      ],
      "metadata": {
        "colab": {
          "base_uri": "https://localhost:8080/",
          "height": 53
        },
        "id": "MYFbGnh4kXwy",
        "outputId": "d8d35757-47b8-42e0-dfdf-8d08dc6e3775"
      },
      "execution_count": null,
      "outputs": [
        {
          "name": "stdout",
          "output_type": "stream",
          "text": [
            "Enter the decimal number:12\n"
          ]
        },
        {
          "output_type": "execute_result",
          "data": {
            "text/plain": [
              "'1100'"
            ],
            "application/vnd.google.colaboratory.intrinsic+json": {
              "type": "string"
            }
          },
          "metadata": {},
          "execution_count": 2
        }
      ]
    },
    {
      "cell_type": "code",
      "source": [
        "def reverse_num(n):\n",
        "  new=int(str(n)[::-1])\n",
        "  return new\n",
        "number=int(input(\"Enter the number:\"))\n",
        "reverse_num(number)\n",
        "\n"
      ],
      "metadata": {
        "colab": {
          "base_uri": "https://localhost:8080/"
        },
        "id": "CGdoj159r1Aj",
        "outputId": "067cc5ad-9412-4fbc-b811-364381502acd"
      },
      "execution_count": null,
      "outputs": [
        {
          "name": "stdout",
          "output_type": "stream",
          "text": [
            "Enter the number:2456\n"
          ]
        },
        {
          "output_type": "execute_result",
          "data": {
            "text/plain": [
              "6542"
            ]
          },
          "metadata": {},
          "execution_count": 16
        }
      ]
    },
    {
      "cell_type": "code",
      "source": [
        "def Fahren_Cel_conv(s,e,w):\n",
        "  current=s\n",
        "  while current<=e:\n",
        "    cel=round((5/9)*(current-32))\n",
        "    print(f\"{current}\\t{cel}\")\n",
        "    current+=w\n",
        "\n",
        "start=int(input(\"Enter starting fahrenheit:\"))\n",
        "end=int(input(\"Enter ending fahrenheit:\"))\n",
        "step=int(input(\"Enter the stepping value:\"))\n",
        "Fahren_Cel_conv(start,end,step)\n",
        "\n"
      ],
      "metadata": {
        "colab": {
          "base_uri": "https://localhost:8080/"
        },
        "id": "iWR4Zii0c8G1",
        "outputId": "e3186507-5b7e-4b3d-f074-f606e3e2d3ab"
      },
      "execution_count": null,
      "outputs": [
        {
          "output_type": "stream",
          "name": "stdout",
          "text": [
            "Enter starting fahrenheit:120\n",
            "Enter ending fahrenheit:200\n",
            "Enter the stepping value:40\n",
            "120\t49\n",
            "160\t71\n",
            "200\t93\n"
          ]
        }
      ]
    },
    {
      "cell_type": "code",
      "source": [
        "def odd_even(num):\n",
        "  odd_sum=0\n",
        "  even_sum=0\n",
        "  while num>0:\n",
        "    a=num%10\n",
        "    if a%2==0:\n",
        "      even_sum+=a\n",
        "    else:\n",
        "      odd_sum+=a\n",
        "    num=num//10\n",
        "  return odd_sum, even_sum\n",
        "number=int(input(\"Enter your number:\"))\n",
        "odd_even(number)\n"
      ],
      "metadata": {
        "colab": {
          "base_uri": "https://localhost:8080/"
        },
        "id": "xjIP2VrThxKi",
        "outputId": "c509cc78-3bdb-4c77-968e-92967ad4af27"
      },
      "execution_count": null,
      "outputs": [
        {
          "name": "stdout",
          "output_type": "stream",
          "text": [
            "Enter your number:6\n"
          ]
        },
        {
          "output_type": "execute_result",
          "data": {
            "text/plain": [
              "(0, 6)"
            ]
          },
          "metadata": {},
          "execution_count": 14
        }
      ]
    },
    {
      "cell_type": "code",
      "source": [
        "size=int(input(\"Enter the size:\"))\n",
        "for i in range(1,size):\n",
        "  for j in range(size):\n",
        "    print(j+1,end=\"\")\n",
        "  print()"
      ],
      "metadata": {
        "colab": {
          "base_uri": "https://localhost:8080/"
        },
        "id": "lgncwbHQs3CB",
        "outputId": "4dd9f5fa-307e-4903-fbe8-1e1481c55137"
      },
      "execution_count": null,
      "outputs": [
        {
          "output_type": "stream",
          "name": "stdout",
          "text": [
            "Enter the size:4\n",
            "1234\n",
            "1234\n",
            "1234\n"
          ]
        }
      ]
    },
    {
      "cell_type": "code",
      "source": [
        "def factors_of_num(n):\n",
        "  factors=[]\n",
        "  for i in range(2,int(n**0.5)):\n",
        "    if n%i==0:\n",
        "      factors.append(i)\n",
        "  if len(factors)>=2:\n",
        "    print(factors)\n",
        "  else:\n",
        "    print(\"-1\")\n",
        "number=int(input(\"Enter your number:\"))\n",
        "factors_of_num(number)\n"
      ],
      "metadata": {
        "colab": {
          "base_uri": "https://localhost:8080/"
        },
        "id": "DyyYHmGUlgZj",
        "outputId": "c51b1912-41bb-4eee-f467-4cf0f63d7536"
      },
      "execution_count": 11,
      "outputs": [
        {
          "output_type": "stream",
          "name": "stdout",
          "text": [
            "Enter your number:4\n",
            "-1\n"
          ]
        }
      ]
    },
    {
      "cell_type": "code",
      "source": [
        "size=int(input(\"Enter the size:\"))\n",
        "for i in range(1,size+1):\n",
        "  for j in range(size-i):\n",
        "    print(\" \",end=\"\")\n",
        "  for j in range(i,2*i):\n",
        "    print(j,end=\"\")\n",
        "  for k in range(2 * i - 2, i - 1, -1):\n",
        "    print(k,end=\"\")\n",
        "  print()\n"
      ],
      "metadata": {
        "colab": {
          "base_uri": "https://localhost:8080/"
        },
        "id": "nTCFMYDNmc7Z",
        "outputId": "70e44ada-4615-40e4-9b02-b1cf79acd807"
      },
      "execution_count": 1,
      "outputs": [
        {
          "output_type": "stream",
          "name": "stdout",
          "text": [
            "Enter the size:5\n",
            "    1\n",
            "   232\n",
            "  34543\n",
            " 4567654\n",
            "567898765\n"
          ]
        }
      ]
    },
    {
      "cell_type": "code",
      "source": [
        "def palindrome_check(n):\n",
        "  if str(n)[:]==str(n)[::-1]:\n",
        "    return True\n",
        "  else:\n",
        "    return False\n",
        "num=int(input(\"Enter the number:\"))\n",
        "palindrome_check(num)"
      ],
      "metadata": {
        "colab": {
          "base_uri": "https://localhost:8080/"
        },
        "id": "2KXmcDxQmc-3",
        "outputId": "b8999568-6ac4-4918-814a-3d6113feecf4"
      },
      "execution_count": 4,
      "outputs": [
        {
          "name": "stdout",
          "output_type": "stream",
          "text": [
            "Enter the number:12321\n"
          ]
        },
        {
          "output_type": "execute_result",
          "data": {
            "text/plain": [
              "True"
            ]
          },
          "metadata": {},
          "execution_count": 4
        }
      ]
    },
    {
      "cell_type": "code",
      "source": [
        "def triangle(num):\n",
        "\n",
        "  for i in range(1,num+1):\n",
        "    current=0\n",
        "    for j in range(1,i+1):\n",
        "      current+=j\n",
        "      print(j,end=\"\")\n",
        "      if j<i:\n",
        "        print(\"+\", end=\"\")\n",
        "    print(f\"={current}\")\n",
        "n=int(input(\"Enter you number:\"))\n",
        "triangle(n)\n",
        "\n"
      ],
      "metadata": {
        "colab": {
          "base_uri": "https://localhost:8080/"
        },
        "id": "kC-HPvb3q9KV",
        "outputId": "91312a74-a974-40ae-b3e6-179a8170935c"
      },
      "execution_count": 5,
      "outputs": [
        {
          "output_type": "stream",
          "name": "stdout",
          "text": [
            "Enter you number:5\n",
            "1=1\n",
            "1+2=3\n",
            "1+2+3=6\n",
            "1+2+3+4=10\n",
            "1+2+3+4+5=15\n"
          ]
        }
      ]
    },
    {
      "cell_type": "code",
      "source": [
        "def is_prime(num):\n",
        "    if num < 2:\n",
        "        return False\n",
        "    for i in range(2, int(num**0.5) + 1):\n",
        "        if num % i == 0:\n",
        "            return False\n",
        "    return True\n",
        "\n",
        "def print_primes(N):\n",
        "    for i in range(2, N + 1):\n",
        "        if is_prime(i):\n",
        "            print(i)\n",
        "\n",
        "N = int(input(\"Enter the number: \"))\n",
        "print_primes(N)\n"
      ],
      "metadata": {
        "colab": {
          "base_uri": "https://localhost:8080/"
        },
        "id": "lmIzGp3SwhpM",
        "outputId": "5eb8fcb1-1bb9-48c5-c21f-a22729a66e33"
      },
      "execution_count": null,
      "outputs": [
        {
          "output_type": "stream",
          "name": "stdout",
          "text": [
            "Enter the number: 7\n",
            "2\n",
            "3\n",
            "5\n",
            "7\n"
          ]
        }
      ]
    },
    {
      "cell_type": "code",
      "source": [
        "string=input(\"Enter your sentence:\")\n",
        "list=string.split()\n",
        "reversed_string=list[::-1]\n",
        "string=' '.join(reversed_string)\n",
        "print(string)"
      ],
      "metadata": {
        "colab": {
          "base_uri": "https://localhost:8080/"
        },
        "id": "YKpFu9pn3YNQ",
        "outputId": "af6f90b6-ac87-4d5a-c7d0-ee63ea200f67"
      },
      "execution_count": null,
      "outputs": [
        {
          "output_type": "stream",
          "name": "stdout",
          "text": [
            "Enter your sentence:My name is amay thakur\n",
            "thakur amay is name My\n"
          ]
        }
      ]
    },
    {
      "cell_type": "code",
      "source": [
        "size=int(input(\"Enter the size:\"))\n",
        "for i in range(size,0,-1):\n",
        "  for j in range(size):\n",
        "    print(\" \",end=\"\")\n",
        "  for j in range(i,2*i):\n",
        "    if j%2==0:\n",
        "      print(j,end=\"\")\n",
        "    else:\n",
        "      print(\"*\",end=\"\")\n",
        "  for k in range(2*i-2,i-1,-1):\n",
        "    if k%2==0:\n",
        "      print(k,end=\"\")\n",
        "    else:\n",
        "      print(\"*\",end=\"\")\n",
        "\n",
        "\n",
        "  print()"
      ],
      "metadata": {
        "colab": {
          "base_uri": "https://localhost:8080/"
        },
        "id": "ZaL5JqX9Huzf",
        "outputId": "568f110f-35c1-4a72-d92d-a602c5c2c711"
      },
      "execution_count": 6,
      "outputs": [
        {
          "output_type": "stream",
          "name": "stdout",
          "text": [
            "Enter the size:5\n",
            "     *6*8*8*6*\n",
            "     4*6*6*4\n",
            "     *4*4*\n",
            "     2*2\n",
            "     *\n"
          ]
        }
      ]
    },
    {
      "cell_type": "code",
      "source": [],
      "metadata": {
        "id": "iAnCT2pd6wd5"
      },
      "execution_count": null,
      "outputs": []
    },
    {
      "cell_type": "code",
      "source": [
        "size=int(input(\"Enter the size:\"))\n",
        "for i in range(1,size+1):\n",
        "  for j in range(size,0,-1):\n",
        "    if j==i:\n",
        "      print(\"*\",end=\"\")\n",
        "    else:\n",
        "      print(j,end=\"\")\n",
        "  print()"
      ],
      "metadata": {
        "colab": {
          "base_uri": "https://localhost:8080/"
        },
        "id": "-PJJPgNt5xlX",
        "outputId": "fad5905b-eeee-4755-9a95-29f1833387e2"
      },
      "execution_count": null,
      "outputs": [
        {
          "output_type": "stream",
          "name": "stdout",
          "text": [
            "Enter the size:5\n",
            "5432*\n",
            "543*1\n",
            "54*21\n",
            "5*321\n",
            "*4321\n"
          ]
        }
      ]
    }
  ]
}