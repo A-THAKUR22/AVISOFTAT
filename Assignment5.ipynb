{
  "nbformat": 4,
  "nbformat_minor": 0,
  "metadata": {
    "colab": {
      "provenance": [],
      "authorship_tag": "ABX9TyMDLiy2eDM2vdEA6VPgVhtB",
      "include_colab_link": true
    },
    "kernelspec": {
      "name": "python3",
      "display_name": "Python 3"
    },
    "language_info": {
      "name": "python"
    }
  },
  "cells": [
    {
      "cell_type": "markdown",
      "metadata": {
        "id": "view-in-github",
        "colab_type": "text"
      },
      "source": [
        "<a href=\"https://colab.research.google.com/github/A-THAKUR22/AVISOFTAT/blob/main/Assignment5.ipynb\" target=\"_parent\"><img src=\"https://colab.research.google.com/assets/colab-badge.svg\" alt=\"Open In Colab\"/></a>"
      ]
    },
    {
      "cell_type": "markdown",
      "source": [
        "Similar strings"
      ],
      "metadata": {
        "id": "Zk6SJqH6bU8D"
      }
    },
    {
      "cell_type": "code",
      "execution_count": 30,
      "metadata": {
        "colab": {
          "base_uri": "https://localhost:8080/"
        },
        "id": "a7Hp6_cnZUm4",
        "outputId": "2a6bdeb5-cc84-48a3-f39d-151f29174eb3"
      },
      "outputs": [
        {
          "output_type": "stream",
          "name": "stdout",
          "text": [
            "Enter first string:ab\n",
            "Enter second string:ba\n",
            "1\n"
          ]
        }
      ],
      "source": [
        "A=input(\"Enter first string:\")\n",
        "B=input(\"Enter second string:\")\n",
        "l1=len(A)\n",
        "l2=len(B)\n",
        "if A==B:\n",
        "  print(\"1\")\n",
        "if l1%2==0 and l2%2==0:\n",
        "  mid=l1//2\n",
        "  A1,A2=A[:mid],A[mid:]\n",
        "  B1,B2=B[:mid],B[mid:]\n",
        "  if (A1==B1 and A2==B2) or (A1==B2 and A2==B1):\n",
        "    print(\"1\")\n",
        "else:\n",
        "  print(\"0\")\n",
        "\n",
        "\n",
        ""
      ]
    },
    {
      "cell_type": "markdown",
      "source": [
        "distinct substrings"
      ],
      "metadata": {
        "id": "vmAMwJY7kegU"
      }
    },
    {
      "cell_type": "code",
      "source": [
        "n=int(input(\"Enter the size of string:\"))\n",
        "string1=input(\"Enter the your string:\")\n",
        "if n>26:\n",
        "  print(\"-1\")\n",
        "char_c={}\n",
        "for char in string1:\n",
        "  char_c[char]=char_c.get(char,0)+1\n",
        "  excess=sum(count-1 for count in char_c.values())\n",
        "  new=max(0,excess)\n",
        "print(new)\n"
      ],
      "metadata": {
        "colab": {
          "base_uri": "https://localhost:8080/"
        },
        "id": "MQ_snIq1B2eR",
        "outputId": "3285e095-6401-4af8-e9aa-bbacc347738c"
      },
      "execution_count": 49,
      "outputs": [
        {
          "output_type": "stream",
          "name": "stdout",
          "text": [
            "Enter the size of string:4\n",
            "Enter the your string:abcd\n",
            "0\n"
          ]
        }
      ]
    },
    {
      "cell_type": "markdown",
      "source": [
        "Balanced string"
      ],
      "metadata": {
        "id": "uS07EoNpGXl1"
      }
    },
    {
      "cell_type": "code",
      "source": [
        "def possible_balanced_strings(s):\n",
        "    def is_valid(string):\n",
        "        count = 0\n",
        "        for char in string:\n",
        "            if char == '(':\n",
        "                count += 1\n",
        "            elif char == ')':\n",
        "                count -= 1\n",
        "            if count < 0:\n",
        "                return False\n",
        "        return count == 0\n",
        "\n",
        "    def backtrack(index, current):\n",
        "        if index == len(s):\n",
        "            if is_valid(current):\n",
        "                result.add(current)\n",
        "            return\n",
        "\n",
        "\n",
        "        backtrack(index + 1, current + s[index])\n",
        "\n",
        "\n",
        "        backtrack(index + 1, current)\n",
        "\n",
        "    result = set()\n",
        "    backtrack(0, '')\n",
        "\n",
        "    return list(result)\n",
        "\n",
        "\n",
        "input_string = input(\"Enter the string of ():\")\n",
        "\n",
        "\n",
        "result_strings = possible_balanced_strings(input_string)\n",
        "\n",
        "\n",
        "print(result_strings)"
      ],
      "metadata": {
        "colab": {
          "base_uri": "https://localhost:8080/"
        },
        "id": "T7gFf4eBGcFz",
        "outputId": "06ba5545-5b49-4e98-c5f7-020a222f9e18"
      },
      "execution_count": 70,
      "outputs": [
        {
          "output_type": "stream",
          "name": "stdout",
          "text": [
            "Enter the string of ():()()))()\n",
            "['', '(())', '()()', '()', '()()()', '(())()']\n"
          ]
        }
      ]
    },
    {
      "cell_type": "markdown",
      "source": [
        "multiplying strings"
      ],
      "metadata": {
        "id": "fG6j0p1JlTM6"
      }
    },
    {
      "cell_type": "code",
      "source": [
        "def multipy_strings(num1,num2):\n",
        "  l1=len(num1)\n",
        "  l2=len(num2)\n",
        "  result=[0]*(l1+l1)\n",
        "  for i in range(l1-1,-1,-1):\n",
        "    carry=0\n",
        "    for j in range(l2-1,-1,-1):\n",
        "      temp=(ord(num1[i])-ord('0'))*(ord(num2[j])-ord('0'))+result[i+j+1]+carry\n",
        "      result[i+j+1]=temp%10\n",
        "      carry=temp//10\n",
        "    result[i]+=carry\n",
        "  result_s=''.join(map(str,result))\n",
        "  result_s=result_s.lstrip('0')\n",
        "\n",
        "  return result_s if result_s else '0'\n",
        "\n",
        "n1=input(\"Enter the first string number:\")\n",
        "n2=input(\"Enter the second string number:\")\n",
        "\n",
        "multipy_strings(n1,n2)\n",
        "\n"
      ],
      "metadata": {
        "colab": {
          "base_uri": "https://localhost:8080/",
          "height": 70
        },
        "id": "DbAXUB9VlXcv",
        "outputId": "1278c960-2e55-4e0f-de37-df2572239fa2"
      },
      "execution_count": 71,
      "outputs": [
        {
          "name": "stdout",
          "output_type": "stream",
          "text": [
            "Enter the first string number:17281\n",
            "Enter the second string number:91276\n"
          ]
        },
        {
          "output_type": "execute_result",
          "data": {
            "text/plain": [
              "'1577340556'"
            ],
            "application/vnd.google.colaboratory.intrinsic+json": {
              "type": "string"
            }
          },
          "metadata": {},
          "execution_count": 71
        }
      ]
    }
  ]
}