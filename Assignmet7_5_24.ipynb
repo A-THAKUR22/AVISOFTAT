{
  "nbformat": 4,
  "nbformat_minor": 0,
  "metadata": {
    "colab": {
      "provenance": [],
      "authorship_tag": "ABX9TyMiBz8sYetiIkX27n6umoXU",
      "include_colab_link": true
    },
    "kernelspec": {
      "name": "python3",
      "display_name": "Python 3"
    },
    "language_info": {
      "name": "python"
    }
  },
  "cells": [
    {
      "cell_type": "markdown",
      "metadata": {
        "id": "view-in-github",
        "colab_type": "text"
      },
      "source": [
        "<a href=\"https://colab.research.google.com/github/A-THAKUR22/AVISOFTAT/blob/main/Assignmet7_5_24.ipynb\" target=\"_parent\"><img src=\"https://colab.research.google.com/assets/colab-badge.svg\" alt=\"Open In Colab\"/></a>"
      ]
    },
    {
      "cell_type": "markdown",
      "source": [
        "Date time program\n",
        "Write a Python script to display the various Date Time formats -\n",
        "\n",
        "a) Current date and time\n",
        "b) Current year\n",
        "c) Month of year\n",
        "d) Week number of the year\n",
        "e) Weekday of the week\n",
        "f) Day of year\n",
        "g) Day of the month\n",
        "h) Day of week"
      ],
      "metadata": {
        "id": "Sv0wVACTtJzO"
      }
    },
    {
      "cell_type": "code",
      "execution_count": 15,
      "metadata": {
        "colab": {
          "base_uri": "https://localhost:8080/"
        },
        "id": "X3qldpjZtAke",
        "outputId": "889374e4-e76d-47d0-da18-cca83ce76892"
      },
      "outputs": [
        {
          "output_type": "stream",
          "name": "stdout",
          "text": [
            "2024-02-05 05:43:59.448311\n",
            "2024\n",
            "2\n",
            "05\n",
            "0\n",
            "36\n",
            "5\n",
            "0\n"
          ]
        }
      ],
      "source": [
        "from datetime import datetime\n",
        "#a)\n",
        "current=datetime.now()\n",
        "print(current)\n",
        "#b)\n",
        "current_y=current.year\n",
        "print(current_y)\n",
        "#c)\n",
        "current_m=current.month\n",
        "print(current_m)\n",
        "#d)\n",
        "current_w=current.strftime(\"%U\")\n",
        "print(current_w)\n",
        "#e)\n",
        "#0=Monday, 1=Tuesday, ... so on.\n",
        "current_d=current.weekday()\n",
        "print(current_d)\n",
        "#f\n",
        "Day_of_year_current=current.timetuple().tm_yday\n",
        "print(Day_of_year_current)\n",
        "#g\n",
        "Day_of_month_current=current.timetuple().tm_mday\n",
        "print(Day_of_month_current)\n",
        "#h\n",
        "Day_of_week_current=current.timetuple().tm_wday\n",
        "print(Day_of_week_current)"
      ]
    },
    {
      "cell_type": "markdown",
      "source": [
        "Subtract 5 days from the current date"
      ],
      "metadata": {
        "id": "mp_dhn7Cy39h"
      }
    },
    {
      "cell_type": "code",
      "source": [
        "from datetime import datetime , timedelta\n",
        "current=datetime.now()\n",
        "new_date=current-timedelta(days=5)\n",
        "print(f\"Current date:{current}\")\n",
        "print(f\"5 days before: {new_date}\")"
      ],
      "metadata": {
        "colab": {
          "base_uri": "https://localhost:8080/"
        },
        "id": "atSExGYZt8O9",
        "outputId": "3933195e-0f1a-475d-b3dc-4831eafff31c"
      },
      "execution_count": 16,
      "outputs": [
        {
          "output_type": "stream",
          "name": "stdout",
          "text": [
            "Current date:2024-02-05 05:51:42.331211\n",
            "5 days before: 2024-01-31 05:51:42.331211\n"
          ]
        }
      ]
    },
    {
      "cell_type": "markdown",
      "source": [
        "Number of days between two date times"
      ],
      "metadata": {
        "id": "tZwRM8_y0qGc"
      }
    },
    {
      "cell_type": "code",
      "source": [
        "from datetime import datetime , timedelta\n",
        "current=datetime.now()\n",
        "new_date=current+timedelta(weeks=5)\n",
        "difference=new_date-current\n",
        "print(f\"The no. of days between {current} and {new_date} is: {difference}\")"
      ],
      "metadata": {
        "colab": {
          "base_uri": "https://localhost:8080/"
        },
        "id": "X7J0rCRm0qop",
        "outputId": "886b4a3f-c340-4fd2-8b4c-5960e5dcf62d"
      },
      "execution_count": 18,
      "outputs": [
        {
          "output_type": "stream",
          "name": "stdout",
          "text": [
            "The no. of days between 2024-02-05 05:55:22.434964 and 2024-03-11 05:55:22.434964 is: 35 days, 0:00:00\n"
          ]
        }
      ]
    },
    {
      "cell_type": "markdown",
      "source": [
        "Read an entire text file"
      ],
      "metadata": {
        "id": "m77iZ5g91fy0"
      }
    },
    {
      "cell_type": "code",
      "source": [
        "try:\n",
        "  with open('MyFile.txt','r') as file:\n",
        "    content=file.read()\n",
        "\n",
        "except FileNotFoundError:\n",
        "  with open('MyFile.txt','w') as file:\n",
        "    file.write('Hey.This is new content./n')\n",
        "  with open('MyFile.txt','r') as file:\n",
        "    content=file.read()\n",
        "print(content)"
      ],
      "metadata": {
        "colab": {
          "base_uri": "https://localhost:8080/"
        },
        "id": "h7vkvUc-1gJr",
        "outputId": "8a07a8df-5392-438f-9596-4f73cceb79e2"
      },
      "execution_count": 27,
      "outputs": [
        {
          "output_type": "stream",
          "name": "stdout",
          "text": [
            "Hey. This is new content.Hey. This is new content.\n",
            "First line is this.\n",
            "\n",
            "Hey you have reached second line.\n",
            "\n",
            "Its the third line.\n",
            "\n",
            "This is fourth line.\n",
            "\n",
            "You're at fifth line.\n",
            "\n",
            "Sixth line.\n",
            "\n",
            "Seventh line.Great.\n",
            "\n",
            "First line is this.\n",
            "\n",
            "Hey you have reached second line.\n",
            "\n",
            "Its the third line.\n",
            "\n",
            "This is fourth line.\n",
            "\n",
            "You're at fifth line.\n",
            "\n",
            "Sixth line.\n",
            "\n",
            "Seventh line.Great.\n",
            "\n"
          ]
        }
      ]
    },
    {
      "cell_type": "markdown",
      "source": [
        "Read first n lines of a file"
      ],
      "metadata": {
        "id": "JqT07RpW7hwh"
      }
    },
    {
      "cell_type": "code",
      "source": [
        "n=5\n",
        "lines_to_write=[\"First line is this.\",\n",
        "                \"Hey you have reached second line.\",\n",
        "                \"Its the third line.\",\n",
        "                \"This is fourth line.\",\n",
        "                \"You're at fifth line.\",\n",
        "                \"Sixth line.\",\n",
        "                \"Seventh line.Great.\"]\n",
        "try:\n",
        "  with open('MyFile.txt','r') as file:\n",
        "    existing=file.read()\n",
        "except FileNotFoundError:\n",
        "  existing=\"\"\n",
        "with open('MyFile.txt','w') as file:\n",
        "  file.write(existing)\n",
        "\n",
        "  file.writelines(\"\\n\" + line + \"\\n\" for line in lines_to_write)\n",
        "try:\n",
        "  with open('MyFile.txt', 'r') as file:\n",
        "    lines=[next(file) for _ in range(n)]\n",
        "except FileNotFoundError:\n",
        "  lines=[]\n",
        "for line in lines:\n",
        "  print(line.strip())"
      ],
      "metadata": {
        "colab": {
          "base_uri": "https://localhost:8080/"
        },
        "id": "-jcdjUAx9Wfb",
        "outputId": "bc2be2cf-501d-41d5-bdf8-569c2acc8d33"
      },
      "execution_count": 28,
      "outputs": [
        {
          "output_type": "stream",
          "name": "stdout",
          "text": [
            "Hey. This is new content.Hey. This is new content.\n",
            "First line is this.\n",
            "\n",
            "Hey you have reached second line.\n",
            "\n"
          ]
        }
      ]
    },
    {
      "cell_type": "markdown",
      "source": [
        "Read last n lines of a file"
      ],
      "metadata": {
        "id": "D2bM9VJkB3hL"
      }
    },
    {
      "cell_type": "code",
      "source": [
        "def last_lines(file_path,n):\n",
        "  try:\n",
        "    with open(file_path,'r') as file:\n",
        "      all_lines=file.readlines()\n",
        "      start_index=max(0,len(all_lines)-n)\n",
        "      last_n=all_lines[start_index:]\n",
        "  except FileNotFoundError:\n",
        "    last_n=[]\n",
        "    with open(file_path,'w') as file:\n",
        "      file.write('This is new.')\n",
        "  return last_n\n",
        "\n",
        "file_path=\"MyFile.txt\"\n",
        "n=4\n",
        "last_n=last_lines(file_path,n)\n",
        "\n",
        "for line in last_n:\n",
        "  print(line.strip())\n"
      ],
      "metadata": {
        "colab": {
          "base_uri": "https://localhost:8080/"
        },
        "id": "GoE926-JB59V",
        "outputId": "43ace11b-e5fc-4066-9805-c9143a8ffe23"
      },
      "execution_count": 32,
      "outputs": [
        {
          "output_type": "stream",
          "name": "stdout",
          "text": [
            "\n",
            "Sixth line.\n",
            "\n",
            "Seventh line.Great.\n"
          ]
        }
      ]
    },
    {
      "cell_type": "markdown",
      "source": [
        "File size of a plain file"
      ],
      "metadata": {
        "id": "vilWCLdRGGxG"
      }
    },
    {
      "cell_type": "code",
      "source": [
        "import os\n",
        "file_path=\"MyFile.txt\"\n",
        "try:\n",
        "  size=os.path.getsize(file_path)\n",
        "  print(f\"The size of {file_path} is {size}.\")\n",
        "except FileNotFoundError:\n",
        "  print(\"File does not exist.\")\n",
        "except Exception as e:\n",
        "  print(f\"Error Occured: {e}\")\n"
      ],
      "metadata": {
        "colab": {
          "base_uri": "https://localhost:8080/"
        },
        "id": "UmPMQxGcGMPC",
        "outputId": "a73a00c8-0e33-48f7-c218-49df4361bac0"
      },
      "execution_count": 33,
      "outputs": [
        {
          "output_type": "stream",
          "name": "stdout",
          "text": [
            "The size of MyFile.txt is 518.\n"
          ]
        }
      ]
    },
    {
      "cell_type": "markdown",
      "source": [
        "Text file as input and returns the number of words of a given text file"
      ],
      "metadata": {
        "id": "tuwRo-VeH-h7"
      }
    },
    {
      "cell_type": "code",
      "source": [
        "file_path=input(\"Enter the text file path:\")\n",
        "try:\n",
        "  with open(file_path,'r') as file:\n",
        "    content=file.read()\n",
        "    words=content.split()\n",
        "    length=len(words)\n",
        "    print(f\"The number of words in {file_path} is {length}.\")\n",
        "except FileNotFoundError:\n",
        "  print(\"There is no such file.\")\n",
        ""
      ],
      "metadata": {
        "colab": {
          "base_uri": "https://localhost:8080/"
        },
        "id": "wWxyv64PIFSY",
        "outputId": "e90226ee-4985-40ca-8fbc-a1368644677c"
      },
      "execution_count": 34,
      "outputs": [
        {
          "output_type": "stream",
          "name": "stdout",
          "text": [
            "Enter the text file path:MyFile.txt\n",
            "The number of words in MyFile.txt is 87.\n"
          ]
        }
      ]
    },
    {
      "cell_type": "markdown",
      "source": [
        "Generate 26 text files named A.txt, B.txt, and so on up to Z.txt"
      ],
      "metadata": {
        "id": "t7GmeUVwJc20"
      }
    },
    {
      "cell_type": "code",
      "source": [
        "for i in range(26):\n",
        "  file_name=chr(ord('A')+i)+'.'+'txt'\n",
        "  with open(file_name,'w') as file:\n",
        "    file.write(f\"This the content in {file_name}. \")\n",
        "  try:\n",
        "    with open(file_name,'r') as file:\n",
        "      content=file.read()\n",
        "      print(f\"Content of {file_name}:{content}\")\n",
        "  except FileNotFoundError:\n",
        "    print(f\"No files found\")\n",
        "\n"
      ],
      "metadata": {
        "colab": {
          "base_uri": "https://localhost:8080/"
        },
        "id": "kqEMyxwKKTnR",
        "outputId": "63bced92-28fa-4deb-bab0-6cccc9307a1d"
      },
      "execution_count": 38,
      "outputs": [
        {
          "output_type": "stream",
          "name": "stdout",
          "text": [
            "Content of A.txt:This the content in A.txt. \n",
            "Content of B.txt:This the content in B.txt. \n",
            "Content of C.txt:This the content in C.txt. \n",
            "Content of D.txt:This the content in D.txt. \n",
            "Content of E.txt:This the content in E.txt. \n",
            "Content of F.txt:This the content in F.txt. \n",
            "Content of G.txt:This the content in G.txt. \n",
            "Content of H.txt:This the content in H.txt. \n",
            "Content of I.txt:This the content in I.txt. \n",
            "Content of J.txt:This the content in J.txt. \n",
            "Content of K.txt:This the content in K.txt. \n",
            "Content of L.txt:This the content in L.txt. \n",
            "Content of M.txt:This the content in M.txt. \n",
            "Content of N.txt:This the content in N.txt. \n",
            "Content of O.txt:This the content in O.txt. \n",
            "Content of P.txt:This the content in P.txt. \n",
            "Content of Q.txt:This the content in Q.txt. \n",
            "Content of R.txt:This the content in R.txt. \n",
            "Content of S.txt:This the content in S.txt. \n",
            "Content of T.txt:This the content in T.txt. \n",
            "Content of U.txt:This the content in U.txt. \n",
            "Content of V.txt:This the content in V.txt. \n",
            "Content of W.txt:This the content in W.txt. \n",
            "Content of X.txt:This the content in X.txt. \n",
            "Content of Y.txt:This the content in Y.txt. \n",
            "Content of Z.txt:This the content in Z.txt. \n"
          ]
        }
      ]
    },
    {
      "cell_type": "markdown",
      "source": [
        "Read each row from a given csv file and print a list of strings"
      ],
      "metadata": {
        "id": "cjN1KT3GL2is"
      }
    },
    {
      "cell_type": "code",
      "source": [
        "import csv\n",
        "data=[\n",
        "    [\"This is first row.\"],\n",
        "    [\"This is second row.\"],\n",
        "    [\"This is third row .\"],\n",
        "    [\"A new row and a new string.\"],\n",
        "    [\"Final string.\"]\n",
        "]\n",
        "\n",
        "csv_file_name='ThisFile.csv'\n",
        "with open(csv_file_name,'w',newline='') as csv_file:\n",
        "  writer=csv.writer(csv_file)\n",
        "  writer.writerows(data)\n",
        "\n",
        "print(f\"The CSV file {csv_file_name} has been successfully created.\")\n",
        "\n",
        "with open(csv_file_name,'r',newline='') as csv_file:\n",
        "  reader=csv.reader(csv_file)\n",
        "\n",
        "  for row in reader:\n",
        "    print(row)\n",
        "\n"
      ],
      "metadata": {
        "colab": {
          "base_uri": "https://localhost:8080/"
        },
        "id": "cI7VeEK5MzZd",
        "outputId": "0419acd1-8c94-48fb-ae66-5644300b0f59"
      },
      "execution_count": 42,
      "outputs": [
        {
          "output_type": "stream",
          "name": "stdout",
          "text": [
            "The CSV file ThisFile.csv has been successfully created.\n",
            "['This is first row.']\n",
            "['This is second row.']\n",
            "['This is third row .']\n",
            "['A new row and a new string.']\n",
            "['Final string.']\n"
          ]
        }
      ]
    },
    {
      "cell_type": "markdown",
      "source": [
        "Read a given CSV file having tab delimiter"
      ],
      "metadata": {
        "id": "0BrP0tfxQDOm"
      }
    },
    {
      "cell_type": "code",
      "source": [
        "import csv\n",
        "tsv_file_name='NewFile.tsv'\n",
        "data = [\n",
        "    ['Name', 'Age', 'City'],\n",
        "    ['Alice', 25, 'New York'],\n",
        "    ['Bob', 30, 'San Francisco'],\n",
        "    ['Charlie', 22, 'Los Angeles']\n",
        "]\n",
        "with open(tsv_file_name, 'w', newline='') as tsv_file:\n",
        "      tsv_writer = csv.writer(tsv_file, delimiter='\\t')\n",
        "      tsv_writer.writerows(data)\n",
        "      print(f\"TSV file '{tsv_file_name}' has been created successfully.\")\n",
        "\n",
        "with open(tsv_file_name, 'r', newline='') as tsv_file:\n",
        "  tsv_reader=csv.reader(tsv_file, delimiter='\\t')\n",
        "\n",
        "  for row in tsv_reader:\n",
        "    print(row)\n"
      ],
      "metadata": {
        "colab": {
          "base_uri": "https://localhost:8080/"
        },
        "id": "tAHrl6NWQKb1",
        "outputId": "c0769373-1749-450d-d3f3-7bf06cec73ef"
      },
      "execution_count": 43,
      "outputs": [
        {
          "output_type": "stream",
          "name": "stdout",
          "text": [
            "TSV file 'NewFile.tsv' has been created successfully.\n",
            "['Name', 'Age', 'City']\n",
            "['Alice', '25', 'New York']\n",
            "['Bob', '30', 'San Francisco']\n",
            "['Charlie', '22', 'Los Angeles']\n"
          ]
        }
      ]
    },
    {
      "cell_type": "markdown",
      "source": [
        "Read a CSV file and remove initial spaces, quotes around each entry and the delimiter"
      ],
      "metadata": {
        "id": "lCbzFIWpSH79"
      }
    },
    {
      "cell_type": "code",
      "source": [
        "import csv\n",
        "data=[\n",
        "\n",
        "['Jim', '30', 'New York'],\n",
        "['Sam', '35', 'San Francisco'],\n",
        "['Luna', '22', 'Los Angeles'],\n",
        "]\n",
        "\n",
        "csv_file_name='ThisFile.csv'\n",
        "with open(csv_file_name,'w',newline='') as csv_file:\n",
        "  writer=csv.writer(csv_file)\n",
        "  writer.writerows(data)\n",
        "\n",
        "print(f\"The CSV file {csv_file_name} has been successfully created.\")\n",
        "\n",
        "with open(csv_file_name,'r',newline='') as csv_file:\n",
        "  reader=csv.reader(csv_file)\n",
        "  for row in reader:\n",
        "    processed_row = [entry.strip().strip('\"') for entry in row]\n",
        "    print(processed_row)"
      ],
      "metadata": {
        "colab": {
          "base_uri": "https://localhost:8080/"
        },
        "id": "g3Qpr__3SMPm",
        "outputId": "6006c87b-f5da-4447-9146-913ef5f19906"
      },
      "execution_count": 46,
      "outputs": [
        {
          "output_type": "stream",
          "name": "stdout",
          "text": [
            "The CSV file ThisFile.csv has been successfully created.\n",
            "['Jim', '30', 'New York']\n",
            "['Sam', '35', 'San Francisco']\n",
            "['Luna', '22', 'Los Angeles']\n"
          ]
        }
      ]
    },
    {
      "cell_type": "markdown",
      "source": [
        "Read specific columns of a given CSV file and print the content of the columns"
      ],
      "metadata": {
        "id": "6u6pHmhDauPp"
      }
    },
    {
      "cell_type": "code",
      "source": [
        "import csv\n",
        "data=[\n",
        "['Name','Age','City'],\n",
        "['Chae', '30', 'New York'],\n",
        "['Sung', '35', 'San Francisco'],\n",
        "['Andre', '22', 'Los Angeles'],\n",
        "]\n",
        "columns_to_print=['Name','City']\n",
        "csv_file_name='ThisFile.csv'\n",
        "with open(csv_file_name,'w',newline='') as csv_file:\n",
        "  writer=csv.writer(csv_file)\n",
        "  writer.writerows(data)\n",
        "\n",
        "print(f\"The CSV file {csv_file_name} has been successfully created.\")\n",
        "\n",
        "with open(csv_file_name,'r',newline='') as csv_file:\n",
        "  csv_reader = csv.reader(csv_file)\n",
        "  header=next(csv_reader)\n",
        "  column_indices=[header.index(column) for column in columns_to_print]\n",
        "\n",
        "  for row in csv_reader:\n",
        "    selected_column=[row[index] for index in column_indices]\n",
        "    print(selected_column)"
      ],
      "metadata": {
        "colab": {
          "base_uri": "https://localhost:8080/"
        },
        "id": "kxvrQHOGa0Js",
        "outputId": "c54e16d1-7bbe-4eaa-fc33-7ae5b3d18595"
      },
      "execution_count": 47,
      "outputs": [
        {
          "output_type": "stream",
          "name": "stdout",
          "text": [
            "The CSV file ThisFile.csv has been successfully created.\n",
            "['Chae', 'New York']\n",
            "['Sung', 'San Francisco']\n",
            "['Andre', 'Los Angeles']\n"
          ]
        }
      ]
    }
  ]
}