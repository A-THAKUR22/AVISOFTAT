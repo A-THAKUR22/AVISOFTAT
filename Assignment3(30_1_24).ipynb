{
  "nbformat": 4,
  "nbformat_minor": 0,
  "metadata": {
    "colab": {
      "provenance": [],
      "authorship_tag": "ABX9TyPsy3JusFyhJgdS6NMwrKSW",
      "include_colab_link": true
    },
    "kernelspec": {
      "name": "python3",
      "display_name": "Python 3"
    },
    "language_info": {
      "name": "python"
    }
  },
  "cells": [
    {
      "cell_type": "markdown",
      "metadata": {
        "id": "view-in-github",
        "colab_type": "text"
      },
      "source": [
        "<a href=\"https://colab.research.google.com/github/A-THAKUR22/AVISOFTAT/blob/main/Assignment3(30_1_24).ipynb\" target=\"_parent\"><img src=\"https://colab.research.google.com/assets/colab-badge.svg\" alt=\"Open In Colab\"/></a>"
      ]
    },
    {
      "cell_type": "markdown",
      "source": [
        "string reversal"
      ],
      "metadata": {
        "id": "5qr6tpwk2RR5"
      }
    },
    {
      "cell_type": "code",
      "execution_count": null,
      "metadata": {
        "colab": {
          "base_uri": "https://localhost:8080/"
        },
        "id": "2qvfIx4Egqtk",
        "outputId": "00cbb5e8-9468-471f-c628-9a8f278a4174"
      },
      "outputs": [
        {
          "output_type": "stream",
          "name": "stdout",
          "text": [
            "Enter you sentence:my name is amay\n",
            "yama si eman ym\n"
          ]
        }
      ],
      "source": [
        "import re\n",
        "our_string=input(\"Enter you sentence:\")\n",
        "st_list=our_string.split()\n",
        "reversed_list=[]\n",
        "for word in st_list:\n",
        "  reversed_word=re.sub(r'(.)',r'\\1',word[::-1])\n",
        "  reversed_list.append(reversed_word)\n",
        "reversed_list.reverse()\n",
        "an_string= [reversed_list[0:2]] + reversed_list[2:]\n",
        "new_string=' '.join(reversed_list)\n",
        "print(new_string)\n"
      ]
    },
    {
      "cell_type": "markdown",
      "source": [
        "sum of array elements"
      ],
      "metadata": {
        "id": "AUfC83Dp2XtO"
      }
    },
    {
      "cell_type": "code",
      "source": [
        "def sum_arr(n):\n",
        "  arr=[]\n",
        "  sum=0\n",
        "  for i in range(n):\n",
        "    a=int(input(f\"Enter number {i+1}:\"))\n",
        "    arr.append(a)\n",
        "    sum+=a\n",
        "  return sum\n",
        "num=int(input(\"Enter the size of list:\"))\n",
        "sum_arr(num)\n"
      ],
      "metadata": {
        "colab": {
          "base_uri": "https://localhost:8080/"
        },
        "id": "e1sJDW0dH1un",
        "outputId": "cf53f97f-a119-41ab-a0a6-f170b9b42d38"
      },
      "execution_count": null,
      "outputs": [
        {
          "name": "stdout",
          "output_type": "stream",
          "text": [
            "Enter the size of list:3\n",
            "Enter number 1:9\n",
            "Enter number 2:8\n",
            "Enter number 3:9\n"
          ]
        },
        {
          "output_type": "execute_result",
          "data": {
            "text/plain": [
              "26"
            ]
          },
          "metadata": {},
          "execution_count": 30
        }
      ]
    },
    {
      "cell_type": "markdown",
      "source": [
        "reversing sub array"
      ],
      "metadata": {
        "id": "Qyyd929-2muU"
      }
    },
    {
      "cell_type": "code",
      "source": [
        "def rev_sub(n):\n",
        "  arr=[]\n",
        "\n",
        "  for i in range(n):\n",
        "    a=int(input(f\"Enter element {i+1}:\"))\n",
        "    arr.append(a)\n",
        "  M=int(input(\"Enter the index for slicing:\"))\n",
        "  if M==0:\n",
        "    print(arr)\n",
        "  arr2=arr[M+1:]\n",
        "\n",
        "\n",
        "  print(arr[0:M+1]+arr2[::-1])\n",
        "num=int(input(\"Enter the size of the array:\"))\n",
        "rev_sub(num)\n",
        "\n"
      ],
      "metadata": {
        "colab": {
          "base_uri": "https://localhost:8080/"
        },
        "id": "BwB8okuyJiBr",
        "outputId": "dcc07f82-b090-442b-f0cd-8d71f31bd702"
      },
      "execution_count": null,
      "outputs": [
        {
          "output_type": "stream",
          "name": "stdout",
          "text": [
            "Enter the size of the array:6\n",
            "Enter element 1:1\n",
            "Enter element 2:2\n",
            "Enter element 3:3\n",
            "Enter element 4:4\n",
            "Enter element 5:5\n",
            "Enter element 6:6\n",
            "Enter the index for slicing:3\n",
            "[1, 2, 3, 4, 6, 5]\n"
          ]
        }
      ]
    },
    {
      "cell_type": "markdown",
      "source": [
        "unique occurence\n"
      ],
      "metadata": {
        "id": "MRBLmVio2sQ9"
      }
    },
    {
      "cell_type": "code",
      "source": [
        "def find_unique(arr):\n",
        "    result = 0\n",
        "    for i in range(32):\n",
        "      count=0\n",
        "      for num in arr:\n",
        "        count += (num >> i) & 1\n",
        "      if count % 3 != 0:\n",
        "          result |= (1 << i)\n",
        "\n",
        "    return result\n",
        "arr = [1, 2, 1, 1]\n",
        "result = find_unique(arr)\n",
        "print(result)\n"
      ],
      "metadata": {
        "colab": {
          "base_uri": "https://localhost:8080/"
        },
        "id": "-sANt12qPesq",
        "outputId": "b301dc6f-ac4a-4867-b37d-66311ef3689a"
      },
      "execution_count": null,
      "outputs": [
        {
          "output_type": "stream",
          "name": "stdout",
          "text": [
            "2\n"
          ]
        }
      ]
    },
    {
      "cell_type": "markdown",
      "source": [
        "unique through xor"
      ],
      "metadata": {
        "id": "o9XYgAHf26pZ"
      }
    },
    {
      "cell_type": "code",
      "source": [
        "size=int(input(\"Enter the size:\"))\n",
        "list=[]\n",
        "for i in range(size):\n",
        "  i=int(input(f\"Enter the element {i+1}:\"))\n",
        "  list.append(i)\n",
        "  result=0\n",
        "  for j in list:\n",
        "    result^=j\n",
        "  print(result)"
      ],
      "metadata": {
        "colab": {
          "base_uri": "https://localhost:8080/"
        },
        "id": "Aku-bpjfn0Gn",
        "outputId": "7436a63d-dc8f-440b-a7cd-abb4d66d62f6"
      },
      "execution_count": null,
      "outputs": [
        {
          "output_type": "stream",
          "name": "stdout",
          "text": [
            "Enter the size:7\n",
            "Enter the element 1:2\n",
            "2\n",
            "Enter the element 2:3\n",
            "1\n",
            "Enter the element 3:1\n",
            "0\n",
            "Enter the element 4:6\n",
            "6\n",
            "Enter the element 5:3\n",
            "5\n",
            "Enter the element 6:6\n",
            "3\n",
            "Enter the element 7:2\n",
            "1\n"
          ]
        }
      ]
    },
    {
      "cell_type": "markdown",
      "source": [
        "sum or product"
      ],
      "metadata": {
        "id": "ZxCduvf72-xL"
      }
    },
    {
      "cell_type": "code",
      "source": [
        "n=int(input(\"Enter the number:\"))\n",
        "q=int(input(\"Enter the choice:\"))\n",
        "\n",
        "\n",
        "if q==1:\n",
        "    sum=0\n",
        "    for i in range(1,n+1):\n",
        "      sum+=i\n",
        "    print(sum)\n",
        "elif q==2:\n",
        "    prod=1\n",
        "    for i in range(1,n+1):\n",
        "      prod*=i\n",
        "    print(prod)\n",
        "else:\n",
        "  print(\"Make a valid choice!\")\n",
        "\n"
      ],
      "metadata": {
        "colab": {
          "base_uri": "https://localhost:8080/"
        },
        "id": "qrOXXnkdspZg",
        "outputId": "469a8044-25b0-4d0f-c607-b2b5040c3d9a"
      },
      "execution_count": null,
      "outputs": [
        {
          "output_type": "stream",
          "name": "stdout",
          "text": [
            "Enter the number:4\n",
            "Enter the choice:2\n",
            "24\n"
          ]
        }
      ]
    },
    {
      "cell_type": "markdown",
      "source": [
        "triplets pair that give the target sum"
      ],
      "metadata": {
        "id": "FSM5ZsW8VOgv"
      }
    },
    {
      "cell_type": "code",
      "source": [
        "n=int(input(\"Enter the size:\"))\n",
        "arr=[]\n",
        "x=set()\n",
        "for i in range(n):\n",
        "  i=int(input(f\"Enter the element {i+1}:\"))\n",
        "  arr.append(i)\n",
        "\n",
        "\n",
        "target=int(input(\"Enter the target sum:\"))\n",
        "for i in arr:\n",
        "  for j in range(1,len(arr)):\n",
        "    for k in range(2,len(arr)):\n",
        "      if k!=i and j!=k and i+arr[j]+arr[k]==target:\n",
        "       x.add((i,arr[j],arr[k]))\n",
        "\n",
        "for triplet in x:\n",
        "  print(triplet)\n",
        "\n",
        "\n",
        "\n",
        "\n"
      ],
      "metadata": {
        "id": "XH8siHuTxT1-",
        "colab": {
          "base_uri": "https://localhost:8080/"
        },
        "outputId": "8bc442a5-2111-4b54-9d81-33be880825a4"
      },
      "execution_count": null,
      "outputs": [
        {
          "output_type": "stream",
          "name": "stdout",
          "text": [
            "Enter the size:5\n",
            "Enter the element 1:10\n",
            "Enter the element 2:5\n",
            "Enter the element 3:5\n",
            "Enter the element 4:5\n",
            "Enter the element 5:2\n",
            "Enter the target sum:12\n",
            "(5, 2, 5)\n",
            "(2, 5, 5)\n",
            "(5, 5, 2)\n"
          ]
        }
      ]
    },
    {
      "cell_type": "markdown",
      "source": [
        "find length of new array after removing duplicate elements"
      ],
      "metadata": {
        "id": "utDLZmkw0GpC"
      }
    },
    {
      "cell_type": "code",
      "source": [
        "n=int(input(\"Enter the size:\"))\n",
        "list=[]\n",
        "\n",
        "for i in range(n):\n",
        "  i=int(input(f\"Enter the element {i+1}:\"))\n",
        "  list.append(i)\n",
        "list.sort()\n",
        "s=set()\n",
        "for i in list:\n",
        "  s.add(i)\n",
        "print(len(s))"
      ],
      "metadata": {
        "colab": {
          "base_uri": "https://localhost:8080/"
        },
        "id": "bE6tk69CVbO8",
        "outputId": "831589ce-15e9-4d90-9c63-ab9599de1578"
      },
      "execution_count": null,
      "outputs": [
        {
          "output_type": "stream",
          "name": "stdout",
          "text": [
            "Enter the size:5\n",
            "Enter the element 1:1\n",
            "Enter the element 2:1\n",
            "Enter the element 3:2\n",
            "Enter the element 4:4\n",
            "Enter the element 5:2\n",
            "3\n"
          ]
        }
      ]
    },
    {
      "cell_type": "markdown",
      "source": [
        "for finding repeating and missing values\n"
      ],
      "metadata": {
        "id": "W0zlUp-JUATC"
      }
    },
    {
      "cell_type": "code",
      "source": [
        "n = int(input(\"Enter the size:\"))\n",
        "list = []\n",
        "\n",
        "for i in range(n):\n",
        "  i = int(input(f\"Enter the element {i+1}:\"))\n",
        "  list.append(i)\n",
        "\n",
        "repeating = 0\n",
        "\n",
        "for j in range(0, n-1):\n",
        "  if list[j+1] - list[j] == 0:\n",
        "    repeating = list[j]\n",
        "\n",
        "expected_sum = ((n)*(n+1))//2\n",
        "actual_sum = 0\n",
        "\n",
        "for k in list:\n",
        "  actual_sum = actual_sum + k\n",
        "\n",
        "missing = expected_sum - actual_sum + repeating\n",
        "\n",
        "print(repeating)\n",
        "print(missing)\n"
      ],
      "metadata": {
        "id": "aTyxnpLWXZkN",
        "colab": {
          "base_uri": "https://localhost:8080/"
        },
        "outputId": "508d541f-6113-4e7f-9127-9ff70959681d"
      },
      "execution_count": 49,
      "outputs": [
        {
          "output_type": "stream",
          "name": "stdout",
          "text": [
            "Enter the size:5\n",
            "Enter the element 1:1\n",
            "Enter the element 2:2\n",
            "Enter the element 3:3\n",
            "Enter the element 4:3\n",
            "Enter the element 5:4\n",
            "3\n",
            "5\n"
          ]
        }
      ]
    },
    {
      "cell_type": "markdown",
      "source": [
        "product of elements in a list"
      ],
      "metadata": {
        "id": "FRydCJK40YaM"
      }
    },
    {
      "cell_type": "code",
      "source": [
        "\n",
        "def product_array(arr):\n",
        "    n = len(arr)\n",
        "    result = [1] * n\n",
        "    left_product, right_product = 1, 1\n",
        "\n",
        "    for i in range(n):\n",
        "        result[i] *= left_product\n",
        "        result[-(i + 1)] *= right_product\n",
        "        left_product *= arr[i]\n",
        "        right_product *= arr[-(i + 1)]\n",
        "        result[i] %= (10**9 + 7)\n",
        "        result[-(i + 1)] %= (10**9 + 7)\n",
        "\n",
        "    return result\n",
        "\n",
        "\n",
        "arr1 = [1, 2, 3]\n",
        "\n",
        "\n",
        "result = product_array(arr1)\n",
        "\n",
        "\n",
        "print(result)\n",
        "\n"
      ],
      "metadata": {
        "colab": {
          "base_uri": "https://localhost:8080/"
        },
        "id": "6HEi_rrHUHlT",
        "outputId": "06a94bf7-9992-4e12-88c1-e71f267d3257"
      },
      "execution_count": null,
      "outputs": [
        {
          "output_type": "stream",
          "name": "stdout",
          "text": [
            "[6, 3, 2]\n"
          ]
        }
      ]
    },
    {
      "cell_type": "markdown",
      "source": [
        "Sum of two arrays"
      ],
      "metadata": {
        "id": "TFTuP3qEo13H"
      }
    },
    {
      "cell_type": "code",
      "source": [
        "n=int(input(\"Enter the size of array1:\"))\n",
        "list1=[]\n",
        "\n",
        "for i in range(n):\n",
        "  a=int(input(f\"Enter element {i+1}:\"))\n",
        "  list1.append(a)\n",
        "\n",
        "m=int(input(\"Enter the size of array2:\"))\n",
        "list2=[]\n",
        "for i in range(m):\n",
        "  b=int(input(f\"Enter element {i+1}:\"))\n",
        "  list2.append(b)\n",
        "\n",
        "num1=0\n",
        "num2=0\n",
        "for i in range(n-1,-1,-1):\n",
        "  num1=num1*10+list1[i]\n",
        "for i in range(m-1,-1,-1):\n",
        "  num2=num2*10+list2[i]\n",
        "print(num1+num2)\n",
        "\n"
      ],
      "metadata": {
        "id": "lqIihcFsY43L",
        "colab": {
          "base_uri": "https://localhost:8080/"
        },
        "outputId": "06581cc9-4bcc-4ab7-f15a-239ca8446211"
      },
      "execution_count": 6,
      "outputs": [
        {
          "output_type": "stream",
          "name": "stdout",
          "text": [
            "Enter the size of array1:3\n",
            "Enter element 1:4\n",
            "Enter element 2:5\n",
            "Enter element 3:1\n",
            "Enter the size of array2:3\n",
            "Enter element 1:3\n",
            "Enter element 2:4\n",
            "Enter element 3:5\n",
            "697\n"
          ]
        }
      ]
    },
    {
      "cell_type": "markdown",
      "source": [
        "K largest element"
      ],
      "metadata": {
        "id": "YytU3JlGwTfM"
      }
    },
    {
      "cell_type": "code",
      "source": [
        "n=int(input(\"Enter the size of list:\"))\n",
        "k=int(input(\"Enter the number of elements we need:\"))\n",
        "list=[]\n",
        "for i in range(n):\n",
        "  a=int(input(f\"Enter the element{i+1}:\"))\n",
        "  list.append(a)\n",
        "  list.sort(reverse=True)\n",
        "  result=set(list[:k])\n",
        "print(*result)\n",
        "\n",
        "\n"
      ],
      "metadata": {
        "colab": {
          "base_uri": "https://localhost:8080/"
        },
        "id": "3_-3TBwOwS3G",
        "outputId": "33d87786-e838-4090-ecff-0b6bd7d2df40"
      },
      "execution_count": 17,
      "outputs": [
        {
          "output_type": "stream",
          "name": "stdout",
          "text": [
            "Enter the size of list:4\n",
            "Enter the number of elements we need:1\n",
            "Enter the element1:1\n",
            "Enter the element2:2\n",
            "Enter the element3:3\n",
            "Enter the element4:3\n",
            "3\n"
          ]
        }
      ]
    },
    {
      "cell_type": "markdown",
      "source": [
        "merge k sorted arrays\n"
      ],
      "metadata": {
        "id": "JYPWyDc8zuR8"
      }
    },
    {
      "cell_type": "code",
      "source": [
        "n=int(input(\"Enter the size of array1:\"))\n",
        "list1=[]\n",
        "og_list=[]\n",
        "for i in range(n):\n",
        "  a=int(input(f\"Enter element {i+1}:\"))\n",
        "  list1.append(a)\n",
        "  list1.sort()\n",
        "og_list.extend(list1)\n",
        "\n",
        "m=int(input(\"Enter the size of array2:\"))\n",
        "list2=[]\n",
        "for i in range(m):\n",
        "  b=int(input(f\"Enter element {i+1}:\"))\n",
        "  list2.append(b)\n",
        "  list2.sort()\n",
        "og_list.extend(list2)\n",
        "og_list.sort()\n",
        "print(og_list)"
      ],
      "metadata": {
        "colab": {
          "base_uri": "https://localhost:8080/"
        },
        "id": "wLDzh9-Ez0uo",
        "outputId": "63407767-101f-463b-ac01-4bc368c2d123"
      },
      "execution_count": 11,
      "outputs": [
        {
          "output_type": "stream",
          "name": "stdout",
          "text": [
            "Enter the size of array1:3\n",
            "Enter element 1:3\n",
            "Enter element 2:5\n",
            "Enter element 3:9\n",
            "Enter the size of array2:4\n",
            "Enter element 1:1\n",
            "Enter element 2:2\n",
            "Enter element 3:3\n",
            "Enter element 4:8\n",
            "[1, 2, 3, 3, 5, 8, 9]\n"
          ]
        }
      ]
    },
    {
      "cell_type": "markdown",
      "source": [
        "longest consecutive sequence"
      ],
      "metadata": {
        "id": "HBKNuBbR4cMc"
      }
    },
    {
      "cell_type": "code",
      "source": [
        "n=int(input(\"Enter the size of array1:\"))\n",
        "\n",
        "list1=[]\n",
        "\n",
        "for i in range(n):\n",
        "  a=int(input(f\"Enter element {i+1}:\"))\n",
        "  list1.append(a)\n",
        "l_sequence=0\n",
        "n_set=set(list1)\n",
        "for j in list1:\n",
        "  current_seq_len=1\n",
        "  current_num=j\n",
        "  while current_num+1 in n_set:\n",
        "    current_seq_len+=1\n",
        "    current_num+=1\n",
        "  l_sequence=max(l_sequence,current_seq_len)\n",
        "print(l_sequence)\n",
        "\n",
        "\n"
      ],
      "metadata": {
        "colab": {
          "base_uri": "https://localhost:8080/"
        },
        "id": "YzTzjgOt4j5r",
        "outputId": "0e9c6658-010d-4d09-9a2c-ddda85a542cf"
      },
      "execution_count": 29,
      "outputs": [
        {
          "output_type": "stream",
          "name": "stdout",
          "text": [
            "Enter the size of array1:5\n",
            "Enter element 1:33\n",
            "Enter element 2:20\n",
            "Enter element 3:34\n",
            "Enter element 4:30\n",
            "Enter element 5:35\n",
            "3\n"
          ]
        }
      ]
    },
    {
      "cell_type": "markdown",
      "source": [
        "selection sort"
      ],
      "metadata": {
        "id": "QhuPGVS6CBjb"
      }
    },
    {
      "cell_type": "code",
      "source": [
        "n=int(input(\"Enter the size of list1:\"))\n",
        "\n",
        "list1=[]\n",
        "\n",
        "for i in range(n):\n",
        "  a=int(input(f\"Enter element {i+1}:\"))\n",
        "  list1.append(a)\n",
        "for k in range(n):\n",
        "  min_index=k\n",
        "  for j in range(k+1,n):\n",
        "    if list1[j]<list1[min_index]:\n",
        "      min_index=j\n",
        "\n",
        "  list1[k],list1[min_index]=list1[min_index],list1[k]\n",
        "print(list1)\n",
        "\n"
      ],
      "metadata": {
        "colab": {
          "base_uri": "https://localhost:8080/"
        },
        "id": "b3ku4_yyCs5z",
        "outputId": "e7c43285-ec82-4873-95d3-74f02b2524c2"
      },
      "execution_count": 34,
      "outputs": [
        {
          "output_type": "stream",
          "name": "stdout",
          "text": [
            "Enter the size of list1:5\n",
            "Enter element 1:6\n",
            "Enter element 2:2\n",
            "Enter element 3:4\n",
            "Enter element 4:8\n",
            "Enter element 5:10\n",
            "[2, 4, 6, 8, 10]\n"
          ]
        }
      ]
    },
    {
      "cell_type": "markdown",
      "source": [
        "search insert position"
      ],
      "metadata": {
        "id": "4IMby66_HFCx"
      }
    },
    {
      "cell_type": "code",
      "source": [
        "n=int(input(\"Enter the size of list1:\"))\n",
        "m=int(input(\"Enter the element you need to search:\"))\n",
        "list1=[]\n",
        "\n",
        "for i in range(n):\n",
        "  a=int(input(f\"Enter element {i+1}:\"))\n",
        "  list1.append(a)\n",
        "  list1.sort()\n",
        "for j in range(n):\n",
        "  if m not in list1:\n",
        "    list1.append(m)\n",
        "    list1.sort()\n",
        "\n",
        "\n",
        "\n",
        "print(list1)\n",
        "print(list1.index(m))\n"
      ],
      "metadata": {
        "colab": {
          "base_uri": "https://localhost:8080/"
        },
        "id": "VoJVbfT8IBIn",
        "outputId": "9a908684-3314-4a46-9363-bbd41951baa8"
      },
      "execution_count": 42,
      "outputs": [
        {
          "output_type": "stream",
          "name": "stdout",
          "text": [
            "Enter the size of list1:3\n",
            "Enter the element you need to search:3\n",
            "Enter element 1:1\n",
            "Enter element 2:4\n",
            "Enter element 3:2\n",
            "[1, 2, 3, 4]\n",
            "2\n"
          ]
        }
      ]
    },
    {
      "cell_type": "markdown",
      "source": [
        "Bubble sort"
      ],
      "metadata": {
        "id": "6NQnsgpjKECU"
      }
    },
    {
      "cell_type": "code",
      "source": [],
      "metadata": {
        "id": "rpROEb4zNFmL"
      },
      "execution_count": 54,
      "outputs": []
    }
  ]
}