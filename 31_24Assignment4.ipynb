{
  "nbformat": 4,
  "nbformat_minor": 0,
  "metadata": {
    "colab": {
      "provenance": [],
      "authorship_tag": "ABX9TyM7Rrrvkv6217/uh7f2nEWZ",
      "include_colab_link": true
    },
    "kernelspec": {
      "name": "python3",
      "display_name": "Python 3"
    },
    "language_info": {
      "name": "python"
    }
  },
  "cells": [
    {
      "cell_type": "markdown",
      "metadata": {
        "id": "view-in-github",
        "colab_type": "text"
      },
      "source": [
        "<a href=\"https://colab.research.google.com/github/A-THAKUR22/AVISOFTAT/blob/main/31_24Assignment4.ipynb\" target=\"_parent\"><img src=\"https://colab.research.google.com/assets/colab-badge.svg\" alt=\"Open In Colab\"/></a>"
      ]
    },
    {
      "cell_type": "markdown",
      "source": [
        "count words"
      ],
      "metadata": {
        "id": "zSasMGQTYxjg"
      }
    },
    {
      "cell_type": "code",
      "execution_count": 10,
      "metadata": {
        "colab": {
          "base_uri": "https://localhost:8080/"
        },
        "id": "B5ASLLWaYEAr",
        "outputId": "19923a55-0850-4087-a2cc-cca4994c6b83"
      },
      "outputs": [
        {
          "output_type": "stream",
          "name": "stdout",
          "text": [
            "Enter the sentence:This is avisoft\n",
            "['This', 'is', 'avisoft']\n"
          ]
        },
        {
          "output_type": "execute_result",
          "data": {
            "text/plain": [
              "3"
            ]
          },
          "metadata": {},
          "execution_count": 10
        }
      ],
      "source": [
        "my_string=input(\"Enter the sentence:\")\n",
        "n_string=my_string.split()\n",
        "print(n_string)\n",
        "len(n_string)\n",
        ""
      ]
    },
    {
      "cell_type": "markdown",
      "source": [
        "string palindome"
      ],
      "metadata": {
        "id": "VtcVzDiXcZ16"
      }
    },
    {
      "cell_type": "code",
      "source": [
        "def is_palindrome(string):\n",
        "  string.strip()\n",
        "  if string[0:]==string[::-1] and string.isalnum():\n",
        "    return True\n",
        "  else:\n",
        "    return False\n",
        "my_string=input(\"Enter your string:\")\n",
        "is_palindrome(my_string)"
      ],
      "metadata": {
        "colab": {
          "base_uri": "https://localhost:8080/"
        },
        "id": "AG6YUYMkcZLd",
        "outputId": "847c72fb-4cf8-441e-bf52-bb3ae793eb67"
      },
      "execution_count": 21,
      "outputs": [
        {
          "name": "stdout",
          "output_type": "stream",
          "text": [
            "Enter your string:malayalam\n"
          ]
        },
        {
          "output_type": "execute_result",
          "data": {
            "text/plain": [
              "True"
            ]
          },
          "metadata": {},
          "execution_count": 21
        }
      ]
    },
    {
      "cell_type": "markdown",
      "source": [
        "All substrings"
      ],
      "metadata": {
        "id": "BUYOp2UBfamt"
      }
    },
    {
      "cell_type": "code",
      "source": [
        "def possible_sub(mstring):\n",
        "  l=len(mstring)\n",
        "  for i in range(l):\n",
        "    for j in range(i+1,l+1):\n",
        "      new_string=mstring[i:j]\n",
        "      print(new_string)\n",
        "my_string=input(\"Enter your string:\")\n",
        "possible_sub(my_string)"
      ],
      "metadata": {
        "colab": {
          "base_uri": "https://localhost:8080/"
        },
        "id": "bk2zCntbfgfw",
        "outputId": "fa903c95-44de-47ba-ba97-0e7fc0a9f422"
      },
      "execution_count": 30,
      "outputs": [
        {
          "output_type": "stream",
          "name": "stdout",
          "text": [
            "Enter your string:abc\n",
            "a\n",
            "ab\n",
            "abc\n",
            "b\n",
            "bc\n",
            "c\n"
          ]
        }
      ]
    },
    {
      "cell_type": "markdown",
      "source": [
        "permutation"
      ],
      "metadata": {
        "id": "mvKObr1MknYx"
      }
    },
    {
      "cell_type": "code",
      "source": [
        "def permutation(string1,string2):\n",
        "  n1=''.join(sorted(string1))\n",
        "  n2=''.join(sorted(string2))\n",
        "  if n1[0:]==n2[0:]:\n",
        "    print(True)\n",
        "  else:\n",
        "    print(False)\n",
        "str1=input(\"Enter your first string:\")\n",
        "str2=input(\"Enter your second string:\")\n",
        "permutation(str1,str2)"
      ],
      "metadata": {
        "colab": {
          "base_uri": "https://localhost:8080/"
        },
        "id": "0pT_iLcikpmJ",
        "outputId": "2adc8c3e-c93b-464d-9638-05383bc4fb17"
      },
      "execution_count": 33,
      "outputs": [
        {
          "output_type": "stream",
          "name": "stdout",
          "text": [
            "Enter your first string:adbc\n",
            "Enter your second string:acbd\n",
            "True\n"
          ]
        }
      ]
    },
    {
      "cell_type": "markdown",
      "source": [
        "remove duplicates"
      ],
      "metadata": {
        "id": "Eq_gDtDJx8_Y"
      }
    },
    {
      "cell_type": "code",
      "source": [
        "def duplicates_remo(string1):\n",
        "\n",
        "  new=\"\"\n",
        "  for char in string1:\n",
        "    if not new or char!=new[-1]:\n",
        "      new+=char\n",
        "  return new\n",
        "\n",
        "\n",
        "\n",
        "str1=input(\"Enter your string:\")\n",
        "duplicates_remo(str1)\n"
      ],
      "metadata": {
        "colab": {
          "base_uri": "https://localhost:8080/",
          "height": 53
        },
        "id": "F2eNvGYUyAvc",
        "outputId": "955a592f-cb9d-40cc-a733-4f96b4fd09ef"
      },
      "execution_count": 42,
      "outputs": [
        {
          "name": "stdout",
          "output_type": "stream",
          "text": [
            "Enter your string:aaabbbbcc\n"
          ]
        },
        {
          "output_type": "execute_result",
          "data": {
            "text/plain": [
              "'abc'"
            ],
            "application/vnd.google.colaboratory.intrinsic+json": {
              "type": "string"
            }
          },
          "metadata": {},
          "execution_count": 42
        }
      ]
    },
    {
      "cell_type": "code",
      "source": [
        "str1=input(\"Enter your string:\")\n",
        "l=[char for char in str1]\n",
        "x=set(l)\n",
        "new=sorted(x)\n",
        "string1=''.join(new)\n",
        "print(string1)"
      ],
      "metadata": {
        "colab": {
          "base_uri": "https://localhost:8080/"
        },
        "id": "ZGYdc-Sy2Cl4",
        "outputId": "fa4b59af-bb22-4b31-e83c-848d9e78b80c"
      },
      "execution_count": 57,
      "outputs": [
        {
          "output_type": "stream",
          "name": "stdout",
          "text": [
            "Enter your string:bbbaaaccc\n",
            "abc\n"
          ]
        }
      ]
    },
    {
      "cell_type": "markdown",
      "source": [
        "remove character"
      ],
      "metadata": {
        "id": "pUpa_jxr503w"
      }
    },
    {
      "cell_type": "code",
      "source": [
        "str1=input(\"Enter your string:\")\n",
        "l=[char for char in str1]\n",
        "new=\"\"\n",
        "x=input(\"Enter the letter to be removed:\")\n",
        "for char in l:\n",
        "  if char!=x:\n",
        "    new+=char\n",
        "print(new)\n",
        "\n"
      ],
      "metadata": {
        "colab": {
          "base_uri": "https://localhost:8080/"
        },
        "id": "TgTZGSfh3FZE",
        "outputId": "9fe165b5-8017-463a-be0f-a954121e7dbb"
      },
      "execution_count": 67,
      "outputs": [
        {
          "output_type": "stream",
          "name": "stdout",
          "text": [
            "Enter your string:aaaabbbcc\n",
            "Enter the letter to be removed:a\n",
            "bbbcc\n"
          ]
        }
      ]
    },
    {
      "cell_type": "markdown",
      "source": [
        "highest occurrence character"
      ],
      "metadata": {
        "id": "dIBB6fg2_LpV"
      }
    },
    {
      "cell_type": "code",
      "source": [
        "str1=input(\"Enter your string:\")\n",
        "new={}\n",
        "for char in str1:\n",
        "  new[char]=new.get(char,0)+1\n",
        "highest=max(new,key=new.get)\n",
        "print(highest)"
      ],
      "metadata": {
        "colab": {
          "base_uri": "https://localhost:8080/"
        },
        "id": "lQnnr7IA_QUh",
        "outputId": "f9bfa7fb-a10b-4ca4-df7a-fefaaf3b223c"
      },
      "execution_count": 69,
      "outputs": [
        {
          "output_type": "stream",
          "name": "stdout",
          "text": [
            "Enter your string:aaabdfegbba\n",
            "a\n"
          ]
        }
      ]
    },
    {
      "cell_type": "markdown",
      "source": [
        "compression of string"
      ],
      "metadata": {
        "id": "p7s3vDXwD1UW"
      }
    },
    {
      "cell_type": "code",
      "source": [
        "str1=input(\"Enter your string:\")\n",
        "count=1\n",
        "new=\"\"\n",
        "for i in range(1,len(str1)):\n",
        "  if str1[i]==str1[i-1]:\n",
        "    count+=1\n",
        "  else:\n",
        "    new+=str1[i-1]+str(count) if count > 1 else str1[i-1]\n",
        "    count=1\n",
        "new+=str1[-1]+str(count) if count > 1 else str1[-1]\n",
        "print(new)\n",
        "\n",
        "\n",
        "\n",
        "\n",
        "\n",
        "\n"
      ],
      "metadata": {
        "colab": {
          "base_uri": "https://localhost:8080/"
        },
        "id": "N6sVjoecD83l",
        "outputId": "f2b7c44d-85dc-44bf-b450-ef1a3445efcc"
      },
      "execution_count": 83,
      "outputs": [
        {
          "output_type": "stream",
          "name": "stdout",
          "text": [
            "Enter your string:aabbc\n",
            "a2b2c\n"
          ]
        }
      ]
    },
    {
      "cell_type": "code",
      "source": [],
      "metadata": {
        "id": "FsMIYM5-OAhC"
      },
      "execution_count": null,
      "outputs": []
    }
  ]
}