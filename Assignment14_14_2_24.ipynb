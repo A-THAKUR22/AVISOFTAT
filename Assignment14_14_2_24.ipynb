{
  "nbformat": 4,
  "nbformat_minor": 0,
  "metadata": {
    "colab": {
      "provenance": [],
      "authorship_tag": "ABX9TyMMRTF9AnFPU4Ag7LmTf0H7",
      "include_colab_link": true
    },
    "kernelspec": {
      "name": "python3",
      "display_name": "Python 3"
    },
    "language_info": {
      "name": "python"
    }
  },
  "cells": [
    {
      "cell_type": "markdown",
      "metadata": {
        "id": "view-in-github",
        "colab_type": "text"
      },
      "source": [
        "<a href=\"https://colab.research.google.com/github/A-THAKUR22/AVISOFTAT/blob/main/Assignment14_14_2_24.ipynb\" target=\"_parent\"><img src=\"https://colab.research.google.com/assets/colab-badge.svg\" alt=\"Open In Colab\"/></a>"
      ]
    },
    {
      "cell_type": "markdown",
      "source": [
        "Program to test whether each element of a 1-D array is also present in a second array."
      ],
      "metadata": {
        "id": "_ro2EtPTUuSO"
      }
    },
    {
      "cell_type": "code",
      "execution_count": 40,
      "metadata": {
        "colab": {
          "base_uri": "https://localhost:8080/"
        },
        "id": "IpnZPsx05ljP",
        "outputId": "5267219d-08d6-4d12-fb10-83f3902a63fc"
      },
      "outputs": [
        {
          "output_type": "stream",
          "name": "stdout",
          "text": [
            "[False False False  True False]\n"
          ]
        }
      ],
      "source": [
        "\n",
        "import numpy as np\n",
        "a=np.array([10,20,30,40,60])\n",
        "b=np.array([0,40])\n",
        "\n",
        "result=np.isin(a,b)\n",
        "print(result)"
      ]
    },
    {
      "cell_type": "markdown",
      "source": [
        "NumPy program to get the unique elements of an array"
      ],
      "metadata": {
        "id": "NXUcgcXMX1Iu"
      }
    },
    {
      "cell_type": "code",
      "source": [
        "c=np.array([10,10,20,30,40,30])\n",
        "d1=[]\n",
        "r=int(input(\"Enter the number of rows:\"))\n",
        "col=int(input(\"Enter the number of columns:\"))\n",
        "for i in range(r):\n",
        "  row=[]\n",
        "  for j in range(col):\n",
        "    element=int(input(f\"Enter the elements at ({i+1},{j+1}) :\"))\n",
        "    row.append(element)\n",
        "  d1.append(row)\n",
        "d=np.array(d1)\n",
        "result=np.unique(c)\n",
        "sec_result=np.unique(d)\n",
        "print(result,sec_result)"
      ],
      "metadata": {
        "colab": {
          "base_uri": "https://localhost:8080/"
        },
        "id": "WzZyy8JYX4gC",
        "outputId": "5a49f451-84d1-4cf4-f10b-8285024cc074"
      },
      "execution_count": 43,
      "outputs": [
        {
          "output_type": "stream",
          "name": "stdout",
          "text": [
            "Enter the number of rows:2\n",
            "Enter the number of columns:2\n",
            "Enter the elements at (1,1) :1\n",
            "Enter the elements at (1,2) :1\n",
            "Enter the elements at (2,1) :2\n",
            "Enter the elements at (2,2) :3\n",
            "[10 20 30 40] [1 2 3]\n"
          ]
        }
      ]
    },
    {
      "cell_type": "markdown",
      "source": [
        "NumPy program to sort an along the first, last axis of an array."
      ],
      "metadata": {
        "id": "XQZGJXl_ZFly"
      }
    },
    {
      "cell_type": "code",
      "source": [
        "c1=[]\n",
        "r=int(input(\"Enter the number of rows:\"))\n",
        "col=int(input(\"Enter the number of columns:\"))\n",
        "for i in range(r):\n",
        "  row=[]\n",
        "  for j in range(col):\n",
        "    element=int(input(f\"Enter the elements at ({i+1},{j+1}) :\"))\n",
        "    row.append(element)\n",
        "  c1.append(row)\n",
        "c=np.array(c1)\n",
        "\n",
        "result=np.sort(c, axis=1)\n",
        "result2=np.sort(c, axis=0)\n",
        "new=np.sort(result2)\n",
        "print(f\" Sort along last axis:\\n{new}\")\n",
        "print(f\"Sort along first axis:\\n{result2}\")"
      ],
      "metadata": {
        "colab": {
          "base_uri": "https://localhost:8080/"
        },
        "id": "ABQgnGRlZlQZ",
        "outputId": "d8f6e418-ed35-41da-c194-9f1339afd6ea"
      },
      "execution_count": 51,
      "outputs": [
        {
          "output_type": "stream",
          "name": "stdout",
          "text": [
            "Enter the number of rows:2\n",
            "Enter the number of columns:2\n",
            "Enter the elements at (1,1) :4\n",
            "Enter the elements at (1,2) :6\n",
            "Enter the elements at (2,1) :2\n",
            "Enter the elements at (2,2) :1\n",
            " Sort along last axis:\n",
            "[[1 2]\n",
            " [4 6]]\n",
            "Sort along first axis:\n",
            "[[2 1]\n",
            " [4 6]]\n"
          ]
        }
      ]
    },
    {
      "cell_type": "markdown",
      "source": [
        "NumPy program to count the occurrence of a specified item in a given NumPy array."
      ],
      "metadata": {
        "id": "5FVFJKydkB6l"
      }
    },
    {
      "cell_type": "code",
      "source": [
        "import pandas as pd\n",
        "a=[]\n",
        "length=int(input(\"Enter the size on ndarray:\"))\n",
        "for i in range(length):\n",
        "  element=int(input(f\"Enter the element {i+1}: \"))\n",
        "  a.append(element)\n",
        "a1=np.array(a)\n",
        "result=pd.value_counts(a1)\n",
        "print(list(result))"
      ],
      "metadata": {
        "colab": {
          "base_uri": "https://localhost:8080/"
        },
        "id": "kO7WRHMsbewJ",
        "outputId": "5ec7e482-ea12-4276-deb0-6e4bd6ad80ac"
      },
      "execution_count": 47,
      "outputs": [
        {
          "output_type": "stream",
          "name": "stdout",
          "text": [
            "Enter the size on ndarray:15\n",
            "Enter the element 1: 10\n",
            "Enter the element 2: 20\n",
            "Enter the element 3: 20\n",
            "Enter the element 4: 20\n",
            "Enter the element 5: 20\n",
            "Enter the element 6: 0\n",
            "Enter the element 7: 20\n",
            "Enter the element 8: 30\n",
            "Enter the element 9: 30\n",
            "Enter the element 10: 30\n",
            "Enter the element 11: 0\n",
            "Enter the element 12: 0\n",
            "Enter the element 13: 20\n",
            "Enter the element 14: 20\n",
            "Enter the element 15: 0\n",
            "[7, 4, 3, 1]\n"
          ]
        }
      ]
    },
    {
      "cell_type": "markdown",
      "source": [
        "NumPy program to remove nan values from a given array."
      ],
      "metadata": {
        "id": "D9cU9N_AwcGk"
      }
    },
    {
      "cell_type": "code",
      "source": [
        "input1=input(\"Enter the values in array separated by spaces :\")\n",
        "elements=input1.split()\n",
        "a1=np.array([int(x) if x != 'nan' else np.nan for x in elements])\n",
        "result=a1[~np.isnan(a1)]\n",
        "print(result)"
      ],
      "metadata": {
        "colab": {
          "base_uri": "https://localhost:8080/"
        },
        "id": "sv7gp8Xrwf5w",
        "outputId": "1957b7e3-637c-4dc3-bb49-53b08a810003"
      },
      "execution_count": 56,
      "outputs": [
        {
          "output_type": "stream",
          "name": "stdout",
          "text": [
            "Enter the values in array separated by spaces :200 300 nan nan 700\n",
            "[200. 300. 700.]\n"
          ]
        }
      ]
    },
    {
      "cell_type": "markdown",
      "source": [
        "NumPy program to calculate percentiles for a sequence or single-dimensional NumPy array."
      ],
      "metadata": {
        "id": "HoyyYAzv76ap"
      }
    },
    {
      "cell_type": "code",
      "source": [
        "a=[]\n",
        "length=int(input(\"Enter the size on ndarray:\"))\n",
        "for i in range(length):\n",
        "  element=int(input(f\"Enter the element {i+1}: \"))\n",
        "  a.append(element)\n",
        "a1=np.array(a)\n",
        "median=np.percentile(a1,50)\n",
        "med2=np.percentile(a1,40)\n",
        "med3=np.percentile(a1,90)\n",
        "print(f\"50th percentile : {median}\")\n",
        "print(f\"40th percentile : {med2}\")\n",
        "print(f\"90th percentile : {med3}\")"
      ],
      "metadata": {
        "colab": {
          "base_uri": "https://localhost:8080/"
        },
        "id": "Vgdd5nu48DRe",
        "outputId": "97ab3589-9b5a-4847-fb16-b052fed32a3c"
      },
      "execution_count": 64,
      "outputs": [
        {
          "output_type": "stream",
          "name": "stdout",
          "text": [
            "Enter the size on ndarray:5\n",
            "Enter the element 1: 1\n",
            "Enter the element 2: 2\n",
            "Enter the element 3: 3\n",
            "Enter the element 4: 4\n",
            "Enter the element 5: 5\n",
            "50th percentile : 3.0\n",
            "40th percentile : 2.6\n",
            "90th percentile : 4.6\n"
          ]
        }
      ]
    },
    {
      "cell_type": "markdown",
      "source": [
        "NumPy program to find indices of elements equal to zero in a NumPy array."
      ],
      "metadata": {
        "id": "wORDkZWY9ga5"
      }
    },
    {
      "cell_type": "code",
      "source": [
        "a=[]\n",
        "length=int(input(\"Enter the size on ndarray:\"))\n",
        "for i in range(length):\n",
        "  element=int(input(f\"Enter the element {i+1}: \"))\n",
        "  a.append(element)\n",
        "a1=np.array(a)\n",
        "#new=[i for i in range(length) if a1[i]==0 ]\n",
        "new=np.where(a1==0)[0]\n",
        "print(new)"
      ],
      "metadata": {
        "colab": {
          "base_uri": "https://localhost:8080/"
        },
        "id": "hjnZ1Z_W9mM4",
        "outputId": "6ed9a545-40f5-4397-8923-c6799fdd5082"
      },
      "execution_count": 66,
      "outputs": [
        {
          "output_type": "stream",
          "name": "stdout",
          "text": [
            "Enter the size on ndarray:11\n",
            "Enter the element 1: 1\n",
            "Enter the element 2: 0\n",
            "Enter the element 3: 2\n",
            "Enter the element 4: 0\n",
            "Enter the element 5: 3\n",
            "Enter the element 6: 0\n",
            "Enter the element 7: 4\n",
            "Enter the element 8: 5\n",
            "Enter the element 9: 6\n",
            "Enter the element 10: 7\n",
            "Enter the element 11: 8\n",
            "[1 3 5]\n"
          ]
        }
      ]
    },
    {
      "cell_type": "markdown",
      "source": [
        "NumPy program to round elements of the array to the nearest integer, and then calculate the abslute value element wise."
      ],
      "metadata": {
        "id": "tDs55vNNANf9"
      }
    },
    {
      "cell_type": "code",
      "source": [
        "a=[]\n",
        "length=int(input(\"Enter the size on ndarray:\"))\n",
        "for i in range(length):\n",
        "  element=float(input(f\"Enter the element {i+1}: \"))\n",
        "  a.append(element)\n",
        "a1=np.array(a)\n",
        "a2=np.absolute(a1)\n",
        "result=np.round(a2)\n",
        "print(result)\n"
      ],
      "metadata": {
        "colab": {
          "base_uri": "https://localhost:8080/"
        },
        "id": "xfoM8oCEASUP",
        "outputId": "fb0879b5-1d62-4c3a-d408-bcf696b07e1b"
      },
      "execution_count": 70,
      "outputs": [
        {
          "output_type": "stream",
          "name": "stdout",
          "text": [
            "Enter the size on ndarray:7\n",
            "Enter the element 1: -0.7\n",
            "Enter the element 2: -1.5\n",
            "Enter the element 3: -1.7\n",
            "Enter the element 4: 0.3\n",
            "Enter the element 5: 1.5\n",
            "Enter the element 6: 1.8\n",
            "Enter the element 7: 2.0\n",
            "[1. 2. 2. 0. 2. 2. 2.]\n"
          ]
        }
      ]
    },
    {
      "cell_type": "markdown",
      "source": [
        "NumPy program to calculate the difference between neighboring elements, element-wise, and prepend [0, 0] and append[200] to a given array."
      ],
      "metadata": {
        "id": "UDhrOMwmCqbp"
      }
    },
    {
      "cell_type": "code",
      "source": [
        "a=[]\n",
        "length=int(input(\"Enter the size on ndarray:\"))\n",
        "for i in range(length):\n",
        "  element=float(input(f\"Enter the element {i+1}: \"))\n",
        "  a.append(element)\n",
        "a1=np.array(a)\n",
        "diff=np.zeros_like(a1)\n",
        "for i in range(1,length):\n",
        "  diff[i]=a1[i]-a1[i-1]\n",
        "diff=np.append(diff,200)\n",
        "diff=np.insert(diff,0,[0])\n",
        "print(diff)\n"
      ],
      "metadata": {
        "colab": {
          "base_uri": "https://localhost:8080/"
        },
        "id": "p4hQ7JA3Cv7a",
        "outputId": "ad080fab-a4fe-49b3-8f66-ff2e2d6e4b2a"
      },
      "execution_count": 78,
      "outputs": [
        {
          "output_type": "stream",
          "name": "stdout",
          "text": [
            "Enter the size on ndarray:5\n",
            "Enter the element 1: 1\n",
            "Enter the element 2: 3\n",
            "Enter the element 3: 5\n",
            "Enter the element 4: 7\n",
            "Enter the element 5: 0\n",
            "[  0.   0.   2.   2.   2.  -7. 200.]\n"
          ]
        }
      ]
    },
    {
      "cell_type": "markdown",
      "source": [
        "NumPy program to get the indices of the sorted elements of a given array."
      ],
      "metadata": {
        "id": "IrePi1-VHud4"
      }
    },
    {
      "cell_type": "code",
      "source": [
        "a=np.array([1023, 5202, 6230, 1671, 1682, 5241, 4532])\n",
        "result=np.argsort(a)\n",
        "print(result)"
      ],
      "metadata": {
        "colab": {
          "base_uri": "https://localhost:8080/"
        },
        "id": "txIC-ykjH4HA",
        "outputId": "60d891f8-bbc9-4fb1-a483-99f03510b999"
      },
      "execution_count": 79,
      "outputs": [
        {
          "output_type": "stream",
          "name": "stdout",
          "text": [
            "[0 3 4 6 1 5 2]\n"
          ]
        }
      ]
    },
    {
      "cell_type": "markdown",
      "source": [
        "NumPy program to partition a given array in a specified position and move all the smaller elements values to the left of the partition, and the remaining values to the right, in arbitrary order (based on random choice)."
      ],
      "metadata": {
        "id": "n7xhvTlDIKkE"
      }
    },
    {
      "cell_type": "code",
      "source": [
        "a=[]\n",
        "length=int(input(\"Enter the size on ndarray:\"))\n",
        "for i in range(length):\n",
        "  element=float(input(f\"Enter the element {i+1}: \"))\n",
        "  a.append(element)\n",
        "a1=np.array(a)\n",
        "new=np.partition(a1,length//2)\n",
        "print(new)"
      ],
      "metadata": {
        "colab": {
          "base_uri": "https://localhost:8080/"
        },
        "id": "Tidzx14TINiq",
        "outputId": "cedc4bee-f23c-49f6-8260-afa880b431e9"
      },
      "execution_count": 85,
      "outputs": [
        {
          "output_type": "stream",
          "name": "stdout",
          "text": [
            "Enter the size on ndarray:8\n",
            "Enter the element 1: 70\n",
            "Enter the element 2: 50\n",
            "Enter the element 3: 20\n",
            "Enter the element 4: 30\n",
            "Enter the element 5: -11\n",
            "Enter the element 6: 60\n",
            "Enter the element 7: 50\n",
            "Enter the element 8: 40\n",
            "[-11.  30.  20.  40.  50.  50.  60.  70.]\n"
          ]
        }
      ]
    },
    {
      "cell_type": "markdown",
      "source": [
        "Compute the euclidean distance between two arrays a and b."
      ],
      "metadata": {
        "id": "g4dK_8hUMJ-c"
      }
    },
    {
      "cell_type": "code",
      "source": [
        "a=[]\n",
        "length=int(input(\"Enter the size on ndarray:\"))\n",
        "for i in range(length):\n",
        "  element=float(input(f\"Enter the element {i+1}: \"))\n",
        "  a.append(element)\n",
        "a1=np.array(a)\n",
        "a_s=[]\n",
        "length=int(input(\"Enter the size of second ndarray:\"))\n",
        "for i in range(length):\n",
        "  element=float(input(f\"Enter the element {i+1}: \"))\n",
        "  a_s.append(element)\n",
        "a2=np.array(a_s)\n",
        "diff=a1-a2\n",
        "squared=diff**2\n",
        "sum_sq=np.sum(squared)\n",
        "euclid=np.sqrt(sum_sq)\n",
        "print(euclid)"
      ],
      "metadata": {
        "colab": {
          "base_uri": "https://localhost:8080/"
        },
        "id": "FaQAQODxMQFb",
        "outputId": "51394c96-b2bf-48b5-dda7-75f1fcfeafb8"
      },
      "execution_count": 94,
      "outputs": [
        {
          "output_type": "stream",
          "name": "stdout",
          "text": [
            "Enter the size on ndarray:5\n",
            "Enter the element 1: 1\n",
            "Enter the element 2: 2\n",
            "Enter the element 3: 3\n",
            "Enter the element 4: 4\n",
            "Enter the element 5: 5\n",
            "Enter the size of second ndarray:5\n",
            "Enter the element 1: 4\n",
            "Enter the element 2: 5\n",
            "Enter the element 3: 6\n",
            "Enter the element 4: 7\n",
            "Enter the element 5: 8\n",
            "6.708203932499369\n"
          ]
        }
      ]
    },
    {
      "cell_type": "markdown",
      "source": [
        "Find all the peaks in a 1D numpy array a. Peaks are points surrounded by smaller values on both sides."
      ],
      "metadata": {
        "id": "RS8hQYWsNhOG"
      }
    },
    {
      "cell_type": "code",
      "source": [
        "a=[]\n",
        "length=int(input(\"Enter the size on ndarray:\"))\n",
        "for i in range(length):\n",
        "  element=float(input(f\"Enter the element {i+1}: \"))\n",
        "  a.append(element)\n",
        "a1=np.array(a)\n",
        "peaks=[]\n",
        "for i in range(length-1):\n",
        "  if a1[i]>a1[i-1] and a1[i]>a1[i+1]:\n",
        "    peaks.append(i)\n",
        "result=np.array([peaks])\n",
        "print(result)"
      ],
      "metadata": {
        "colab": {
          "base_uri": "https://localhost:8080/"
        },
        "id": "1WeHX6_2NoHt",
        "outputId": "ef7bf228-2de2-413c-8a68-c456e0b53dc8"
      },
      "execution_count": 92,
      "outputs": [
        {
          "output_type": "stream",
          "name": "stdout",
          "text": [
            "Enter the size on ndarray:8\n",
            "Enter the element 1: 1\n",
            "Enter the element 2: 3\n",
            "Enter the element 3: 7\n",
            "Enter the element 4: 1\n",
            "Enter the element 5: 2\n",
            "Enter the element 6: 6\n",
            "Enter the element 7: 0\n",
            "Enter the element 8: 1\n",
            "[[2 5]]\n"
          ]
        }
      ]
    },
    {
      "cell_type": "markdown",
      "source": [
        "Find the index of nth repetition of number i ."
      ],
      "metadata": {
        "id": "xk60uwfsQdw5"
      }
    },
    {
      "cell_type": "code",
      "source": [
        "a=[]\n",
        "length=int(input(\"Enter the size on ndarray:\"))\n",
        "for i in range(length):\n",
        "  element=float(input(f\"Enter the element {i+1}: \"))\n",
        "  a.append(element)\n",
        "a1=np.array(a)\n",
        "n=int(input(\"Enter the nth repetition of a number:\"))\n",
        "i=int(input(\"Enter the number you want to find:\"))\n",
        "result=np.where(a1==i)[0]\n",
        "if n<= len(result):\n",
        "  print(result[n-1])\n"
      ],
      "metadata": {
        "colab": {
          "base_uri": "https://localhost:8080/"
        },
        "id": "GjKGsDp-Oicx",
        "outputId": "897c602a-3997-4fe1-e219-7ed1667445a3"
      },
      "execution_count": 101,
      "outputs": [
        {
          "output_type": "stream",
          "name": "stdout",
          "text": [
            "Enter the size on ndarray:13\n",
            "Enter the element 1: 1\n",
            "Enter the element 2: 2\n",
            "Enter the element 3: 1\n",
            "Enter the element 4: 1\n",
            "Enter the element 5: 3\n",
            "Enter the element 6: 4\n",
            "Enter the element 7: 3\n",
            "Enter the element 8: 1\n",
            "Enter the element 9: 1\n",
            "Enter the element 10: 2\n",
            "Enter the element 11: 1\n",
            "Enter the element 12: 1\n",
            "Enter the element 13: 2\n",
            "Enter the nth repetition of a number:5\n",
            "Enter the number you want to find:1\n",
            "8\n"
          ]
        }
      ]
    }
  ]
}