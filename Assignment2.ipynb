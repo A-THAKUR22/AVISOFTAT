{
  "nbformat": 4,
  "nbformat_minor": 0,
  "metadata": {
    "colab": {
      "provenance": [],
      "authorship_tag": "ABX9TyO/a5ZLCHbmPRaV5aBIoS8d",
      "include_colab_link": true
    },
    "kernelspec": {
      "name": "python3",
      "display_name": "Python 3"
    },
    "language_info": {
      "name": "python"
    }
  },
  "cells": [
    {
      "cell_type": "markdown",
      "metadata": {
        "id": "view-in-github",
        "colab_type": "text"
      },
      "source": [
        "<a href=\"https://colab.research.google.com/github/A-THAKUR22/AVISOFTAT/blob/main/Assignment2.ipynb\" target=\"_parent\"><img src=\"https://colab.research.google.com/assets/colab-badge.svg\" alt=\"Open In Colab\"/></a>"
      ]
    },
    {
      "cell_type": "code",
      "execution_count": 25,
      "metadata": {
        "colab": {
          "base_uri": "https://localhost:8080/"
        },
        "id": "2qvfIx4Egqtk",
        "outputId": "00cbb5e8-9468-471f-c628-9a8f278a4174"
      },
      "outputs": [
        {
          "output_type": "stream",
          "name": "stdout",
          "text": [
            "Enter you sentence:my name is amay\n",
            "yama si eman ym\n"
          ]
        }
      ],
      "source": [
        "import re\n",
        "our_string=input(\"Enter you sentence:\")\n",
        "st_list=our_string.split()\n",
        "reversed_list=[]\n",
        "for word in st_list:\n",
        "  reversed_word=re.sub(r'(.)',r'\\1',word[::-1])\n",
        "  reversed_list.append(reversed_word)\n",
        "reversed_list.reverse()\n",
        "an_string= [reversed_list[0:2]] + reversed_list[2:]\n",
        "new_string=' '.join(reversed_list)\n",
        "print(new_string)\n"
      ]
    },
    {
      "cell_type": "markdown",
      "source": [
        "string reversal"
      ],
      "metadata": {
        "id": "5qr6tpwk2RR5"
      }
    },
    {
      "cell_type": "code",
      "source": [
        "def sum_arr(n):\n",
        "  arr=[]\n",
        "  sum=0\n",
        "  for i in range(n):\n",
        "    a=int(input(f\"Enter number {i+1}:\"))\n",
        "    arr.append(a)\n",
        "    sum+=a\n",
        "  return sum\n",
        "num=int(input(\"Enter the size of list:\"))\n",
        "sum_arr(num)\n"
      ],
      "metadata": {
        "colab": {
          "base_uri": "https://localhost:8080/"
        },
        "id": "e1sJDW0dH1un",
        "outputId": "cf53f97f-a119-41ab-a0a6-f170b9b42d38"
      },
      "execution_count": 30,
      "outputs": [
        {
          "name": "stdout",
          "output_type": "stream",
          "text": [
            "Enter the size of list:3\n",
            "Enter number 1:9\n",
            "Enter number 2:8\n",
            "Enter number 3:9\n"
          ]
        },
        {
          "output_type": "execute_result",
          "data": {
            "text/plain": [
              "26"
            ]
          },
          "metadata": {},
          "execution_count": 30
        }
      ]
    },
    {
      "cell_type": "markdown",
      "source": [
        "sum of array elements"
      ],
      "metadata": {
        "id": "AUfC83Dp2XtO"
      }
    },
    {
      "cell_type": "code",
      "source": [
        "def rev_sub(n):\n",
        "  arr=[]\n",
        "\n",
        "  for i in range(n):\n",
        "    a=int(input(f\"Enter element {i+1}:\"))\n",
        "    arr.append(a)\n",
        "  M=int(input(\"Enter the index for slicing:\"))\n",
        "  if M==0:\n",
        "    print(arr)\n",
        "  arr2=arr[M+1:]\n",
        "\n",
        "\n",
        "  print(arr[0:M+1]+arr2[::-1])\n",
        "num=int(input(\"Enter the size of the array:\"))\n",
        "rev_sub(num)\n",
        "\n"
      ],
      "metadata": {
        "colab": {
          "base_uri": "https://localhost:8080/"
        },
        "id": "BwB8okuyJiBr",
        "outputId": "dcc07f82-b090-442b-f0cd-8d71f31bd702"
      },
      "execution_count": 45,
      "outputs": [
        {
          "output_type": "stream",
          "name": "stdout",
          "text": [
            "Enter the size of the array:6\n",
            "Enter element 1:1\n",
            "Enter element 2:2\n",
            "Enter element 3:3\n",
            "Enter element 4:4\n",
            "Enter element 5:5\n",
            "Enter element 6:6\n",
            "Enter the index for slicing:3\n",
            "[1, 2, 3, 4, 6, 5]\n"
          ]
        }
      ]
    },
    {
      "cell_type": "markdown",
      "source": [
        "reversing sub array"
      ],
      "metadata": {
        "id": "Qyyd929-2muU"
      }
    },
    {
      "cell_type": "code",
      "source": [
        "def find_unique(arr):\n",
        "    result = 0\n",
        "    for i in range(32):\n",
        "      count=0\n",
        "      for num in arr:\n",
        "        count += (num >> i) & 1\n",
        "      if count % 3 != 0:\n",
        "          result |= (1 << i)\n",
        "\n",
        "    return result\n",
        "arr = [1, 2, 1, 1]\n",
        "result = find_unique(arr)\n",
        "print(result)\n"
      ],
      "metadata": {
        "colab": {
          "base_uri": "https://localhost:8080/"
        },
        "id": "-sANt12qPesq",
        "outputId": "b301dc6f-ac4a-4867-b37d-66311ef3689a"
      },
      "execution_count": 55,
      "outputs": [
        {
          "output_type": "stream",
          "name": "stdout",
          "text": [
            "2\n"
          ]
        }
      ]
    },
    {
      "cell_type": "markdown",
      "source": [
        "unique occurence\n"
      ],
      "metadata": {
        "id": "MRBLmVio2sQ9"
      }
    },
    {
      "cell_type": "code",
      "source": [
        "size=int(input(\"Enter the size:\"))\n",
        "list=[]\n",
        "for i in range(size):\n",
        "  i=int(input(f\"Enter the element {i+1}:\"))\n",
        "  list.append(i)\n",
        "  result=0\n",
        "  for j in list:\n",
        "    result^=j\n",
        "  print(result)"
      ],
      "metadata": {
        "colab": {
          "base_uri": "https://localhost:8080/"
        },
        "id": "Aku-bpjfn0Gn",
        "outputId": "7436a63d-dc8f-440b-a7cd-abb4d66d62f6"
      },
      "execution_count": 57,
      "outputs": [
        {
          "output_type": "stream",
          "name": "stdout",
          "text": [
            "Enter the size:7\n",
            "Enter the element 1:2\n",
            "2\n",
            "Enter the element 2:3\n",
            "1\n",
            "Enter the element 3:1\n",
            "0\n",
            "Enter the element 4:6\n",
            "6\n",
            "Enter the element 5:3\n",
            "5\n",
            "Enter the element 6:6\n",
            "3\n",
            "Enter the element 7:2\n",
            "1\n"
          ]
        }
      ]
    },
    {
      "cell_type": "markdown",
      "source": [
        "unique through xor"
      ],
      "metadata": {
        "id": "o9XYgAHf26pZ"
      }
    },
    {
      "cell_type": "code",
      "source": [
        "n=int(input(\"Enter the number:\"))\n",
        "q=int(input(\"Enter the choice:\"))\n",
        "\n",
        "\n",
        "if q==1:\n",
        "    sum=0\n",
        "    for i in range(1,n+1):\n",
        "      sum+=i\n",
        "    print(sum)\n",
        "elif q==2:\n",
        "    prod=1\n",
        "    for i in range(1,n+1):\n",
        "      prod*=i\n",
        "    print(prod)\n",
        "else:\n",
        "  print(\"Make a valid choice!\")\n",
        "\n"
      ],
      "metadata": {
        "colab": {
          "base_uri": "https://localhost:8080/"
        },
        "id": "qrOXXnkdspZg",
        "outputId": "469a8044-25b0-4d0f-c607-b2b5040c3d9a"
      },
      "execution_count": 69,
      "outputs": [
        {
          "output_type": "stream",
          "name": "stdout",
          "text": [
            "Enter the number:4\n",
            "Enter the choice:2\n",
            "24\n"
          ]
        }
      ]
    },
    {
      "cell_type": "markdown",
      "source": [
        "sum or product"
      ],
      "metadata": {
        "id": "ZxCduvf72-xL"
      }
    },
    {
      "cell_type": "code",
      "source": [],
      "metadata": {
        "id": "XH8siHuTxT1-"
      },
      "execution_count": null,
      "outputs": []
    }
  ]
}