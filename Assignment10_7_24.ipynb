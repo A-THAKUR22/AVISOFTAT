{
  "nbformat": 4,
  "nbformat_minor": 0,
  "metadata": {
    "colab": {
      "provenance": [],
      "authorship_tag": "ABX9TyNmYd3C37Ri/+hYxx3vfV2S",
      "include_colab_link": true
    },
    "kernelspec": {
      "name": "python3",
      "display_name": "Python 3"
    },
    "language_info": {
      "name": "python"
    }
  },
  "cells": [
    {
      "cell_type": "markdown",
      "metadata": {
        "id": "view-in-github",
        "colab_type": "text"
      },
      "source": [
        "<a href=\"https://colab.research.google.com/github/A-THAKUR22/AVISOFTAT/blob/main/Assignment10_7_24.ipynb\" target=\"_parent\"><img src=\"https://colab.research.google.com/assets/colab-badge.svg\" alt=\"Open In Colab\"/></a>"
      ]
    },
    {
      "cell_type": "markdown",
      "source": [
        "Function that accepts a line of text and a single letter as input (your program should be able to handle all upper and lower cases) and returns the number of times this letter is the second last character of a word"
      ],
      "metadata": {
        "id": "gOcEm4DzFEEc"
      }
    },
    {
      "cell_type": "code",
      "execution_count": 11,
      "metadata": {
        "colab": {
          "base_uri": "https://localhost:8080/"
        },
        "id": "cNer6WAyE-VC",
        "outputId": "ee54b14f-b22c-444d-e71e-7b52d96f15b7"
      },
      "outputs": [
        {
          "output_type": "stream",
          "name": "stdout",
          "text": [
            "Enter your string:When the sun rises at dawn, the CHICKEN flies into the window.\n",
            "Enter your character that you need to find:e\n",
            "The e occurs 4 times in the string.\n"
          ]
        }
      ],
      "source": [
        "def second_last(string1,letter):\n",
        "  new=string1.upper().split()\n",
        "  count=0\n",
        "\n",
        "  for i in range(len(new)):\n",
        "    if len(new)>0:\n",
        "      if new[i][-2]==letter or  new[i][-2]==letter.upper():\n",
        "        count+=1\n",
        "  print(f\"The {letter} occurs {count} times in the string.\")\n",
        "my_string=input(\"Enter your string:\")\n",
        "letter_tofind=input(\"Enter your character that you need to find:\")\n",
        "second_last(my_string,letter_tofind)\n",
        "\n",
        "\n"
      ]
    },
    {
      "cell_type": "markdown",
      "source": [
        "Ask user input of a string, then ask user input of what letters they want to remove from the string. User can either put in \"odd\", \"even\" or a number \"n\" that is greater than 2"
      ],
      "metadata": {
        "id": "S19-4IcIJuMl"
      }
    },
    {
      "cell_type": "code",
      "source": [
        "def removal(string1,n):\n",
        "  new=list(string1.strip())\n",
        "\n",
        "  if n==\"odd\":\n",
        "      result= [new[i] for i in range(len(new)) if (i+1) % 2 != 0 ]\n",
        "  elif n==\"even\":\n",
        "      result= [new[i] for i in range(len(new)) if (i+1) % 2 == 0 ]\n",
        "  else:\n",
        "      seq=int(n)\n",
        "      if seq>2:\n",
        "        result= [new[i] for i in range(len(new)) if (i+1) % seq != 0 ]\n",
        "      else:\n",
        "        print(\"Invalid input. Please enter a number greater than 2.\")\n",
        "  return ''.join(result)\n",
        "\n",
        "\n",
        "my_string=input(\"Enter your string:\")\n",
        "\n",
        "my_choice=input(\"Enter whether you need to remove odd , even or n letters:\")\n",
        "removal(my_string,my_choice)\n"
      ],
      "metadata": {
        "colab": {
          "base_uri": "https://localhost:8080/",
          "height": 73
        },
        "id": "5GKAFz-6JLS2",
        "outputId": "108c0aad-35d4-4ed5-ea77-d90fc057d2ba"
      },
      "execution_count": 49,
      "outputs": [
        {
          "name": "stdout",
          "output_type": "stream",
          "text": [
            "Enter your string:Hello World\n",
            "Enter whether you need to remove odd , even or n letters:even\n"
          ]
        },
        {
          "output_type": "execute_result",
          "data": {
            "text/plain": [
              "'el ol'"
            ],
            "application/vnd.google.colaboratory.intrinsic+json": {
              "type": "string"
            }
          },
          "metadata": {},
          "execution_count": 49
        }
      ]
    },
    {
      "cell_type": "markdown",
      "source": [
        "Create a Caesar encryption."
      ],
      "metadata": {
        "id": "OxT5ZRWESaJd"
      }
    },
    {
      "cell_type": "code",
      "source": [
        "def caesar_encryption(message,shift):\n",
        "  encrypted=\"\"\n",
        "  for char in message:\n",
        "    if char.isalpha():\n",
        "      if char.isupper():\n",
        "        text=chr((ord(char)-ord('A')+shift)%26+ord('A'))\n",
        "      else:\n",
        "        text=chr((ord(char)-ord('a')+shift)%26+ord('a'))\n",
        "      encrypted+=text\n",
        "  return encrypted\n",
        "my_msg=input(\"Enter your message:\")\n",
        "n=int(input(\"Enter the number of places to shift:\"))\n",
        "caesar_encryption(my_msg,n)"
      ],
      "metadata": {
        "colab": {
          "base_uri": "https://localhost:8080/",
          "height": 73
        },
        "id": "8Dtd0JRTShTu",
        "outputId": "aa79ec81-2dcf-4c8e-eec7-0a074dc14fb9"
      },
      "execution_count": 28,
      "outputs": [
        {
          "name": "stdout",
          "output_type": "stream",
          "text": [
            "Enter your message:I work in avisoft\n",
            "Enter the number of places to shift:5\n"
          ]
        },
        {
          "output_type": "execute_result",
          "data": {
            "text/plain": [
              "'Nbtwpnsfanxtky'"
            ],
            "application/vnd.google.colaboratory.intrinsic+json": {
              "type": "string"
            }
          },
          "metadata": {},
          "execution_count": 28
        }
      ]
    },
    {
      "cell_type": "markdown",
      "source": [
        "Ask how many elements users want to create in a list, then let the user create 2 lists with the number of elements previously entered. Then create and display all combinations of letters, selecting each letter from a different key in a dictionary, and place all these combinations in a new list."
      ],
      "metadata": {
        "id": "xn20ZHaxcvF8"
      }
    },
    {
      "cell_type": "code",
      "source": [
        "def create_combinations(list1, list2):\n",
        "    combinations=[]\n",
        "    for i in list1:\n",
        "      for j in list2:\n",
        "        combinations.append(i+j)\n",
        "    return combinations\n",
        "\n",
        "n = int(input(\"How many elements? \"))\n",
        "list1 = []\n",
        "print(\"Input elements for List 1:\")\n",
        "for i in range(n):\n",
        "    list1.append(input(f\"Element {i+1}: \"))\n",
        "list2 = []\n",
        "print(\"Input elements for List 2:\")\n",
        "for i in range(n):\n",
        "  list2.append(input(f\"Element {i+1}: \"))\n",
        "create_combinations(list1,list2)"
      ],
      "metadata": {
        "colab": {
          "base_uri": "https://localhost:8080/"
        },
        "id": "Zj5jYqIPdPeT",
        "outputId": "4a26c7e3-51e7-4464-b184-f589beea465e"
      },
      "execution_count": 48,
      "outputs": [
        {
          "name": "stdout",
          "output_type": "stream",
          "text": [
            "How many elements? 2\n",
            "Input elements for List 1:\n",
            "Element 1: a\n",
            "Element 2: b\n",
            "Input elements for List 2:\n",
            "Element 1: c\n",
            "Element 2: d\n"
          ]
        },
        {
          "output_type": "execute_result",
          "data": {
            "text/plain": [
              "['ac', 'ad', 'bc', 'bd']"
            ]
          },
          "metadata": {},
          "execution_count": 48
        }
      ]
    },
    {
      "cell_type": "code",
      "source": [],
      "metadata": {
        "id": "xRaGtYCEhT9-"
      },
      "execution_count": 42,
      "outputs": []
    }
  ]
}