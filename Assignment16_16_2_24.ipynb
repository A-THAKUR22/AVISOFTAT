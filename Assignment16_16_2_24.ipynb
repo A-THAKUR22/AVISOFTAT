{
  "nbformat": 4,
  "nbformat_minor": 0,
  "metadata": {
    "colab": {
      "provenance": [],
      "authorship_tag": "ABX9TyMBJlKDN/lfbcJLtcdQsns1",
      "include_colab_link": true
    },
    "kernelspec": {
      "name": "python3",
      "display_name": "Python 3"
    },
    "language_info": {
      "name": "python"
    }
  },
  "cells": [
    {
      "cell_type": "markdown",
      "metadata": {
        "id": "view-in-github",
        "colab_type": "text"
      },
      "source": [
        "<a href=\"https://colab.research.google.com/github/A-THAKUR22/AVISOFTAT/blob/main/Assignment16_16_2_24.ipynb\" target=\"_parent\"><img src=\"https://colab.research.google.com/assets/colab-badge.svg\" alt=\"Open In Colab\"/></a>"
      ]
    },
    {
      "cell_type": "markdown",
      "source": [
        "NumPy program to get the numpy version and show numpy build configuration."
      ],
      "metadata": {
        "id": "MPlF7eRpRI7u"
      }
    },
    {
      "cell_type": "code",
      "execution_count": 5,
      "metadata": {
        "colab": {
          "base_uri": "https://localhost:8080/"
        },
        "id": "HJ9QiluZRF8U",
        "outputId": "f0873bef-dfc5-43fb-95da-6401417543e6"
      },
      "outputs": [
        {
          "output_type": "stream",
          "name": "stdout",
          "text": [
            "1.25.2\n"
          ]
        }
      ],
      "source": [
        "import numpy as np\n",
        "print(np.version.version)"
      ]
    },
    {
      "cell_type": "markdown",
      "source": [
        "NumPy program to get help on the add function."
      ],
      "metadata": {
        "id": "EyH4TEFqR408"
      }
    },
    {
      "cell_type": "code",
      "source": [
        "a=np.array([1,2,3])\n",
        "b=np.array([4,5,6])\n",
        "print(np.add(a,b))"
      ],
      "metadata": {
        "colab": {
          "base_uri": "https://localhost:8080/"
        },
        "id": "mFITMSFyR8YN",
        "outputId": "f8efe0a9-102a-40fd-d09c-658c929a753c"
      },
      "execution_count": 7,
      "outputs": [
        {
          "output_type": "stream",
          "name": "stdout",
          "text": [
            "[5 7 9]\n"
          ]
        }
      ]
    },
    {
      "cell_type": "markdown",
      "source": [
        "NumPy program to test whether none of the elements of a given array is zero."
      ],
      "metadata": {
        "id": "pgChU7STSiOT"
      }
    },
    {
      "cell_type": "code",
      "source": [
        "a=np.array([2,4,5])\n",
        "b=np.array([0,2,1])\n",
        "print(np.any(a==0))\n",
        "print(np.any(b==0))"
      ],
      "metadata": {
        "colab": {
          "base_uri": "https://localhost:8080/"
        },
        "id": "OBldWtDASlJQ",
        "outputId": "122bafa6-bd3a-4054-ca70-2199759997b3"
      },
      "execution_count": 16,
      "outputs": [
        {
          "output_type": "stream",
          "name": "stdout",
          "text": [
            "False\n",
            "True\n"
          ]
        }
      ]
    },
    {
      "cell_type": "markdown",
      "source": [
        "NumPy program to test if any of the elements of a given array is non-zero."
      ],
      "metadata": {
        "id": "rq8TSKQxTkYh"
      }
    },
    {
      "cell_type": "code",
      "source": [
        "a=np.array([2,4,5])\n",
        "b=np.array([0,2,1])\n",
        "c=np.array([0,0,0])\n",
        "print(np.all(a))\n",
        "print(np.all(b))"
      ],
      "metadata": {
        "colab": {
          "base_uri": "https://localhost:8080/"
        },
        "id": "DmN-3VDOTqSp",
        "outputId": "ea41c3ac-fdf4-4db8-cca2-14f1b7a56a2d"
      },
      "execution_count": 21,
      "outputs": [
        {
          "output_type": "stream",
          "name": "stdout",
          "text": [
            "True\n",
            "False\n",
            "True\n"
          ]
        }
      ]
    },
    {
      "cell_type": "markdown",
      "source": [
        "NumPy program to test a given array element-wise for finiteness (not infinity or not a Number)"
      ],
      "metadata": {
        "id": "WiDBSHc2UKsE"
      }
    },
    {
      "cell_type": "code",
      "source": [
        "a=np.array([2,4,5])\n",
        "b=np.array([np.inf,1,3,5,np.inf])\n",
        "print(np.isfinite(a))\n",
        "print(np.isfinite(b))"
      ],
      "metadata": {
        "colab": {
          "base_uri": "https://localhost:8080/"
        },
        "id": "cB6vTt6wUOfe",
        "outputId": "9bed8e96-0152-414a-b700-c83f06a13b76"
      },
      "execution_count": 25,
      "outputs": [
        {
          "output_type": "stream",
          "name": "stdout",
          "text": [
            "[ True  True  True]\n",
            "[False  True  True  True False]\n"
          ]
        }
      ]
    },
    {
      "cell_type": "markdown",
      "source": [
        "NumPy program to test element-wise for positive or negative infinity.\n"
      ],
      "metadata": {
        "id": "NbpaV14-Vlic"
      }
    },
    {
      "cell_type": "code",
      "source": [
        "a=np.array([2,4,5])\n",
        "b=np.array([np.inf,1,3,5,np.inf])\n",
        "c=np.array([np.inf,1,12,5,-np.inf])\n",
        "print(np.isposinf(a))\n",
        "print(np.isposinf(b))\n",
        "print(np.isneginf(c))"
      ],
      "metadata": {
        "colab": {
          "base_uri": "https://localhost:8080/"
        },
        "id": "t7cMdA0pVz5P",
        "outputId": "a0330b7b-38b5-4205-9ba9-eea2b70e81db"
      },
      "execution_count": 27,
      "outputs": [
        {
          "output_type": "stream",
          "name": "stdout",
          "text": [
            "[False False False]\n",
            "[ True False False False  True]\n",
            "[False False False False  True]\n"
          ]
        }
      ]
    },
    {
      "cell_type": "markdown",
      "source": [
        "NumPy program to test element-wise for NaN of a given array."
      ],
      "metadata": {
        "id": "JHn70oJiWlyk"
      }
    },
    {
      "cell_type": "code",
      "source": [
        "a=np.array([2,4,5])\n",
        "b=np.array([np.nan,1,3,5,np.nan,5])\n",
        "print(np.isnan(a))\n",
        "print(np.isnan(b))"
      ],
      "metadata": {
        "colab": {
          "base_uri": "https://localhost:8080/"
        },
        "id": "C1YValsaWo6A",
        "outputId": "e74a1052-657a-45eb-8c21-2b64fb916bf4"
      },
      "execution_count": 29,
      "outputs": [
        {
          "output_type": "stream",
          "name": "stdout",
          "text": [
            "[False False False]\n",
            "[ True False False False  True False]\n"
          ]
        }
      ]
    },
    {
      "cell_type": "markdown",
      "source": [
        "NumPy program to test element-wise for complex number, real number of a given array. Also test if a given number is a scalar type or not."
      ],
      "metadata": {
        "id": "zPT-Ze1wW3om"
      }
    },
    {
      "cell_type": "code",
      "source": [
        "a = np.array([2, 4, 5])\n",
        "b=np.array([2+1j,4+1j,5+1j ])\n",
        "print(np.iscomplex(a))\n",
        "print(np.isreal(a))\n",
        "print(np.isscalar(a))\n",
        "print(np.iscomplex(b))\n",
        "print(np.isreal(b))\n",
        "print(np.isscalar(b))"
      ],
      "metadata": {
        "colab": {
          "base_uri": "https://localhost:8080/"
        },
        "id": "xG5CAQUQW8gQ",
        "outputId": "b836d71c-70f3-4475-9f98-e092e434ba46"
      },
      "execution_count": 43,
      "outputs": [
        {
          "output_type": "stream",
          "name": "stdout",
          "text": [
            "[False False False]\n",
            "[ True  True  True]\n",
            "False\n",
            "[ True  True  True]\n",
            "[False False False]\n",
            "False\n"
          ]
        }
      ]
    },
    {
      "cell_type": "markdown",
      "source": [
        "NumPy program to test if two arrays are element-wise equal within a tolerance."
      ],
      "metadata": {
        "id": "1_bHxl1LZCen"
      }
    },
    {
      "cell_type": "code",
      "source": [
        "a = np.array([2, 4, 5])\n",
        "b=np.array([4,5,2])\n",
        "print(np.isclose(a,b,rtol=0.5))"
      ],
      "metadata": {
        "colab": {
          "base_uri": "https://localhost:8080/"
        },
        "id": "gaAg4KLjZF9f",
        "outputId": "9c3cdbc1-de7f-49b9-8a23-4036671a1963"
      },
      "execution_count": 49,
      "outputs": [
        {
          "output_type": "stream",
          "name": "stdout",
          "text": [
            "[ True  True False]\n"
          ]
        }
      ]
    },
    {
      "cell_type": "markdown",
      "source": [
        "NumPy program to create an element-wise comparison (greater, greater_equal, less and less_equal) of two given arrays."
      ],
      "metadata": {
        "id": "nUasMk68Z8el"
      }
    },
    {
      "cell_type": "code",
      "source": [
        "a = np.array([2,4,5,8,7])\n",
        "b=np.array([5,7,9,1,2])\n",
        "print(a>b)\n",
        "print(a>=b)\n",
        "print(a<b)\n",
        "print(a<=b)"
      ],
      "metadata": {
        "colab": {
          "base_uri": "https://localhost:8080/"
        },
        "id": "hiaXhuNpaAVr",
        "outputId": "8b5e93a8-3061-4508-f3a0-0a67f41ad387"
      },
      "execution_count": 50,
      "outputs": [
        {
          "output_type": "stream",
          "name": "stdout",
          "text": [
            "[False False False  True  True]\n",
            "[False False False  True  True]\n",
            "[ True  True  True False False]\n",
            "[ True  True  True False False]\n"
          ]
        }
      ]
    },
    {
      "cell_type": "markdown",
      "source": [
        "NumPy program to create an element-wise comparison (equal, equal within a tolerance) of two given arrays."
      ],
      "metadata": {
        "id": "ruHdeE8ga1Sj"
      }
    },
    {
      "cell_type": "code",
      "source": [
        "a= np.array([2,4,5,8,7])\n",
        "b= np.array([5,7,9,1,2])\n",
        "print(a==b)\n",
        "print(np.allclose(a,b,rtol=0.5))"
      ],
      "metadata": {
        "colab": {
          "base_uri": "https://localhost:8080/"
        },
        "id": "Y55WhPena7ER",
        "outputId": "fa21f9e4-721d-41a8-a34b-90196430a45b"
      },
      "execution_count": 52,
      "outputs": [
        {
          "output_type": "stream",
          "name": "stdout",
          "text": [
            "[False False False False False]\n",
            "False\n"
          ]
        }
      ]
    },
    {
      "cell_type": "markdown",
      "source": [
        "NumPy program to create an array with the values 1, 7, 13, 105 and determine the size of the memory occupied by the array."
      ],
      "metadata": {
        "id": "IhTMnW6wbldK"
      }
    },
    {
      "cell_type": "code",
      "source": [
        "a= np.array([1, 7, 13, 105])\n",
        "mem=a.nbytes\n",
        "print(mem)"
      ],
      "metadata": {
        "colab": {
          "base_uri": "https://localhost:8080/"
        },
        "id": "JdkFwg8_br1d",
        "outputId": "f8eb2344-cfac-42e3-c0e2-994a24d3bb5f"
      },
      "execution_count": 58,
      "outputs": [
        {
          "output_type": "stream",
          "name": "stdout",
          "text": [
            "32\n"
          ]
        }
      ]
    },
    {
      "cell_type": "markdown",
      "source": [
        "NumPy program to create an array of 10 zeros,10 ones, 10 fives."
      ],
      "metadata": {
        "id": "lvLkGIwGdNiw"
      }
    },
    {
      "cell_type": "code",
      "source": [
        "print(np.ones(10))\n",
        "print(np.zeros(10))\n",
        "print(np.ones(10)*5)"
      ],
      "metadata": {
        "colab": {
          "base_uri": "https://localhost:8080/"
        },
        "id": "LX1N7SCHdSJh",
        "outputId": "9723f389-e92e-47d8-87d0-577ec05737f8"
      },
      "execution_count": 61,
      "outputs": [
        {
          "output_type": "stream",
          "name": "stdout",
          "text": [
            "[1. 1. 1. 1. 1. 1. 1. 1. 1. 1.]\n",
            "[0. 0. 0. 0. 0. 0. 0. 0. 0. 0.]\n",
            "[5. 5. 5. 5. 5. 5. 5. 5. 5. 5.]\n"
          ]
        }
      ]
    },
    {
      "cell_type": "markdown",
      "source": [
        "NumPy program to create an array of the integers from 30 to70."
      ],
      "metadata": {
        "id": "OmrC1Bvjdqqx"
      }
    },
    {
      "cell_type": "code",
      "source": [
        "print(np.arange(30,70))"
      ],
      "metadata": {
        "colab": {
          "base_uri": "https://localhost:8080/"
        },
        "id": "WU-h-0NHduyz",
        "outputId": "15524cf3-a34d-4d51-9530-185d18559512"
      },
      "execution_count": 63,
      "outputs": [
        {
          "output_type": "stream",
          "name": "stdout",
          "text": [
            "[30 31 32 33 34 35 36 37 38 39 40 41 42 43 44 45 46 47 48 49 50 51 52 53\n",
            " 54 55 56 57 58 59 60 61 62 63 64 65 66 67 68 69]\n"
          ]
        }
      ]
    },
    {
      "cell_type": "markdown",
      "source": [
        "NumPy program to create an array of all the even integers from 30 to 70."
      ],
      "metadata": {
        "id": "NQXccEpKd_pm"
      }
    },
    {
      "cell_type": "code",
      "source": [
        "print(np.arange(30,70,2))"
      ],
      "metadata": {
        "colab": {
          "base_uri": "https://localhost:8080/"
        },
        "id": "LqZPOQnheCmU",
        "outputId": "7cc22a92-432b-420b-9ae1-d1fbbf4621a4"
      },
      "execution_count": 64,
      "outputs": [
        {
          "output_type": "stream",
          "name": "stdout",
          "text": [
            "[30 32 34 36 38 40 42 44 46 48 50 52 54 56 58 60 62 64 66 68]\n"
          ]
        }
      ]
    },
    {
      "cell_type": "markdown",
      "source": [
        "NumPy program to create a 3x3 identity matrix."
      ],
      "metadata": {
        "id": "Qzo2Y2iYeHSh"
      }
    },
    {
      "cell_type": "code",
      "source": [
        "print(np.identity(3))"
      ],
      "metadata": {
        "colab": {
          "base_uri": "https://localhost:8080/"
        },
        "id": "RxYKCGUUeJcy",
        "outputId": "c26e4950-c3a6-4b33-f610-dc0601bc7806"
      },
      "execution_count": 65,
      "outputs": [
        {
          "output_type": "stream",
          "name": "stdout",
          "text": [
            "[[1. 0. 0.]\n",
            " [0. 1. 0.]\n",
            " [0. 0. 1.]]\n"
          ]
        }
      ]
    },
    {
      "cell_type": "markdown",
      "source": [
        "NumPy program to generate a random number between 0 and 1."
      ],
      "metadata": {
        "id": "GV5vnWxPeTW4"
      }
    },
    {
      "cell_type": "code",
      "source": [
        "print(np.random.randn())"
      ],
      "metadata": {
        "colab": {
          "base_uri": "https://localhost:8080/"
        },
        "id": "eJJ8L_kGeWK0",
        "outputId": "6b65b6ce-3346-411e-ee85-ad4117ad357a"
      },
      "execution_count": 68,
      "outputs": [
        {
          "output_type": "stream",
          "name": "stdout",
          "text": [
            "-1.8451009818970754\n"
          ]
        }
      ]
    },
    {
      "cell_type": "markdown",
      "source": [
        "NumPy program to generate an array of 15 random numbers from a standard normal distribution."
      ],
      "metadata": {
        "id": "-pXsZ8-NeiJY"
      }
    },
    {
      "cell_type": "code",
      "source": [
        "print(np.random.randn(15))"
      ],
      "metadata": {
        "colab": {
          "base_uri": "https://localhost:8080/"
        },
        "id": "yyiz9OLhemdZ",
        "outputId": "8df7dec0-e68a-48fb-dca0-60498cc76d57"
      },
      "execution_count": 69,
      "outputs": [
        {
          "output_type": "stream",
          "name": "stdout",
          "text": [
            "[-0.62106558 -0.2785815   0.27786329 -1.16538032  0.07932327  0.00865032\n",
            "  0.57221024  0.71857846 -0.42615256 -0.02204689  0.85975878  0.83599367\n",
            "  1.04592534  0.47861422 -0.94072473]\n"
          ]
        }
      ]
    },
    {
      "cell_type": "markdown",
      "source": [
        "NumPy program to create a vector with values ranging from 15 to 55 and print all values except the first and last."
      ],
      "metadata": {
        "id": "H6__yluWevx-"
      }
    },
    {
      "cell_type": "code",
      "source": [
        "a=np.arange(15,56)\n",
        "print(a[1:-1])"
      ],
      "metadata": {
        "colab": {
          "base_uri": "https://localhost:8080/"
        },
        "id": "f7G-9KSmewbH",
        "outputId": "e6517916-5cbc-42a4-aa20-b83900eaa6ac"
      },
      "execution_count": 72,
      "outputs": [
        {
          "output_type": "stream",
          "name": "stdout",
          "text": [
            "[16 17 18 19 20 21 22 23 24 25 26 27 28 29 30 31 32 33 34 35 36 37 38 39\n",
            " 40 41 42 43 44 45 46 47 48 49 50 51 52 53 54]\n"
          ]
        }
      ]
    },
    {
      "cell_type": "markdown",
      "source": [
        "NumPy program to create a 3X4 array using and iterate over it."
      ],
      "metadata": {
        "id": "OKRduO98fOz0"
      }
    },
    {
      "cell_type": "code",
      "source": [
        "r=int(input(\"Enter the number of rows:\"))\n",
        "c=int(input(\"Enter the numberof columns:\"))\n",
        "a=[]\n",
        "for i in range(r):\n",
        "  rows=[]\n",
        "  for j in range(c):\n",
        "    element=int(input(f\"Enter the element ({i,j}):\"))\n",
        "    rows.append(element)\n",
        "  a.append(rows)\n",
        "matrix=np.array(a)\n",
        "print(matrix)\n",
        "for x in np.nditer(matrix):\n",
        "  print(x)"
      ],
      "metadata": {
        "colab": {
          "base_uri": "https://localhost:8080/"
        },
        "id": "J78lKYy7fSsO",
        "outputId": "fbebb537-a020-4906-ccdf-30dccf064cca"
      },
      "execution_count": 74,
      "outputs": [
        {
          "output_type": "stream",
          "name": "stdout",
          "text": [
            "Enter the number of rows:3\n",
            "Enter the numberof columns:4\n",
            "Enter the element ((0, 0)):1\n",
            "Enter the element ((0, 1)):2\n",
            "Enter the element ((0, 2)):3\n",
            "Enter the element ((0, 3)):4\n",
            "Enter the element ((1, 0)):4\n",
            "Enter the element ((1, 1)):5\n",
            "Enter the element ((1, 2)):6\n",
            "Enter the element ((1, 3)):7\n",
            "Enter the element ((2, 0)):6\n",
            "Enter the element ((2, 1)):7\n",
            "Enter the element ((2, 2)):8\n",
            "Enter the element ((2, 3)):9\n",
            "[[1 2 3 4]\n",
            " [4 5 6 7]\n",
            " [6 7 8 9]]\n",
            "1\n",
            "2\n",
            "3\n",
            "4\n",
            "4\n",
            "5\n",
            "6\n",
            "7\n",
            "6\n",
            "7\n",
            "8\n",
            "9\n"
          ]
        }
      ]
    },
    {
      "cell_type": "markdown",
      "source": [
        "NumPy program to create a vector of length 10 with values evenly distributed between 5 and 50."
      ],
      "metadata": {
        "id": "7DZ3Kd-Cg2uT"
      }
    },
    {
      "cell_type": "code",
      "source": [
        "print(np.linspace(5,50,10))"
      ],
      "metadata": {
        "colab": {
          "base_uri": "https://localhost:8080/"
        },
        "id": "gPZbk-ZYg7GE",
        "outputId": "87f07e73-e51b-487b-9b6b-ea7b6bfce6b0"
      },
      "execution_count": 79,
      "outputs": [
        {
          "output_type": "stream",
          "name": "stdout",
          "text": [
            "[ 5. 10. 15. 20. 25. 30. 35. 40. 45. 50.]\n"
          ]
        }
      ]
    },
    {
      "cell_type": "markdown",
      "source": [
        " NumPy program to create a vector with values from 0 to 20 and change the sign of the numbers in the range from 9 to 15."
      ],
      "metadata": {
        "id": "5j6SUiOah4Yv"
      }
    },
    {
      "cell_type": "code",
      "source": [
        "a=np.arange(20)\n",
        "a[(a >= 9) & (a <= 15)] *= -1\n",
        "print(a)"
      ],
      "metadata": {
        "colab": {
          "base_uri": "https://localhost:8080/"
        },
        "id": "QR1i7OLIh_tt",
        "outputId": "6309bb24-56a3-4fbd-9fd2-8408b2a64f61"
      },
      "execution_count": 153,
      "outputs": [
        {
          "output_type": "stream",
          "name": "stdout",
          "text": [
            "[  0   1   2   3   4   5   6   7   8  -9 -10 -11 -12 -13 -14 -15  16  17\n",
            "  18  19]\n"
          ]
        }
      ]
    },
    {
      "cell_type": "markdown",
      "source": [
        "NumPy program to create a vector of length 5 filled with arbitrary integers from 0 to 10."
      ],
      "metadata": {
        "id": "H0boWpRAkBjH"
      }
    },
    {
      "cell_type": "code",
      "source": [
        "print(np.random.randint(0,10,5))"
      ],
      "metadata": {
        "colab": {
          "base_uri": "https://localhost:8080/"
        },
        "id": "nTE0Vtc1kHGS",
        "outputId": "f9b105d1-1d19-47f9-c109-fb6851a7396f"
      },
      "execution_count": 92,
      "outputs": [
        {
          "output_type": "stream",
          "name": "stdout",
          "text": [
            "[0 5 1 7 3]\n"
          ]
        }
      ]
    },
    {
      "cell_type": "markdown",
      "source": [
        "NumPy program to multiply the values of two given vectors."
      ],
      "metadata": {
        "id": "BMl8Pt3-kUAS"
      }
    },
    {
      "cell_type": "code",
      "source": [
        "a= np.array([2,4,5,8,7])\n",
        "b= np.array([5,7,9,1,2])\n",
        "print(a*b)"
      ],
      "metadata": {
        "colab": {
          "base_uri": "https://localhost:8080/"
        },
        "id": "msW8WchpkXRZ",
        "outputId": "f3b58991-63d6-4eb2-bc3f-c466545a6f98"
      },
      "execution_count": 93,
      "outputs": [
        {
          "output_type": "stream",
          "name": "stdout",
          "text": [
            "[10 28 45  8 14]\n"
          ]
        }
      ]
    },
    {
      "cell_type": "markdown",
      "source": [
        "NumPy program to create a 3x4 matrix filled with values from 10 to 21."
      ],
      "metadata": {
        "id": "BUfnWTOHklcT"
      }
    },
    {
      "cell_type": "code",
      "source": [
        "a=np.arange(10,22).reshape(3,4)\n",
        "print(a)"
      ],
      "metadata": {
        "colab": {
          "base_uri": "https://localhost:8080/"
        },
        "id": "K-EnDrvGkoKf",
        "outputId": "74267dcd-0423-4f5f-82cd-e1e7c0380788"
      },
      "execution_count": 103,
      "outputs": [
        {
          "output_type": "stream",
          "name": "stdout",
          "text": [
            "[[10 11 12 13]\n",
            " [14 15 16 17]\n",
            " [18 19 20 21]]\n"
          ]
        }
      ]
    },
    {
      "cell_type": "markdown",
      "source": [
        "NumPy program to find the number of rows and columns of a given matrix."
      ],
      "metadata": {
        "id": "UIR1vbXilb2h"
      }
    },
    {
      "cell_type": "code",
      "source": [
        "a=np.arange(10,22).reshape(3,4)\n",
        "print(a.shape)\n"
      ],
      "metadata": {
        "colab": {
          "base_uri": "https://localhost:8080/"
        },
        "id": "5ExAurk7lhak",
        "outputId": "9423d959-d375-48b1-c2e6-dde6da8a8362"
      },
      "execution_count": 157,
      "outputs": [
        {
          "output_type": "stream",
          "name": "stdout",
          "text": [
            "(3, 4)\n"
          ]
        }
      ]
    },
    {
      "cell_type": "markdown",
      "source": [
        "NumPy program to create a 3x3 identity matrix, i.e. diagonal elements are 1, the rest are 0."
      ],
      "metadata": {
        "id": "RIbzf2sRlrgj"
      }
    },
    {
      "cell_type": "code",
      "source": [
        "print(np.identity(3))"
      ],
      "metadata": {
        "colab": {
          "base_uri": "https://localhost:8080/"
        },
        "id": "XHk9JSRVlvD3",
        "outputId": "fd7eb430-6cde-4181-a3e4-8e0a74017864"
      },
      "execution_count": 106,
      "outputs": [
        {
          "output_type": "stream",
          "name": "stdout",
          "text": [
            "[[1. 0. 0.]\n",
            " [0. 1. 0.]\n",
            " [0. 0. 1.]]\n"
          ]
        }
      ]
    },
    {
      "cell_type": "markdown",
      "source": [
        "NumPy program to create a 10x10 matrix, in which the elements on the borders will be equal to 1, and inside 0."
      ],
      "metadata": {
        "id": "oEaOWgFLl0fv"
      }
    },
    {
      "cell_type": "code",
      "source": [
        "a=np.zeros((10,10))\n",
        "a[0,:]=1\n",
        "a[-1,:]=1\n",
        "a[:,0]=1\n",
        "a[:,-1]=1\n",
        "print(a)"
      ],
      "metadata": {
        "colab": {
          "base_uri": "https://localhost:8080/"
        },
        "id": "9NPVdJebl4IA",
        "outputId": "83185d52-d3fa-4281-f371-8040a8dcc743"
      },
      "execution_count": 110,
      "outputs": [
        {
          "output_type": "stream",
          "name": "stdout",
          "text": [
            "[[1. 1. 1. 1. 1. 1. 1. 1. 1. 1.]\n",
            " [1. 0. 0. 0. 0. 0. 0. 0. 0. 1.]\n",
            " [1. 0. 0. 0. 0. 0. 0. 0. 0. 1.]\n",
            " [1. 0. 0. 0. 0. 0. 0. 0. 0. 1.]\n",
            " [1. 0. 0. 0. 0. 0. 0. 0. 0. 1.]\n",
            " [1. 0. 0. 0. 0. 0. 0. 0. 0. 1.]\n",
            " [1. 0. 0. 0. 0. 0. 0. 0. 0. 1.]\n",
            " [1. 0. 0. 0. 0. 0. 0. 0. 0. 1.]\n",
            " [1. 0. 0. 0. 0. 0. 0. 0. 0. 1.]\n",
            " [1. 1. 1. 1. 1. 1. 1. 1. 1. 1.]]\n"
          ]
        }
      ]
    },
    {
      "cell_type": "markdown",
      "source": [
        "NumPy program to create a 5x5 zero matrix with elements on the main diagonal equal to 1, 2, 3, 4, 5."
      ],
      "metadata": {
        "id": "NLoLN46mmlGP"
      }
    },
    {
      "cell_type": "code",
      "source": [
        "a=np.zeros((5,5))\n",
        "np.fill_diagonal(a,np.arange(1,6))\n",
        "print(a)"
      ],
      "metadata": {
        "colab": {
          "base_uri": "https://localhost:8080/"
        },
        "id": "DCeLUtaOmoEl",
        "outputId": "f9a1ee79-b00b-4ef6-ac75-d73556f66226"
      },
      "execution_count": 112,
      "outputs": [
        {
          "output_type": "stream",
          "name": "stdout",
          "text": [
            "[[1. 0. 0. 0. 0.]\n",
            " [0. 2. 0. 0. 0.]\n",
            " [0. 0. 3. 0. 0.]\n",
            " [0. 0. 0. 4. 0.]\n",
            " [0. 0. 0. 0. 5.]]\n"
          ]
        }
      ]
    },
    {
      "cell_type": "markdown",
      "source": [
        " NumPy program to create an 4x4 matrix in which 0 and 1 are staggered, with zeros on the main diagonal."
      ],
      "metadata": {
        "id": "2kSG9XNGnMFv"
      }
    },
    {
      "cell_type": "code",
      "source": [
        "a=np.ones((4,4))\n",
        "np.fill_diagonal(a,0)\n",
        "print(a)"
      ],
      "metadata": {
        "colab": {
          "base_uri": "https://localhost:8080/"
        },
        "id": "6opDdykOnP5H",
        "outputId": "5822cbf6-ae29-4ed5-8a3f-9b575de3796b"
      },
      "execution_count": 113,
      "outputs": [
        {
          "output_type": "stream",
          "name": "stdout",
          "text": [
            "[[0. 1. 1. 1.]\n",
            " [1. 0. 1. 1.]\n",
            " [1. 1. 0. 1.]\n",
            " [1. 1. 1. 0.]]\n"
          ]
        }
      ]
    },
    {
      "cell_type": "markdown",
      "source": [
        "NumPy program to create a 3x3x3 array filled with arbitrary values.\n"
      ],
      "metadata": {
        "id": "ntjLNK2fnhFC"
      }
    },
    {
      "cell_type": "code",
      "source": [
        "print(np.random.rand(3,3,3))"
      ],
      "metadata": {
        "colab": {
          "base_uri": "https://localhost:8080/"
        },
        "id": "wGODcgRRnlNE",
        "outputId": "2c7b5bd1-b6be-427e-e42e-60280aa25b75"
      },
      "execution_count": 117,
      "outputs": [
        {
          "output_type": "stream",
          "name": "stdout",
          "text": [
            "[[[0.83569243 0.8963512  0.86400991]\n",
            "  [0.09993288 0.57000112 0.72025911]\n",
            "  [0.00909075 0.4642508  0.48833751]]\n",
            "\n",
            " [[0.36951097 0.18734323 0.15565192]\n",
            "  [0.21581651 0.46207806 0.39415047]\n",
            "  [0.95320692 0.72717318 0.78882993]]\n",
            "\n",
            " [[0.1898237  0.04359372 0.3478135 ]\n",
            "  [0.76824515 0.68242872 0.60647641]\n",
            "  [0.04715575 0.42219387 0.27235568]]]\n"
          ]
        }
      ]
    },
    {
      "cell_type": "markdown",
      "source": [
        "NumPy program to compute sum of all elements, sum of each column and sum of each row of an given array."
      ],
      "metadata": {
        "id": "Ep7xRGPon6Hb"
      }
    },
    {
      "cell_type": "code",
      "source": [
        "a= np.arange(9).reshape(3,3)\n",
        "print(a)\n",
        "print(np.sum(a))\n",
        "print(np.sum(a,1))\n",
        "print(np.sum(a,0))\n"
      ],
      "metadata": {
        "colab": {
          "base_uri": "https://localhost:8080/"
        },
        "id": "6kKiIk0qn-CQ",
        "outputId": "a5618923-e2ec-4c9c-93dd-8d6873604617"
      },
      "execution_count": 120,
      "outputs": [
        {
          "output_type": "stream",
          "name": "stdout",
          "text": [
            "[[0 1 2]\n",
            " [3 4 5]\n",
            " [6 7 8]]\n",
            "36\n",
            "[ 3 12 21]\n",
            "[ 9 12 15]\n"
          ]
        }
      ]
    },
    {
      "cell_type": "markdown",
      "source": [
        "NumPy program to compute the inner product of two given vectors."
      ],
      "metadata": {
        "id": "hyq_1o9oosUA"
      }
    },
    {
      "cell_type": "code",
      "source": [
        "a= np.array([2,4,5,8,7])\n",
        "b= np.array([5,7,9,1,2])\n",
        "print(np.dot(a,b))"
      ],
      "metadata": {
        "colab": {
          "base_uri": "https://localhost:8080/"
        },
        "id": "wUgHefFEowBi",
        "outputId": "b23ce53e-2536-441a-cbf7-bfd86e707d7c"
      },
      "execution_count": 121,
      "outputs": [
        {
          "output_type": "stream",
          "name": "stdout",
          "text": [
            "105\n"
          ]
        }
      ]
    },
    {
      "cell_type": "markdown",
      "source": [
        "NumPy program to add a vector to each row of a given matrix."
      ],
      "metadata": {
        "id": "bq7iHIrppMgo"
      }
    },
    {
      "cell_type": "code",
      "source": [
        "a= np.array([2,4,5])\n",
        "b= np.arange(9).reshape(3,3)\n",
        "print(b)\n",
        "print(a+b)"
      ],
      "metadata": {
        "colab": {
          "base_uri": "https://localhost:8080/"
        },
        "id": "ph8_G0tspQVI",
        "outputId": "4e278c94-89a2-46e4-c39d-0f43cd1709b4"
      },
      "execution_count": 123,
      "outputs": [
        {
          "output_type": "stream",
          "name": "stdout",
          "text": [
            "[[0 1 2]\n",
            " [3 4 5]\n",
            " [6 7 8]]\n",
            "[[ 2  5  7]\n",
            " [ 5  8 10]\n",
            " [ 8 11 13]]\n"
          ]
        }
      ]
    },
    {
      "cell_type": "markdown",
      "source": [
        "NumPy program to save a given array to a binary file ."
      ],
      "metadata": {
        "id": "Os5KrsgPpnC1"
      }
    },
    {
      "cell_type": "code",
      "source": [
        "a= np.array([2,4,5])\n",
        "file_name=\"first.npy\"\n",
        "np.save(file_name,a)\n",
        "print(f\"Ärray saved in {file_name}\")"
      ],
      "metadata": {
        "colab": {
          "base_uri": "https://localhost:8080/"
        },
        "id": "aqdvx2PLpq0_",
        "outputId": "fc249e59-699e-40b5-ad13-ad10ce9180d0"
      },
      "execution_count": 125,
      "outputs": [
        {
          "output_type": "stream",
          "name": "stdout",
          "text": [
            "Ärray saved in first.npy\n"
          ]
        }
      ]
    },
    {
      "cell_type": "markdown",
      "source": [
        "NumPy program to save two given arrays into a single file in compressed format (.npz format) and load it."
      ],
      "metadata": {
        "id": "e1z0IY4XqN_-"
      }
    },
    {
      "cell_type": "code",
      "source": [
        "a= np.array([2,4,5,8,7])\n",
        "b= np.array([5,7,9,1,2])\n",
        "filename=\"compresse.npz\"\n",
        "np.savez_compressed(filename,array1=a,array2=b)\n",
        "loaded_arrs=np.load(filename)\n",
        "a1=loaded_arrs['array1']\n",
        "b1=loaded_arrs['array2']\n",
        "print(a1)\n",
        "print(b1)"
      ],
      "metadata": {
        "colab": {
          "base_uri": "https://localhost:8080/"
        },
        "id": "rcSYsrkzqn9f",
        "outputId": "b9a99c55-fa66-4c38-cbbf-061799434fad"
      },
      "execution_count": 128,
      "outputs": [
        {
          "output_type": "stream",
          "name": "stdout",
          "text": [
            "[2 4 5 8 7]\n",
            "[5 7 9 1 2]\n"
          ]
        }
      ]
    },
    {
      "cell_type": "markdown",
      "source": [
        "NumPy program to save a given array to a text file and load it."
      ],
      "metadata": {
        "id": "eXOntNVqrooH"
      }
    },
    {
      "cell_type": "code",
      "source": [
        "a= np.array([2,4,5,8,7])\n",
        "filename=\"new.txt\"\n",
        "np.savetxt(filename,a,delimiter=\",\")\n",
        "loaded_arr=np.loadtxt(filename,delimiter=\",\")\n",
        "print(loaded_arr)"
      ],
      "metadata": {
        "colab": {
          "base_uri": "https://localhost:8080/"
        },
        "id": "B6EHvsyorrTC",
        "outputId": "82b59b34-6157-4c94-94cd-dece772bb5d6"
      },
      "execution_count": 130,
      "outputs": [
        {
          "output_type": "stream",
          "name": "stdout",
          "text": [
            "[2. 4. 5. 8. 7.]\n"
          ]
        }
      ]
    },
    {
      "cell_type": "markdown",
      "source": [
        "NumPy program to convert a given array into bytes, and load it as array."
      ],
      "metadata": {
        "id": "yQuqb63JsZe4"
      }
    },
    {
      "cell_type": "code",
      "source": [
        "a= np.array([2,4,5,8,7])\n",
        "new=a.tobytes()\n",
        "loaded_arr=np.frombuffer(new,dtype=np.int32)\n",
        "print(loaded_arr)"
      ],
      "metadata": {
        "colab": {
          "base_uri": "https://localhost:8080/"
        },
        "id": "RjvZjEn9sdq0",
        "outputId": "d1f1f90b-0c03-471a-fbff-b8a9e2e126b1"
      },
      "execution_count": 132,
      "outputs": [
        {
          "output_type": "stream",
          "name": "stdout",
          "text": [
            "[2 0 4 0 5 0 8 0 7 0]\n"
          ]
        }
      ]
    },
    {
      "cell_type": "markdown",
      "source": [
        "NumPy program to convert a given array into a list and then convert it into a list again."
      ],
      "metadata": {
        "id": "L3l59I_rtRfr"
      }
    },
    {
      "cell_type": "code",
      "source": [
        "a= np.array([2,4,5,8,7])\n",
        "new=a.tolist()\n",
        "b=list(new)\n",
        "print(b)"
      ],
      "metadata": {
        "colab": {
          "base_uri": "https://localhost:8080/"
        },
        "id": "1SfZqJ9ItViW",
        "outputId": "610bb37b-fc8d-4d6d-dd72-6a176f7d884e"
      },
      "execution_count": 133,
      "outputs": [
        {
          "output_type": "stream",
          "name": "stdout",
          "text": [
            "[2, 4, 5, 8, 7]\n"
          ]
        }
      ]
    },
    {
      "cell_type": "markdown",
      "source": [
        "NumPy program to compute the x and y coordinates for points on a sine curve and plot the points using matplotlib."
      ],
      "metadata": {
        "id": "cnXtQBXFtryp"
      }
    },
    {
      "cell_type": "code",
      "source": [
        "import matplotlib.pyplot as plt\n",
        "x=np.arange(0,5*np.pi,0.2)\n",
        "y=np.sin(x)\n",
        "plt.plot(x,y)"
      ],
      "metadata": {
        "colab": {
          "base_uri": "https://localhost:8080/",
          "height": 447
        },
        "id": "Ht1iliuFtxIy",
        "outputId": "779eb07c-6df5-450f-d005-5af942b5580c"
      },
      "execution_count": 148,
      "outputs": [
        {
          "output_type": "execute_result",
          "data": {
            "text/plain": [
              "[<matplotlib.lines.Line2D at 0x780e550ef940>]"
            ]
          },
          "metadata": {},
          "execution_count": 148
        },
        {
          "output_type": "display_data",
          "data": {
            "text/plain": [
              "<Figure size 640x480 with 1 Axes>"
            ],
            "image/png": "[encoded data removed]"
          },
          "metadata": {}
        }
      ]
    },
    {
      "cell_type": "markdown",
      "source": [
        "NumPy program to convert numpy dtypes to native python types."
      ],
      "metadata": {
        "id": "uOp7OsMYu8fz"
      }
    },
    {
      "cell_type": "code",
      "source": [
        "a= np.array([2,4,5,8,7])\n",
        "new=a.tolist()\n",
        "print(type(a))\n",
        "print(type(new))"
      ],
      "metadata": {
        "colab": {
          "base_uri": "https://localhost:8080/"
        },
        "id": "mAUYxMg4u_Pl",
        "outputId": "7d61efb9-e777-4cd9-e5b3-ea12c5909cc6"
      },
      "execution_count": 143,
      "outputs": [
        {
          "output_type": "stream",
          "name": "stdout",
          "text": [
            "<class 'numpy.ndarray'>\n",
            "<class 'list'>\n"
          ]
        }
      ]
    }
  ]
}